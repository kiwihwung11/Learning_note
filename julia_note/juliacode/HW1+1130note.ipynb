{
 "cells": [
  {
   "cell_type": "code",
   "execution_count": 7,
   "metadata": {},
   "outputs": [
    {
     "name": "stdout",
     "output_type": "stream",
     "text": [
      "請輸入你的姓名\n",
      "stdin> cj;6\n",
      "請輸入你的身高(公分)\n",
      "stdin> 175\n",
      "請輸入你的體重(公斤)\n",
      "stdin> 65\n",
      "cj;6你好您所輸入的資料如下:身高:175.0公分，體重:65.0公斤，我們為您計算最新的BMI指數為20.86\n"
     ]
    }
   ],
   "source": [
    "#功課1  (已經解答)\n",
    "#BMI計算機 BMI=1.3kg/m^2.5\n",
    "println(\"請輸入你的姓名\")\n",
    "name=readline()\n",
    "\n",
    "println(\"請輸入你的身高(公分)\")\n",
    "\n",
    "#try代表嘗試這段程式，catch代表出現錯誤時的反應，要配合迴圈才可以重複執行\n",
    "height=readline()\n",
    "\n",
    "try\n",
    "    height=parse(Float64, height)\n",
    "catch\n",
    "    println(\"請重新輸入數字\")\n",
    "    height=readline()\n",
    "    height=parse(Float64, height)\n",
    "end\n",
    "\n",
    "println(\"請輸入你的體重(公斤)\")\n",
    "weight=readline() \n",
    "\n",
    "try\n",
    "    weight=parse(Float64, weight)\n",
    "catch\n",
    "    println(\"請輸入數字\")\n",
    "    weight=readline() \n",
    "    weight=parse(Float64, weight)\n",
    "end\n",
    "\n",
    "\n",
    "BMI=weight*1.3/(height/100)^2.5\n",
    "BMI2= round(BMI, digits=2)\n",
    "    \n",
    "println(name,\"你好\",\"您所輸入的資料如下:身高:\",height,\"公分\",\"，體重:\",weight,\"公斤\",\"，我們為您計算最新的BMI指數為\",BMI2)\n"
   ]
  },
  {
   "cell_type": "code",
   "execution_count": 15,
   "metadata": {},
   "outputs": [
    {
     "name": "stdout",
     "output_type": "stream",
     "text": [
      "請輸入姓名\n",
      "stdin> cj\n",
      "請輸入產品項目1\n",
      "stdin> 魚肉\n",
      "請輸入該產品金額\n",
      "stdin> 100\n",
      "請輸入產品項目2\n",
      "stdin> 魚肉\n",
      "請輸入該產品金額\n",
      "stdin> 100\n",
      "請輸入產品項目3\n",
      "stdin> 魚肉\n",
      "請輸入該產品金額\n",
      "stdin> 100\n",
      "請輸入產品項目4\n",
      "stdin> 魚肉\n",
      "請輸入該產品金額\n",
      "stdin> 100\n",
      "請輸入產品項目5\n",
      "stdin> 魚肉\n",
      "請輸入該產品金額\n",
      "stdin> 100\n",
      "cj您好!您的總開銷為:500.0，平均消費金額為:100.0\n"
     ]
    }
   ],
   "source": [
    "#功課2\n",
    "println(\"請輸入姓名\")\n",
    "name=readline()\n",
    "\n",
    "println(\"請輸入產品項目1\")\n",
    "A1=readline()\n",
    "\n",
    "println(\"請輸入該產品金額\")\n",
    "B1=parse(Float64,readline())\n",
    "\n",
    "println(\"請輸入產品項目2\")\n",
    "A2=readline()\n",
    "\n",
    "println(\"請輸入該產品金額\")\n",
    "B2=parse(Float64,readline())\n",
    "\n",
    "println(\"請輸入產品項目3\")\n",
    "A3=readline()\n",
    "\n",
    "println(\"請輸入該產品金額\")\n",
    "B3=parse(Float64,readline())\n",
    "\n",
    "println(\"請輸入產品項目4\")\n",
    "A4=readline()\n",
    "\n",
    "println(\"請輸入該產品金額\")\n",
    "B4=parse(Float64,readline())\n",
    "\n",
    "println(\"請輸入產品項目5\")\n",
    "A5=readline()\n",
    "\n",
    "println(\"請輸入該產品金額\")\n",
    "B5=parse(Float64,readline())\n",
    "\n",
    "TC=B1+B2+B3+B4+B5\n",
    "TA=(B1+B2+B3+B4+B5)/5\n",
    "\n",
    "println(name,\"您好!\",\"您的總開銷為:\",TC,\"，平均消費金額為:\",TA)"
   ]
  },
  {
   "cell_type": "code",
   "execution_count": 7,
   "metadata": {},
   "outputs": [
    {
     "data": {
      "text/plain": [
       "true"
      ]
     },
     "execution_count": 7,
     "metadata": {},
     "output_type": "execute_result"
    }
   ],
   "source": [
    "#occursin(男孩,我是男孩) 正確   邏輯是(檢驗的字串,包含在裡面的字串) 檢驗字串是否包含在裡面\n",
    "occursin(\"boy\" , \"I am a boy\")"
   ]
  },
  {
   "cell_type": "code",
   "execution_count": 12,
   "metadata": {},
   "outputs": [
    {
     "data": {
      "text/plain": [
       "false"
      ]
     },
     "execution_count": 12,
     "metadata": {},
     "output_type": "execute_result"
    }
   ],
   "source": [
    "#功課一解題 中文輸入\n",
    "println(\"請輸入身高\")\n",
    "height=readline()\n",
    "if occursin(\"1\",height)==true\n",
    "elseif occursin(\"2\",height)==true\n",
    "elseif occursin(\"3\",height)==true\n",
    "    #一直輸入到九，可是如果不再你打的範圍內就會過去，標準答案看上面"
   ]
  },
  {
   "cell_type": "code",
   "execution_count": null,
   "metadata": {},
   "outputs": [],
   "source": []
  }
 ],
 "metadata": {
  "kernelspec": {
   "display_name": "Julia 1.0.1",
   "language": "julia",
   "name": "julia-1.0"
  },
  "language_info": {
   "file_extension": ".jl",
   "mimetype": "application/julia",
   "name": "julia",
   "version": "1.0.1"
  }
 },
 "nbformat": 4,
 "nbformat_minor": 2
}
