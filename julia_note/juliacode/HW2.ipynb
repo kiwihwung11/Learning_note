{
 "cells": [
  {
   "cell_type": "code",
   "execution_count": 10,
   "metadata": {},
   "outputs": [
    {
     "name": "stdout",
     "output_type": "stream",
     "text": [
      "stdin> 20\n",
      "stdin> 20\n",
      "stdin> 20\n",
      "您所輸入的三個數字為20、20、20其中最大的整數為:20最小的整數為:20\n"
     ]
    }
   ],
   "source": [
    "x=parse(Int64,readline())\n",
    "y=parse(Int64,readline())\n",
    "z=parse(Int64,readline())\n",
    "\n",
    "if x>y>z\n",
    "    println(\"您所輸入的三個數字為\",x,\"、\",y,\"、\",z,\"其中\",\"最大的整數為:\",x,\"最小的整數為:\",z)\n",
    "elseif x>z>y\n",
    "    println(\"您所輸入的三個數字為\",x,\"、\",y,\"、\",z,\"其中\",\"最大的整數為:\",x,\"最小的整數為:\",y)\n",
    "elseif y>x>z\n",
    "    println(\"您所輸入的三個數字為\",x,\"、\",y,\"、\",z,\"其中\",\"最大的整數為:\",y,\"最小的整數為:\",z)\n",
    "elseif y>z>x\n",
    "    println(\"您所輸入的三個數字為\",x,\"、\",y,\"、\",z,\"其中\",\"最大的整數為:\",y,\"最小的整數為:\",x)\n",
    "elseif z>y>x\n",
    "    println(\"您所輸入的三個數字為\",x,\"、\",y,\"、\",z,\"其中\",\"最大的整數為:\",z,\"最小的整數為:\",x)\n",
    "    else z>x>y\n",
    "    println(\"您所輸入的三個數字為\",x,\"、\",y,\"、\",z,\"其中\",\"最大的整數為:\",z,\"最小的整數為:\",y)\n",
    "end\n",
    "#最短要判斷a跟b，a跟c，最後b跟c。"
   ]
  },
  {
   "cell_type": "code",
   "execution_count": 8,
   "metadata": {},
   "outputs": [
    {
     "name": "stdout",
     "output_type": "stream",
     "text": [
      "猜數字遊戲!\n",
      "請在1~100猜一個數字，輸入0可結束遊戲\n",
      "可以猜五次這是您猜的第1次\n",
      "stdin> 50\n",
      "您猜得太大\n",
      "可以猜五次這是您猜的第2次\n",
      "stdin> 50\n",
      "您猜得太大\n",
      "可以猜五次這是您猜的第3次\n",
      "stdin> 50\n",
      "您猜得太大\n",
      "可以猜五次這是您猜的第4次\n",
      "stdin> 50\n",
      "您猜得太大\n",
      "可以猜五次這是您猜的第5次\n",
      "stdin> 50\n",
      "很抱歉您沒猜中，答案是32\n"
     ]
    }
   ],
   "source": [
    "println(\"猜數字遊戲!\")\n",
    "for x=rand(1:100)\n",
    "    println(\"請在1~100猜一個數字，輸入0可結束遊戲\")\n",
    "    for y=1:5\n",
    "        println(\"可以猜五次\",\"這是您猜的第\",y,\"次\")\n",
    "        z=parse(Float64,readline())\n",
    "        if y==5\n",
    "            println(\"很抱歉您沒猜中\",\"，答案是\",x)\n",
    "            break\n",
    "        end\n",
    "        if z==0\n",
    "            break\n",
    "        elseif z<0\n",
    "            println(\"您輸入的數字不在範圍內\") \n",
    "        elseif z>100\n",
    "            println(\"您輸入的數字不在範圍內\") \n",
    "        elseif x>z\n",
    "            println(\"您猜得太小\") \n",
    "        elseif x<z\n",
    "            println(\"您猜得太大\")\n",
    "        else\n",
    "            x==z\n",
    "            println(\"恭喜您猜中了!\")\n",
    "            break\n",
    "        end\n",
    "    end\n",
    "end\n",
    "#如何在使用者沒有要結束時，遊戲自動重新開始?\n",
    "#當使用者輸入中文發現錯誤時，我該如何保留他的答題次數使他重新輸入?"
   ]
  },
  {
   "cell_type": "code",
   "execution_count": 12,
   "metadata": {},
   "outputs": [
    {
     "name": "stdout",
     "output_type": "stream",
     "text": [
      "stdin> 99\n",
      "stdin> 99\n",
      "stdin> 99\n",
      "您所輸入的三個數字為99、99、99\n",
      "其中最大的整數為3最小的整數為1\n"
     ]
    }
   ],
   "source": [
    "#助教解答\n",
    "a=parse(Int64,readline())\n",
    "b=parse(Int64,readline())\n",
    "c=parse(Int64,readline())\n",
    "println(\"您所輸入的三個數字為\",a,\"、\",b,\"、\",c)\n",
    "\n",
    "if a>b\n",
    "    if b>c\n",
    "        maxn=a\n",
    "        minn=c\n",
    "    else\n",
    "        if a>c\n",
    "            maxn=a\n",
    "            minn=b\n",
    "        else\n",
    "            maxn=c\n",
    "            minn=b\n",
    "        end\n",
    "    end\n",
    "elseif a<b\n",
    "    if c<a\n",
    "        maxn=b\n",
    "        minn=c\n",
    "    else\n",
    "        if b<c\n",
    "            maxn=c\n",
    "            minn=a\n",
    "        else\n",
    "            maxn=b\n",
    "            minn=a\n",
    "        end\n",
    "    end\n",
    "end\n",
    "println(\"其中\",\"最大的整數為\",maxn,\"最小的整數為\",minn)"
   ]
  },
  {
   "cell_type": "code",
   "execution_count": 15,
   "metadata": {},
   "outputs": [
    {
     "name": "stdout",
     "output_type": "stream",
     "text": [
      "stdin> 50\n",
      "您猜得太大\n",
      "stdin> 50\n",
      "您猜得太大\n",
      "stdin> 50\n",
      "您猜得太大\n",
      "stdin> 50\n",
      "您猜得太大\n",
      "stdin> 50\n",
      "您猜得太大\n"
     ]
    }
   ],
   "source": [
    "x=rand(1:100)\n",
    "a=0\n",
    "while a<5\n",
    "    un=parse(Int64,readline())\n",
    "    if un== 0\n",
    "        a=5\n",
    "    elseif x<un\n",
    "        println(\"您猜得太大\")\n",
    "    elseif x>un\n",
    "        println(\"您猜得太小\")\n",
    "    elseif x== un\n",
    "        println(\"您猜中了\")\n",
    "        a=5\n",
    "    end\n",
    "    a+=1\n",
    "end"
   ]
  },
  {
   "cell_type": "code",
   "execution_count": null,
   "metadata": {},
   "outputs": [],
   "source": []
  }
 ],
 "metadata": {
  "kernelspec": {
   "display_name": "Julia 1.0.1",
   "language": "julia",
   "name": "julia-1.0"
  },
  "language_info": {
   "file_extension": ".jl",
   "mimetype": "application/julia",
   "name": "julia",
   "version": "1.0.1"
  }
 },
 "nbformat": 4,
 "nbformat_minor": 2
}
