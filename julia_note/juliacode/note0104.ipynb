{
 "cells": [
  {
   "cell_type": "code",
   "execution_count": 1,
   "metadata": {},
   "outputs": [
    {
     "name": "stdout",
     "output_type": "stream",
     "text": [
      "hello!"
     ]
    },
    {
     "data": {
      "text/plain": [
       "6"
      ]
     },
     "execution_count": 1,
     "metadata": {},
     "output_type": "execute_result"
    }
   ],
   "source": [
    "#檔案讀寫\n",
    "#序列化，電腦會自動理解你打得code\n",
    "#標準輸出\n",
    "write(stdout,\"hello!\")"
   ]
  },
  {
   "cell_type": "code",
   "execution_count": null,
   "metadata": {},
   "outputs": [],
   "source": [
    "readline(stdin) #standered input 標準輸入 去讀文字直到使用者按下enter"
   ]
  },
  {
   "cell_type": "code",
   "execution_count": 17,
   "metadata": {},
   "outputs": [
    {
     "data": {
      "text/plain": [
       "IOStream(<file test.txt>)"
      ]
     },
     "execution_count": 17,
     "metadata": {},
     "output_type": "execute_result"
    }
   ],
   "source": [
    "#文字檔的ˇ讀寫\n",
    "file= open(\"test.txt\",\"r\")  #file是很特別的type他會一直開著這個檔案讓你使用 ，但要記得close"
   ]
  },
  {
   "cell_type": "code",
   "execution_count": 18,
   "metadata": {},
   "outputs": [
    {
     "data": {
      "text/plain": [
       "Array{UInt8,1}"
      ]
     },
     "execution_count": 18,
     "metadata": {},
     "output_type": "execute_result"
    }
   ],
   "source": [
    "text= read(file)\n",
    "typeof(text)"
   ]
  },
  {
   "cell_type": "code",
   "execution_count": 19,
   "metadata": {},
   "outputs": [],
   "source": [
    "close(file)"
   ]
  },
  {
   "cell_type": "code",
   "execution_count": 20,
   "metadata": {},
   "outputs": [
    {
     "data": {
      "text/plain": [
       "\"6 hello!6 hello!\""
      ]
     },
     "execution_count": 20,
     "metadata": {},
     "output_type": "execute_result"
    }
   ],
   "source": [
    "String(text)"
   ]
  },
  {
   "cell_type": "code",
   "execution_count": 21,
   "metadata": {},
   "outputs": [],
   "source": [
    "file= open(\"test.txt\")\n",
    "text=read(file, String)\n",
    "close(file)"
   ]
  },
  {
   "cell_type": "code",
   "execution_count": 22,
   "metadata": {},
   "outputs": [
    {
     "data": {
      "text/plain": [
       "\"6 hello!6 hello!\""
      ]
     },
     "execution_count": 22,
     "metadata": {},
     "output_type": "execute_result"
    }
   ],
   "source": [
    "open(\"test.txt\") do file\n",
    "    text= readline(file)\n",
    "end"
   ]
  },
  {
   "cell_type": "code",
   "execution_count": 23,
   "metadata": {},
   "outputs": [
    {
     "data": {
      "text/plain": [
       "\"6 hello!6 hello!\""
      ]
     },
     "execution_count": 23,
     "metadata": {},
     "output_type": "execute_result"
    }
   ],
   "source": [
    "open(\"test.txt\") do file\n",
    "    text= readline(file)  #readline只讀一行 如果是用read就會全部跑\n",
    "end"
   ]
  },
  {
   "cell_type": "code",
   "execution_count": 25,
   "metadata": {},
   "outputs": [
    {
     "name": "stdout",
     "output_type": "stream",
     "text": [
      "6 hello!6 hello!\n",
      "6 hello!\n"
     ]
    }
   ],
   "source": [
    "#能否把整個檔案讀完呢?\n",
    "open(\"test.txt\") do file\n",
    "    while !eof(file)        #!eof會跑到檔案沒有資料為止\n",
    "        text= readline(file)\n",
    "        println(text)\n",
    "    end\n",
    "end"
   ]
  },
  {
   "cell_type": "code",
   "execution_count": 43,
   "metadata": {},
   "outputs": [
    {
     "name": "stdout",
     "output_type": "stream",
     "text": [
      "x\n"
     ]
    }
   ],
   "source": [
    "open(\"test.txt\") do file\n",
    "    for line in eachline(file)  #每次讀一行然後印出\n",
    "        println(line)\n",
    "    end\n",
    "end"
   ]
  },
  {
   "cell_type": "code",
   "execution_count": 50,
   "metadata": {},
   "outputs": [
    {
     "data": {
      "text/plain": [
       "6"
      ]
     },
     "execution_count": 50,
     "metadata": {},
     "output_type": "execute_result"
    }
   ],
   "source": [
    "#練習\n",
    "function tri(x)\n",
    "    return for i=1:5\n",
    "    println(\" \"^(5-i),\"o\"^(2i-1))\n",
    "    end\n",
    "end\n",
    "\n",
    "open(\"test.txt\", \"w\") do file  #r代表read W代表write(這個可能會把整個檔案刪光供你寫入) a代表append\n",
    "    write(file, \"tri(x)\")\n",
    "end"
   ]
  },
  {
   "cell_type": "code",
   "execution_count": 26,
   "metadata": {},
   "outputs": [
    {
     "data": {
      "text/plain": [
       "\"C:\\\\Users\\\\kiwii\""
      ]
     },
     "execution_count": 26,
     "metadata": {},
     "output_type": "execute_result"
    }
   ],
   "source": [
    "pwd() #要julia幫你開檔案就要存在這裡面"
   ]
  },
  {
   "cell_type": "code",
   "execution_count": 54,
   "metadata": {},
   "outputs": [],
   "source": [
    "#解答\n",
    "open(\"test.txt\", \"w\") do file  #r代表read W代表write(這個可能會把整個檔案刪光供你寫入) a代表append\n",
    "    for i=1:5\n",
    "        write(file, \" \"^(5-i),\"o\"^(2i-1),\"\\n\")\n",
    "    end\n",
    "end"
   ]
  },
  {
   "cell_type": "code",
   "execution_count": 55,
   "metadata": {},
   "outputs": [],
   "source": [
    "#物件導向的程式 把很常使用的東西寫成物件(模組)，以後要用就可以直接拿來用\n",
    "#但是當我們宣告一個物件時不代表他真的存在，需要經過「實體化」--當你真的把它做出來  「初始化」--可以任意改變內容的彈性，處於設計階段"
   ]
  },
  {
   "cell_type": "code",
   "execution_count": 57,
   "metadata": {},
   "outputs": [
    {
     "data": {
      "text/plain": [
       "3"
      ]
     },
     "execution_count": 57,
     "metadata": {},
     "output_type": "execute_result"
    }
   ],
   "source": [
    "#型別宣告\n",
    "3::Int64"
   ]
  },
  {
   "cell_type": "code",
   "execution_count": 58,
   "metadata": {},
   "outputs": [],
   "source": [
    "#複合型別--object 設計階段\n",
    "struct Time  #第一個字大寫可以將名子與變數區分開來\n",
    "    hour::Int64\n",
    "    minute::Int64\n",
    "    second::Int64\n",
    "end\n",
    "#這裡只是宣告而已，我們自己設計了一個型別"
   ]
  },
  {
   "cell_type": "code",
   "execution_count": 60,
   "metadata": {},
   "outputs": [
    {
     "data": {
      "text/plain": [
       "Time"
      ]
     },
     "execution_count": 60,
     "metadata": {},
     "output_type": "execute_result"
    }
   ],
   "source": [
    "t= Time(10,5,0) #這裡是建造模型的階段「實體化」 t這個變數的型別(物件)是Time\n",
    "typeof(t)"
   ]
  },
  {
   "cell_type": "code",
   "execution_count": 61,
   "metadata": {},
   "outputs": [
    {
     "data": {
      "text/plain": [
       "10"
      ]
     },
     "execution_count": 61,
     "metadata": {},
     "output_type": "execute_result"
    }
   ],
   "source": [
    "time.hour #這不是一個可變的型別 如果你打time.hour=5會不可宣告"
   ]
  },
  {
   "cell_type": "code",
   "execution_count": 62,
   "metadata": {},
   "outputs": [],
   "source": [
    "mutable struct Time2  #mutable 代表可以變\n",
    "    hour::Int64\n",
    "    minute::Int64\n",
    "    second::Int64\n",
    "end"
   ]
  },
  {
   "cell_type": "code",
   "execution_count": 63,
   "metadata": {},
   "outputs": [
    {
     "data": {
      "text/plain": [
       "Time2(10, 5, 0)"
      ]
     },
     "execution_count": 63,
     "metadata": {},
     "output_type": "execute_result"
    }
   ],
   "source": [
    "time2= Time2(10,5,0)"
   ]
  },
  {
   "cell_type": "code",
   "execution_count": 64,
   "metadata": {},
   "outputs": [
    {
     "data": {
      "text/plain": [
       "5"
      ]
     },
     "execution_count": 64,
     "metadata": {},
     "output_type": "execute_result"
    }
   ],
   "source": [
    "time2.hour=5 #但因為你宣告的型別是Int64所以你不能用小數"
   ]
  },
  {
   "cell_type": "code",
   "execution_count": 66,
   "metadata": {},
   "outputs": [],
   "source": [
    "#內部建構子 幫助實體化的重要物\n",
    "mutable struct Time3  \n",
    "    hour::Int64\n",
    "    minute::Int64\n",
    "    second::Int64\n",
    "    \n",
    "    Time3(h,m)=new(h,m,h+m)#這一行就叫做建構子是幫助實體化的，new後面代表我們輸入的東西會傳進去 h,m,s(會自己依序對應)裡面來創造出一個新的物件\n",
    "                          #如果不需要使用者輸入那麼多那就只給他輸入 h,m\n",
    "end"
   ]
  },
  {
   "cell_type": "code",
   "execution_count": 67,
   "metadata": {},
   "outputs": [
    {
     "data": {
      "text/plain": [
       "Time3(3, 4, 7)"
      ]
     },
     "execution_count": 67,
     "metadata": {},
     "output_type": "execute_result"
    }
   ],
   "source": [
    "time3=Time3(3,4) #你硬要輸入第三個數值會產生error"
   ]
  },
  {
   "cell_type": "code",
   "execution_count": 72,
   "metadata": {},
   "outputs": [
    {
     "ename": "LoadError",
     "evalue": "syntax: expected \"end\" in definition of function \"action\"",
     "output_type": "error",
     "traceback": [
      "syntax: expected \"end\" in definition of function \"action\"",
      ""
     ]
    }
   ],
   "source": [
    "mutable struct Animal  \n",
    "    struct Cat\n",
    "        name::String\n",
    "        function action\n",
    "            return println(name,\"喵~\")\n",
    "        end\n",
    "    end\n",
    "    struct Dog\n",
    "        name::String\n",
    "        function action\n",
    "            return println(name,\"汪!\")\n",
    "        end\n",
    "    end \n",
    "    a1::Cat\n",
    "    a2::Dog\n",
    "    function action(a)\n",
    "        if(typeof(a)==Cat)\n",
    "            Cat.action()\n",
    "        elseif(typeof(a)==Dog)\n",
    "            Dog.action()\n",
    "        end\n",
    "    end\n",
    "end"
   ]
  },
  {
   "cell_type": "code",
   "execution_count": null,
   "metadata": {},
   "outputs": [],
   "source": []
  }
 ],
 "metadata": {
  "kernelspec": {
   "display_name": "Julia 1.0.1",
   "language": "julia",
   "name": "julia-1.0"
  },
  "language_info": {
   "file_extension": ".jl",
   "mimetype": "application/julia",
   "name": "julia",
   "version": "1.0.1"
  }
 },
 "nbformat": 4,
 "nbformat_minor": 2
}
