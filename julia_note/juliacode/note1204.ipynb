{
 "cells": [
  {
   "cell_type": "code",
   "execution_count": 1,
   "metadata": {},
   "outputs": [],
   "source": [
    "#exception特例的處理方式(有錯誤時)，try catch"
   ]
  },
  {
   "cell_type": "code",
   "execution_count": 5,
   "metadata": {},
   "outputs": [
    {
     "name": "stdout",
     "output_type": "stream",
     "text": [
      "1\n",
      "2\n",
      "3\n",
      "4\n",
      "5\n",
      "6\n",
      "7\n",
      "8\n",
      "9\n",
      "10\n"
     ]
    }
   ],
   "source": [
    "#while loop迴圈\n",
    "#while 條件(true,false)\n",
    "#     運算式\n",
    "#end\n",
    "n=0\n",
    "while n<10 #會不斷檢查直到不符合條件為止，從0做到9\n",
    "    n+=1  #n=n+1\n",
    "    println(n)\n",
    "end\n",
    "#注意這要小心使用，可能會跑到無限大"
   ]
  },
  {
   "cell_type": "code",
   "execution_count": 4,
   "metadata": {},
   "outputs": [
    {
     "name": "stdout",
     "output_type": "stream",
     "text": [
      "Hi allan , its great to see you!\n",
      "Hi elis , its great to see you!\n"
     ]
    }
   ],
   "source": [
    "myfriends=[\"allan\",\"elis\"] #中括號代表包含元素\n",
    "\n",
    "i=1\n",
    "while i<=length(myfriends)  #length是變數可變動，會檢查容器內的元素\n",
    "    friend = myfriends[i] #i=1 所以會從第一個開始，只有julia的陣列是從1開始，其他程式大多從0開始\n",
    "    println(\"Hi $friend , its great to see you!\") #$字號可使程式去尋找前面打的參數\n",
    "    i+=1  #一定要讓i越來越大，「控制迴圈數量」，因為不變大就會永遠小於五=無限執行\n",
    "end"
   ]
  },
  {
   "cell_type": "code",
   "execution_count": null,
   "metadata": {},
   "outputs": [
    {
     "name": "stdout",
     "output_type": "stream",
     "text": [
      "請輸入身高\n",
      "stdin> 170\n",
      "stdin> 170\n",
      "stdin> 170\n",
      "stdin> aa\n",
      "請重新輸入身高\n",
      "stdin> aa\n",
      "stdin> aa\n",
      "請重新輸入身高\n"
     ]
    }
   ],
   "source": [
    "println(\"請輸入身高\")\n",
    "height=readline()\n",
    "\n",
    "i=1\n",
    "status= true\n",
    "while i<10\n",
    "    try\n",
    "        occursin(string(i),height)\n",
    "        parse(Float64,readline())\n",
    "    catch\n",
    "        println(\"請重新輸入身高\")\n",
    "        height=readline()\n",
    "      i+=1\n",
    "    end\n",
    "end\n"
   ]
  },
  {
   "cell_type": "code",
   "execution_count": 1,
   "metadata": {},
   "outputs": [
    {
     "data": {
      "text/plain": [
       "5050"
      ]
     },
     "execution_count": 1,
     "metadata": {},
     "output_type": "execute_result"
    }
   ],
   "source": [
    "sum = 0\n",
    "counter = 1\n",
    "while counter<=100\n",
    "    global sum, counter #global代表的是全域變數所以系統不論該變數在哪都能判斷(也就是說不用在迴圈外重新宣告)\n",
    "                        #但該變數需要初始值不然不能算\n",
    "    \n",
    "    sum+=counter #這兩個的限定範圍--持續增長才跑得完 這邊1run:0+1=1\n",
    "    counter+=1   #這邊1run:1+1=2\n",
    "end\n",
    "sum #執行結果"
   ]
  },
  {
   "cell_type": "code",
   "execution_count": 6,
   "metadata": {},
   "outputs": [
    {
     "name": "stdout",
     "output_type": "stream",
     "text": [
      "請輸入姓名，輸入-1代表結束\n",
      "stdin> ii\n",
      "請輸入第1筆消費金額\n",
      "stdin> 100\n",
      "請輸入第2筆消費金額\n",
      "stdin> 100\n",
      "請輸入第3筆消費金額\n",
      "stdin> 100\n",
      "請輸入第4筆消費金額\n",
      "stdin> -1\n",
      "ii您的總開銷為300.0\n"
     ]
    }
   ],
   "source": [
    "println(\"請輸入姓名，輸入-1代表結束\")\n",
    "name=readline()\n",
    "amount=transaction=i=0\n",
    "cost=0\n",
    "while \n",
    "    i<=length(cost)\n",
    "    while cost != -1\n",
    "        amount+=cost\n",
    "        global transaction+=1\n",
    "        println(\"請輸入第\",transaction,\"筆消費金額\")\n",
    "        cost=parse(Float64,readline())\n",
    "        if cost==-1\n",
    "            break\n",
    "        end\n",
    "    end\n",
    "    println(name,\"您的總開銷為\",amount)\n",
    "    break\n",
    "end"
   ]
  },
  {
   "cell_type": "code",
   "execution_count": null,
   "metadata": {},
   "outputs": [],
   "source": [
    "amount=transaction=record=0\n",
    "while record != -1\n",
    "    global transaction+=1\n",
    "    println(\"請輸入第\",transaction,\"筆消費金額\")\n"
   ]
  },
  {
   "cell_type": "code",
   "execution_count": 2,
   "metadata": {},
   "outputs": [],
   "source": [
    "#for var in 「loop interable」要計算的次數\n",
    "#計算程式\n",
    "#end"
   ]
  },
  {
   "cell_type": "code",
   "execution_count": 7,
   "metadata": {},
   "outputs": [
    {
     "data": {
      "text/plain": [
       "5050"
      ]
     },
     "execution_count": 7,
     "metadata": {},
     "output_type": "execute_result"
    }
   ],
   "source": [
    "a=0\n",
    "for i=1:100 #i=1~100做一百次\n",
    "    global a\n",
    "    a+=i\n",
    "end\n",
    "a"
   ]
  },
  {
   "cell_type": "code",
   "execution_count": 10,
   "metadata": {},
   "outputs": [
    {
     "name": "stdout",
     "output_type": "stream",
     "text": [
      "hi[\"a\", \"b\"]\n",
      "hi[\"a\", \"b\"]\n"
     ]
    }
   ],
   "source": [
    "myfriends=[\"a\",\"b\"]\n",
    "\n",
    "for friend in myfriends\n",
    "    println(\"hi\",\"$myfriends\")\n",
    "end"
   ]
  },
  {
   "cell_type": "code",
   "execution_count": 9,
   "metadata": {},
   "outputs": [
    {
     "data": {
      "text/plain": [
       "7-element Array{Int64,1}:\n",
       "  4\n",
       "  5\n",
       "  6\n",
       "  7\n",
       "  8\n",
       "  9\n",
       " 10"
      ]
     },
     "execution_count": 9,
     "metadata": {},
     "output_type": "execute_result"
    }
   ],
   "source": [
    "A=[1,2,3,4,5,6,7,8,9,10]\n",
    "B=Int64[]\n",
    "for x in A\n",
    "    if x^2>10\n",
    "        push!(B,x)\n",
    "    end\n",
    "end\n",
    "B"
   ]
  },
  {
   "cell_type": "code",
   "execution_count": 11,
   "metadata": {},
   "outputs": [
    {
     "name": "stdout",
     "output_type": "stream",
     "text": [
      "1x1=1\t\n",
      "1x2=2\t\n",
      "1x3=3\t\n",
      "1x4=4\t\n",
      "1x5=5\t\n",
      "1x6=6\t\n",
      "1x7=7\t\n",
      "1x8=8\t\n",
      "1x9=9\t\n",
      "\n",
      "2x1=2\t\n",
      "2x2=4\t\n",
      "2x3=6\t\n",
      "2x4=8\t\n",
      "2x5=10\t\n",
      "2x6=12\t\n",
      "2x7=14\t\n",
      "2x8=16\t\n",
      "2x9=18\t\n",
      "\n",
      "3x1=3\t\n",
      "3x2=6\t\n",
      "3x3=9\t\n",
      "3x4=12\t\n",
      "3x5=15\t\n",
      "3x6=18\t\n",
      "3x7=21\t\n",
      "3x8=24\t\n",
      "3x9=27\t\n",
      "\n",
      "4x1=4\t\n",
      "4x2=8\t\n",
      "4x3=12\t\n",
      "4x4=16\t\n",
      "4x5=20\t\n",
      "4x6=24\t\n",
      "4x7=28\t\n",
      "4x8=32\t\n",
      "4x9=36\t\n",
      "\n",
      "5x1=5\t\n",
      "5x2=10\t\n",
      "5x3=15\t\n",
      "5x4=20\t\n",
      "5x5=25\t\n",
      "5x6=30\t\n",
      "5x7=35\t\n",
      "5x8=40\t\n",
      "5x9=45\t\n",
      "\n",
      "6x1=6\t\n",
      "6x2=12\t\n",
      "6x3=18\t\n",
      "6x4=24\t\n",
      "6x5=30\t\n",
      "6x6=36\t\n",
      "6x7=42\t\n",
      "6x8=48\t\n",
      "6x9=54\t\n",
      "\n",
      "7x1=7\t\n",
      "7x2=14\t\n",
      "7x3=21\t\n",
      "7x4=28\t\n",
      "7x5=35\t\n",
      "7x6=42\t\n",
      "7x7=49\t\n",
      "7x8=56\t\n",
      "7x9=63\t\n",
      "\n",
      "8x1=8\t\n",
      "8x2=16\t\n",
      "8x3=24\t\n",
      "8x4=32\t\n",
      "8x5=40\t\n",
      "8x6=48\t\n",
      "8x7=56\t\n",
      "8x8=64\t\n",
      "8x9=72\t\n",
      "\n",
      "9x1=9\t\n",
      "9x2=18\t\n",
      "9x3=27\t\n",
      "9x4=36\t\n",
      "9x5=45\t\n",
      "9x6=54\t\n",
      "9x7=63\t\n",
      "9x8=72\t\n",
      "9x9=81\t\n",
      "\n"
     ]
    }
   ],
   "source": [
    "#巢狀迴圈，迴圈裏面有迴圈\n",
    "for i=1:9\n",
    "    for j=1:9\n",
    "        println(i,\"x\",j,\"=\",i*j,\"\\t\")#\\t可以讓排版好看\n",
    "    end\n",
    "    println()\n",
    "end"
   ]
  },
  {
   "cell_type": "code",
   "execution_count": null,
   "metadata": {},
   "outputs": [],
   "source": []
  }
 ],
 "metadata": {
  "kernelspec": {
   "display_name": "Julia 1.0.1",
   "language": "julia",
   "name": "julia-1.0"
  },
  "language_info": {
   "file_extension": ".jl",
   "mimetype": "application/julia",
   "name": "julia",
   "version": "1.0.1"
  }
 },
 "nbformat": 4,
 "nbformat_minor": 2
}
