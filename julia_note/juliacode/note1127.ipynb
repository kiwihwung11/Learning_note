{
 "cells": [
  {
   "cell_type": "code",
   "execution_count": 1,
   "metadata": {},
   "outputs": [
    {
     "data": {
      "text/plain": [
       "Int64"
      ]
     },
     "execution_count": 1,
     "metadata": {},
     "output_type": "execute_result"
    }
   ],
   "source": [
    "#String\"10\"字串要用兩個雙引號\n",
    "#Typeof()可檢查資料形式\n",
    "typeof(123)"
   ]
  },
  {
   "cell_type": "code",
   "execution_count": 2,
   "metadata": {},
   "outputs": [
    {
     "data": {
      "text/plain": [
       "String"
      ]
     },
     "execution_count": 2,
     "metadata": {},
     "output_type": "execute_result"
    }
   ],
   "source": [
    "typeof(\"123\")"
   ]
  },
  {
   "cell_type": "code",
   "execution_count": 4,
   "metadata": {},
   "outputs": [
    {
     "data": {
      "text/plain": [
       "15"
      ]
     },
     "execution_count": 4,
     "metadata": {},
     "output_type": "execute_result"
    }
   ],
   "source": [
    "#算術運算子:+-*/^\n",
    "1+2+3+4+5"
   ]
  },
  {
   "cell_type": "code",
   "execution_count": 6,
   "metadata": {},
   "outputs": [
    {
     "data": {
      "text/plain": [
       "24.0"
      ]
     },
     "execution_count": 6,
     "metadata": {},
     "output_type": "execute_result"
    }
   ],
   "source": [
    "((3+5)*6)/2"
   ]
  },
  {
   "cell_type": "code",
   "execution_count": 9,
   "metadata": {},
   "outputs": [
    {
     "name": "stdout",
     "output_type": "stream",
     "text": [
      "100>50?true\n"
     ]
    }
   ],
   "source": [
    "#比較運算子> < <= >= ==等於 !=不等於 比較大小會跳出布林值(真假)\n",
    "println(\"100>50?\",100>50)"
   ]
  },
  {
   "cell_type": "code",
   "execution_count": 11,
   "metadata": {},
   "outputs": [
    {
     "data": {
      "text/plain": [
       "false"
      ]
     },
     "execution_count": 11,
     "metadata": {},
     "output_type": "execute_result"
    }
   ],
   "source": [
    "#可進行連續比較\n",
    "1<3<2>4>6"
   ]
  },
  {
   "cell_type": "code",
   "execution_count": 12,
   "metadata": {},
   "outputs": [],
   "source": [
    "#變數是一個容器，=代表賦予值，將等號右邊的資料儲存到左邊的變數\n",
    "#變數不能以數字開頭，不能以保留字開頭"
   ]
  },
  {
   "cell_type": "code",
   "execution_count": 13,
   "metadata": {},
   "outputs": [
    {
     "name": "stdout",
     "output_type": "stream",
     "text": [
      "x小於y\n"
     ]
    }
   ],
   "source": [
    "#判斷式if\n",
    "#if 條件 要做的事 end\n",
    "#if 條件1 要做的事1 else要做的事2 end  \n",
    "#if 條件1 要做的事1 elseif條件2 要做的事2 else要做的事3(1,2不成立的時候) end\n",
    "x=0\n",
    "y=2\n",
    "\n",
    "if x<y\n",
    "    println(\"x小於y\")\n",
    "end"
   ]
  },
  {
   "cell_type": "code",
   "execution_count": 14,
   "metadata": {},
   "outputs": [
    {
     "name": "stdout",
     "output_type": "stream",
     "text": [
      "X大於Y\n"
     ]
    }
   ],
   "source": [
    "x=10\n",
    "y=5\n",
    "if x<y\n",
    "    println(\"X小於Y\")\n",
    "else\n",
    "    println(\"X大於Y\")\n",
    "end"
   ]
  },
  {
   "cell_type": "code",
   "execution_count": 15,
   "metadata": {},
   "outputs": [
    {
     "name": "stdout",
     "output_type": "stream",
     "text": [
      "X大於Y\n"
     ]
    }
   ],
   "source": [
    "x=10\n",
    "y=5\n",
    "if x<y\n",
    "    println(\"X小於Y\")\n",
    "elseif x>y\n",
    "    println(\"X大於Y\")\n",
    "else\n",
    "    println(\"X等於Y\")\n",
    "end"
   ]
  },
  {
   "cell_type": "code",
   "execution_count": 1,
   "metadata": {},
   "outputs": [
    {
     "name": "stdout",
     "output_type": "stream",
     "text": [
      "請輸入票價\n",
      "stdin> 100\n",
      "兒童票\n"
     ]
    }
   ],
   "source": [
    "#練習  字串不能跟任何東西進行運算\n",
    "println(\"請輸入票價\")\n",
    "x=parse(Float64, readline())\n",
    "\n",
    "if x<=100\n",
    "    println(\"兒童票\")\n",
    "elseif 100<=x<=200\n",
    "    println(\"優待票\")\n",
    "else\n",
    "    println(\"成人票\")\n",
    "end"
   ]
  },
  {
   "cell_type": "code",
   "execution_count": 32,
   "metadata": {},
   "outputs": [
    {
     "name": "stdout",
     "output_type": "stream",
     "text": [
      "y贏了\n"
     ]
    }
   ],
   "source": [
    "x=\"剪刀\"\n",
    "y=\"石頭\"\n",
    "\n",
    "if x==\"剪刀\"\n",
    "    if y==\"剪刀\"\n",
    "        println(\"x與y平手\")\n",
    "    elseif y==\"石頭\"\n",
    "        println(\"y贏了!\")\n",
    "    else\n",
    "        println(\"x贏了!\")\n",
    "    end\n",
    "end"
   ]
  },
  {
   "cell_type": "code",
   "execution_count": null,
   "metadata": {},
   "outputs": [],
   "source": []
  }
 ],
 "metadata": {
  "kernelspec": {
   "display_name": "Julia 1.0.1",
   "language": "julia",
   "name": "julia-1.0"
  },
  "language_info": {
   "file_extension": ".jl",
   "mimetype": "application/julia",
   "name": "julia",
   "version": "1.0.1"
  }
 },
 "nbformat": 4,
 "nbformat_minor": 2
}
