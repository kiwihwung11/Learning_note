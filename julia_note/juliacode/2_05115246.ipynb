{
 "cells": [
  {
   "cell_type": "code",
   "execution_count": 2,
   "metadata": {},
   "outputs": [
    {
     "name": "stdout",
     "output_type": "stream",
     "text": [
      "請輸入要生成的隨機整數數目\n",
      "stdin> 9\n",
      "請輸入起點a\n",
      "stdin> 1\n",
      "請輸入終點b\n",
      "stdin> 20\n",
      "您輸入的條件為N=9 a=1 b=20\n",
      "隨機生成的數為[1, 9, 3, 9, 8, 17, 7, 13, 6]\n",
      "您所產生的數列排序結果為[1, 1, 3, 6, 7, 8, 9, 9, 13, 17, 20]\n"
     ]
    }
   ],
   "source": [
    "println(\"請輸入要生成的隨機整數數目\")\n",
    "x=parse(Int64,readline())\n",
    "println(\"請輸入起點a\")\n",
    "a=parse(Int64,readline())\n",
    "println(\"請輸入終點b\")\n",
    "b=parse(Int64,readline())\n",
    "\n",
    "A=Int64[]\n",
    "push!(A,a)\n",
    "push!(A,b)\n",
    "B=Int64[]\n",
    "for i=1:x\n",
    "    for N=i\n",
    "        N=rand(a:b)\n",
    "        push!(A,N)\n",
    "        push!(B,N)\n",
    "    end\n",
    "end\n",
    "println(\"您輸入的條件為\",\"N=\",x,\" a=\",a,\" b=\",b)\n",
    "println(\"隨機生成的數為\",B)\n",
    "println(\"您所產生的數列排序結果為\",sort(A))"
   ]
  },
  {
   "cell_type": "code",
   "execution_count": null,
   "metadata": {},
   "outputs": [],
   "source": []
  }
 ],
 "metadata": {
  "kernelspec": {
   "display_name": "Julia 1.0.1",
   "language": "julia",
   "name": "julia-1.0"
  },
  "language_info": {
   "file_extension": ".jl",
   "mimetype": "application/julia",
   "name": "julia",
   "version": "1.0.1"
  }
 },
 "nbformat": 4,
 "nbformat_minor": 2
}
