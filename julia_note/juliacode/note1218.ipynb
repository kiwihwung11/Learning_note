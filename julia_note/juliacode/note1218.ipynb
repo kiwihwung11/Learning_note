{
 "cells": [
  {
   "cell_type": "code",
   "execution_count": 1,
   "metadata": {},
   "outputs": [
    {
     "data": {
      "text/plain": [
       "\"1,2,3,4,5,\""
      ]
     },
     "execution_count": 1,
     "metadata": {},
     "output_type": "execute_result"
    }
   ],
   "source": [
    "replace(\"1 2 3 4 5 \",\" \"=>\",\")"
   ]
  },
  {
   "cell_type": "code",
   "execution_count": 2,
   "metadata": {},
   "outputs": [
    {
     "data": {
      "text/plain": [
       "true"
      ]
     },
     "execution_count": 2,
     "metadata": {},
     "output_type": "execute_result"
    }
   ],
   "source": [
    "occursin(\"ba\",\"banana\")#看某種拼音有陪有在裡面"
   ]
  },
  {
   "cell_type": "code",
   "execution_count": 3,
   "metadata": {},
   "outputs": [
    {
     "data": {
      "text/plain": [
       "\"todaytodaytodaytodaytodaytodaytodaytodaytodaytoday\""
      ]
     },
     "execution_count": 3,
     "metadata": {},
     "output_type": "execute_result"
    }
   ],
   "source": [
    "x=\"today\"\n",
    "repeat(x,10) #重複10次 也可x^10"
   ]
  },
  {
   "cell_type": "code",
   "execution_count": 4,
   "metadata": {},
   "outputs": [
    {
     "data": {
      "text/plain": [
       "\"1,2,3,4,\\n5,6,7,8,\\n9,10,11,12\""
      ]
     },
     "execution_count": 4,
     "metadata": {},
     "output_type": "execute_result"
    }
   ],
   "source": [
    "matrix= \"\"\"1,2,3,4,\n",
    "5,6,7,8,\n",
    "9,10,11,12\"\"\" #\\n是換行"
   ]
  },
  {
   "cell_type": "code",
   "execution_count": 13,
   "metadata": {},
   "outputs": [
    {
     "data": {
      "text/plain": [
       "3-element Array{SubString{String},1}:\n",
       " \"1,2,3,4,\"  \n",
       " \"5,6,7,8,\"  \n",
       " \"9,10,11,12\""
      ]
     },
     "execution_count": 13,
     "metadata": {},
     "output_type": "execute_result"
    }
   ],
   "source": [
    "#要先整理換行符號和豆號\n",
    "rows=split(matrix,\"\\n\") #把換行切掉--變成三個元素"
   ]
  },
  {
   "cell_type": "code",
   "execution_count": 1,
   "metadata": {},
   "outputs": [
    {
     "ename": "UndefVarError",
     "evalue": "UndefVarError: rows not defined",
     "output_type": "error",
     "traceback": [
      "UndefVarError: rows not defined",
      "",
      "Stacktrace:",
      " [1] top-level scope at .\\In[1]:3"
     ]
    }
   ],
   "source": [
    "#我需要一個迴圈把一個一個元素存成數字\n",
    "A=Int64[]\n",
    "for r in rows #跑三次\n",
    "    elements = split(r,\",\") #i=\"1,2,3,4\"\n",
    "    for e in elements #跑12次\n",
    "        append!(A, Meta.parse(e))\n",
    "    end\n",
    "end\n",
    "A\n"
   ]
  },
  {
   "cell_type": "code",
   "execution_count": 35,
   "metadata": {},
   "outputs": [
    {
     "data": {
      "text/plain": [
       "Dict{String,Int64} with 3 entries:\n",
       "  \"Allan\" => 1\n",
       "  \"Cathy\" => 3\n",
       "  \"Boy\"   => 2"
      ]
     },
     "execution_count": 35,
     "metadata": {},
     "output_type": "execute_result"
    }
   ],
   "source": [
    "x=Dict(\"Allan\"=>1,\"Boy\"=>2,\"Cathy\"=>3)#宣告x是字典，給電腦查的"
   ]
  },
  {
   "cell_type": "code",
   "execution_count": 36,
   "metadata": {},
   "outputs": [
    {
     "data": {
      "text/plain": [
       "1"
      ]
     },
     "execution_count": 36,
     "metadata": {},
     "output_type": "execute_result"
    }
   ],
   "source": [
    "x[\"Allan\"]"
   ]
  },
  {
   "cell_type": "code",
   "execution_count": 38,
   "metadata": {},
   "outputs": [
    {
     "ename": "KeyError",
     "evalue": "KeyError: key \"1\" not found",
     "output_type": "error",
     "traceback": [
      "KeyError: key \"1\" not found",
      "",
      "Stacktrace:",
      " [1] getindex(::Dict{String,Int64}, ::String) at .\\dict.jl:478",
      " [2] top-level scope at In[38]:1"
     ]
    }
   ],
   "source": [
    "x[\"1\"] #字典沒ㄧ字典沒有就不呈現"
   ]
  },
  {
   "cell_type": "code",
   "execution_count": 39,
   "metadata": {},
   "outputs": [
    {
     "data": {
      "text/plain": [
       "4"
      ]
     },
     "execution_count": 39,
     "metadata": {},
     "output_type": "execute_result"
    }
   ],
   "source": [
    "x[\"doll\"]=4 #放進字典"
   ]
  },
  {
   "cell_type": "code",
   "execution_count": 40,
   "metadata": {},
   "outputs": [
    {
     "data": {
      "text/plain": [
       "Dict{String,Int64} with 4 entries:\n",
       "  \"Allan\" => 1\n",
       "  \"doll\"  => 4\n",
       "  \"Cathy\" => 3\n",
       "  \"Boy\"   => 2"
      ]
     },
     "execution_count": 40,
     "metadata": {},
     "output_type": "execute_result"
    }
   ],
   "source": [
    "x"
   ]
  },
  {
   "cell_type": "code",
   "execution_count": 43,
   "metadata": {},
   "outputs": [
    {
     "data": {
      "text/plain": [
       "5"
      ]
     },
     "execution_count": 43,
     "metadata": {},
     "output_type": "execute_result"
    }
   ],
   "source": [
    "x[\"Allan\"]=5 #複寫"
   ]
  },
  {
   "cell_type": "code",
   "execution_count": 42,
   "metadata": {},
   "outputs": [
    {
     "data": {
      "text/plain": [
       "Base.KeySet for a Dict{String,Int64} with 4 entries. Keys:\n",
       "  \"Allan\"\n",
       "  \"doll\"\n",
       "  \"Cathy\"\n",
       "  \"Boy\""
      ]
     },
     "execution_count": 42,
     "metadata": {},
     "output_type": "execute_result"
    }
   ],
   "source": [
    "keys(x) #顯示字典內所有內容"
   ]
  },
  {
   "cell_type": "code",
   "execution_count": 45,
   "metadata": {},
   "outputs": [
    {
     "name": "stdout",
     "output_type": "stream",
     "text": [
      "Allan->5\n",
      "doll->4\n",
      "Cathy->3\n",
      "Boy->2\n"
     ]
    }
   ],
   "source": [
    "for (k,v) in x\n",
    "    println(k, \"->\", v)\n",
    "end"
   ]
  },
  {
   "cell_type": "code",
   "execution_count": 53,
   "metadata": {},
   "outputs": [
    {
     "name": "stdout",
     "output_type": "stream",
     "text": [
      "請輸入第1位學生的成績\n",
      "stdin> 1\n",
      "請輸入第2位學生的成績\n",
      "stdin> 2\n",
      "請輸入第3位學生的成績\n",
      "stdin> 3\n",
      "請輸入第4位學生的成績\n",
      "stdin> 4\n",
      "請輸入第5位學生的成績\n",
      "stdin> 5\n",
      "全班成績細項:[1.0, 2.0, 3.0, 4.0, 5.0]\n",
      "全班人數:5人\n"
     ]
    },
    {
     "ename": "UndefVarError",
     "evalue": "UndefVarError: i not defined",
     "output_type": "error",
     "traceback": [
      "UndefVarError: i not defined",
      "",
      "Stacktrace:",
      " [1] top-level scope at In[53]:16"
     ]
    }
   ],
   "source": [
    "#1.使用者可無限輸入成績，輸入-1結束程式\n",
    "#2.紀錄每一次使用者輸入的數字\n",
    "#3.最後要呈現全班人數、平均、成績狀況\n",
    "score=Float64[]\n",
    "input=total=0\n",
    "\n",
    "for i=1:5\n",
    "    println(\"請輸入第\",i,\"位學生的成績\")\n",
    "    global input=parse(Float64,readline())\n",
    "    push!(score,input)\n",
    "    global total+=input\n",
    "end\n",
    "\n",
    "println(\"全班成績細項:\",score)\n",
    "println(\"全班人數:\",i,\"人\")\n",
    "println(\"全班平均成績為:\",total/i)"
   ]
  },
  {
   "cell_type": "code",
   "execution_count": null,
   "metadata": {},
   "outputs": [],
   "source": []
  },
  {
   "cell_type": "code",
   "execution_count": null,
   "metadata": {},
   "outputs": [],
   "source": []
  }
 ],
 "metadata": {
  "kernelspec": {
   "display_name": "Julia 1.0.1",
   "language": "julia",
   "name": "julia-1.0"
  },
  "language_info": {
   "file_extension": ".jl",
   "mimetype": "application/julia",
   "name": "julia",
   "version": "1.0.1"
  }
 },
 "nbformat": 4,
 "nbformat_minor": 2
}
