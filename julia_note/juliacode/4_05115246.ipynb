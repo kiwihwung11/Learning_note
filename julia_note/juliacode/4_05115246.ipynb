{
 "cells": [
  {
   "cell_type": "code",
   "execution_count": 29,
   "metadata": {},
   "outputs": [
    {
     "name": "stdout",
     "output_type": "stream",
     "text": [
      "請輸入公司同仁數目\n",
      "stdin> 2\n",
      "請選擇一個選項\n",
      "1.看了就冷的禮物\n",
      "2.看起來很厲害但其實很廢的禮物\n",
      "3.沒人再用送人還差不多的禮物\n",
      "stdin> 4\n",
      "請選擇一個選項\n",
      "1.看了就冷的禮物\n",
      "2.看起來很厲害但其實很廢的禮物\n",
      "3.沒人再用送人還差不多的禮物\n",
      "stdin> 4\n",
      "1選項得票數為0\n",
      "2選項得票數為0\n",
      "3選項得票數為0\n",
      "有兩個最高票，請重新投票\n"
     ]
    }
   ],
   "source": [
    "#第四題\n",
    "println(\"請輸入公司同仁數目\")\n",
    "numbers=parse(Float64,readline())\n",
    "i=0\n",
    "x=Int64[]\n",
    "y=Int64[]\n",
    "z=Int64[]\n",
    "while i != numbers\n",
    "    println(\"請選擇一個選項\")\n",
    "     println(\"1.看了就冷的禮物\")\n",
    "     println(\"2.看起來很厲害但其實很廢的禮物\")\n",
    "     println(\"3.沒人再用送人還差不多的禮物\")\n",
    "    j=parse(Int64,readline())\n",
    "    if j==1\n",
    "        push!(x,j)\n",
    "    elseif j==2\n",
    "        push!(y,j)\n",
    "    elseif j==3\n",
    "        push!(z,j)\n",
    "    end\n",
    "    i+=1\n",
    "    if i==numbers\n",
    "        break\n",
    "    end\n",
    "end\n",
    "println(\"1選項得票數為\",length(x))\n",
    "println(\"2選項得票數為\",length(y))\n",
    "println(\"3選項得票數為\",length(z))\n",
    "\n",
    "a=length(x)\n",
    "b=length(y)\n",
    "c=length(z)\n",
    "\n",
    "if a>b>=c\n",
    "    println(\"1選項當選\")\n",
    "elseif a>c>=b\n",
    "    println(\"1選項當選\")\n",
    "elseif b>a>=c\n",
    "    println(\"2選項當選\")\n",
    "elseif b>c>=a\n",
    "    println(\"2選項當選\")\n",
    "elseif c>a>=b\n",
    "    println(\"3選項當選\")\n",
    "elseif c>b>=a\n",
    "    println(\"3選項當選\")\n",
    "else\n",
    "    println(\"有兩個最高票，請重新投票\")\n",
    "end"
   ]
  },
  {
   "cell_type": "code",
   "execution_count": null,
   "metadata": {},
   "outputs": [],
   "source": []
  }
 ],
 "metadata": {
  "kernelspec": {
   "display_name": "Julia 1.0.1",
   "language": "julia",
   "name": "julia-1.0"
  },
  "language_info": {
   "file_extension": ".jl",
   "mimetype": "application/julia",
   "name": "julia",
   "version": "1.0.1"
  }
 },
 "nbformat": 4,
 "nbformat_minor": 2
}
