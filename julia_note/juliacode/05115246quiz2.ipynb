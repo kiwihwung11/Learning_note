{
 "cells": [
  {
   "cell_type": "code",
   "execution_count": 1,
   "metadata": {},
   "outputs": [
    {
     "name": "stdout",
     "output_type": "stream",
     "text": [
      "    o\n",
      "   ooo\n",
      "  ooooo\n",
      " ooooooo\n",
      "ooooooooo\n"
     ]
    }
   ],
   "source": [
    "for i=1:5\n",
    "    println(\" \"^(5-i),\"o\"^(2i-1))\n",
    "end\n"
   ]
  },
  {
   "cell_type": "code",
   "execution_count": null,
   "metadata": {},
   "outputs": [],
   "source": [
    "for i=1:5\n",
    "    println(\" \"^(5-i),\"o\"^(2i-1))\n",
    "end\n",
    "for j=6:9\n",
    "    println(\" \"^(j-5),\"o\"^(19-2j))\n",
    "end\n"
   ]
  }
 ],
 "metadata": {
  "kernelspec": {
   "display_name": "Julia 1.0.1",
   "language": "julia",
   "name": "julia-1.0"
  },
  "language_info": {
   "file_extension": ".jl",
   "mimetype": "application/julia",
   "name": "julia",
   "version": "1.0.1"
  }
 },
 "nbformat": 4,
 "nbformat_minor": 2
}
