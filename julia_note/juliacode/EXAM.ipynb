{
 "cells": [
  {
   "cell_type": "code",
   "execution_count": 1,
   "metadata": {},
   "outputs": [
    {
     "name": "stdout",
     "output_type": "stream",
     "text": [
      "   o\n",
      "  ooo\n",
      " ooooo\n",
      "ooooooo\n"
     ]
    }
   ],
   "source": [
    "println(\"   o\") #3\n",
    "println(\"  ooo\")#2\n",
    "println(\" ooooo\")#1\n",
    "println(\"ooooooo\")#0"
   ]
  },
  {
   "cell_type": "code",
   "execution_count": 105,
   "metadata": {},
   "outputs": [
    {
     "name": "stdout",
     "output_type": "stream",
     "text": [
      "   o\n",
      "  ooo\n",
      " ooooo\n",
      "ooooooo\n"
     ]
    }
   ],
   "source": [
    "for i=1:4\n",
    "    for k=1:(4-i)\n",
    "        print(\" \")\n",
    "    end\n",
    "    \n",
    "    for j=1:(2i-1)\n",
    "        print(\"o\")\n",
    "    end\n",
    "    println()\n",
    "end"
   ]
  },
  {
   "cell_type": "code",
   "execution_count": 94,
   "metadata": {},
   "outputs": [
    {
     "name": "stdout",
     "output_type": "stream",
     "text": [
      "stdin> 5\n",
      "    o\n",
      "   ooo\n",
      "  ooooo\n",
      " ooooooo\n",
      "ooooooooo\n"
     ]
    }
   ],
   "source": [
    "h=parse(Int8,readline())\n",
    "for i=1:h\n",
    "    println(\" \"^(h-i),\"o\"^(2i-1)) #^就是做幾次的意思\n",
    "end"
   ]
  },
  {
   "cell_type": "code",
   "execution_count": 96,
   "metadata": {},
   "outputs": [
    {
     "data": {
      "text/plain": [
       "f (generic function with 1 method)"
      ]
     },
     "execution_count": 96,
     "metadata": {},
     "output_type": "execute_result"
    }
   ],
   "source": [
    "function f(x) #這個函數叫做「f」\n",
    "    x^2\n",
    "end\n",
    "#這邊是宣告這個函數要做的事情以後都會啟用，這種方法適合要做多件事情的時候，例如用函數寫BMI計算"
   ]
  },
  {
   "cell_type": "code",
   "execution_count": 97,
   "metadata": {},
   "outputs": [
    {
     "data": {
      "text/plain": [
       "16"
      ]
     },
     "execution_count": 97,
     "metadata": {},
     "output_type": "execute_result"
    }
   ],
   "source": [
    "f(4) #這裡直接叫f就會自動執行"
   ]
  },
  {
   "cell_type": "code",
   "execution_count": 98,
   "metadata": {},
   "outputs": [
    {
     "data": {
      "text/plain": [
       "f2 (generic function with 1 method)"
      ]
     },
     "execution_count": 98,
     "metadata": {},
     "output_type": "execute_result"
    }
   ],
   "source": [
    "f2(x)=x^3 #函數第二種宣告方式"
   ]
  },
  {
   "cell_type": "code",
   "execution_count": 99,
   "metadata": {},
   "outputs": [
    {
     "data": {
      "text/plain": [
       "1000"
      ]
     },
     "execution_count": 99,
     "metadata": {},
     "output_type": "execute_result"
    }
   ],
   "source": [
    "f2(10)"
   ]
  },
  {
   "cell_type": "code",
   "execution_count": 100,
   "metadata": {},
   "outputs": [
    {
     "data": {
      "text/plain": [
       "#3 (generic function with 1 method)"
      ]
     },
     "execution_count": 100,
     "metadata": {},
     "output_type": "execute_result"
    }
   ],
   "source": [
    "f3=x -> x^3 #函數第三種宣告方式"
   ]
  },
  {
   "cell_type": "code",
   "execution_count": null,
   "metadata": {},
   "outputs": [],
   "source": []
  }
 ],
 "metadata": {
  "kernelspec": {
   "display_name": "Julia 1.0.1",
   "language": "julia",
   "name": "julia-1.0"
  },
  "language_info": {
   "file_extension": ".jl",
   "mimetype": "application/julia",
   "name": "julia",
   "version": "1.0.1"
  }
 },
 "nbformat": 4,
 "nbformat_minor": 2
}
