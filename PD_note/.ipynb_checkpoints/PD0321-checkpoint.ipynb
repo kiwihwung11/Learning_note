{
 "cells": [
  {
   "cell_type": "code",
   "execution_count": 3,
   "metadata": {},
   "outputs": [],
   "source": [
    "movies=[\"The Holy Grail\", 1975, \"Terry Jones & Terry Gilliam\", 91, [\"Graham Chapman\", [\"Michael Palin\", \"John Cleese\", \"Terry Gilliam\", \"Eric Idle\", \"Terry Jones\"]]]\n"
   ]
  },
  {
   "cell_type": "code",
   "execution_count": 4,
   "metadata": {},
   "outputs": [],
   "source": [
    "def print_lol(the_list):\n",
    "    for each_item in the_list:\n",
    "        if isinstance(each_item, list):\n",
    "            print_lol(each_item)   #回到上方的函數(遞迴)\n",
    "        else:\n",
    "            print(each_item)"
   ]
  },
  {
   "cell_type": "code",
   "execution_count": 6,
   "metadata": {},
   "outputs": [
    {
     "name": "stdout",
     "output_type": "stream",
     "text": [
      "The Holy Grail\n",
      "1975\n",
      "Terry Jones & Terry Gilliam\n",
      "91\n",
      "Graham Chapman\n",
      "Michael Palin\n",
      "John Cleese\n",
      "Terry Gilliam\n",
      "Eric Idle\n",
      "Terry Jones\n"
     ]
    }
   ],
   "source": [
    "print_lol (movies)"
   ]
  },
  {
   "cell_type": "code",
   "execution_count": 16,
   "metadata": {},
   "outputs": [],
   "source": [
    "# from nester import*  可以把你儲存的工具叫出來  工具儲存--IDLE開new file 貼上函式 file--save\n",
    "# import nester + nester.print_lol() 也可以使用。電腦會認識這個工具 但若是沒東西給她處理 EX:the list 那他就會error"
   ]
  },
  {
   "cell_type": "code",
   "execution_count": 17,
   "metadata": {},
   "outputs": [],
   "source": [
    "cast=[\"pallin\",\"Cleese\",\"Idle\",\"Jones\",\"Gillan\",\"Chapman\"]"
   ]
  },
  {
   "cell_type": "code",
   "execution_count": 18,
   "metadata": {},
   "outputs": [],
   "source": [
    "# import os \n",
    "# print(os.getcwd()) 這個可以找到你儲存python的位置"
   ]
  },
  {
   "cell_type": "code",
   "execution_count": 11,
   "metadata": {},
   "outputs": [
    {
     "name": "stdout",
     "output_type": "stream",
     "text": [
      "['john', 'eric', ['clare', 'anny'], 'michael', ['berlin']]\n"
     ]
    }
   ],
   "source": [
    "names=[\"john\",\"eric\",[\"clare\",\"anny\"],\"michael\",[\"berlin\"]]\n",
    "print(names)"
   ]
  },
  {
   "cell_type": "code",
   "execution_count": 9,
   "metadata": {},
   "outputs": [],
   "source": [
    "def print_lol(the_list, level):\n",
    "    for each_item in the_list:\n",
    "        if isinstance(each_item, list):\n",
    "            print_lol(each_item, level+1)   #這一條會一直拆括號，不是list的元素會跑else\n",
    "        else:\n",
    "            for tab_stop in range(level):\n",
    "                print(\"\\t\",end=\" \")\n",
    "            print(each_item)"
   ]
  },
  {
   "cell_type": "code",
   "execution_count": 10,
   "metadata": {},
   "outputs": [
    {
     "name": "stdout",
     "output_type": "stream",
     "text": [
      "john\n",
      "eric\n",
      "\t clare\n",
      "\t anny\n",
      "michael\n",
      "\t berlin\n"
     ]
    }
   ],
   "source": [
    "print_lol(names,0)"
   ]
  },
  {
   "cell_type": "code",
   "execution_count": 36,
   "metadata": {},
   "outputs": [
    {
     "name": "stdout",
     "output_type": "stream",
     "text": [
      "請輸入檔名:123.txt\n"
     ]
    }
   ],
   "source": [
    "name=input(\"請輸入檔名:\")\n",
    "file= open (name,\"w\",encoding=\"UTF-8\") # w是 write寫入模式 要先檢查編碼方式 通常都是unicode\n",
    "file.write(\"test\")                     #IDLE 會跑出4\n",
    "file.close()                           #會開始執行\n",
    "#結果是他會開啟一個123的txt檔，然後把test寫進去"
   ]
  },
  {
   "cell_type": "code",
   "execution_count": 37,
   "metadata": {},
   "outputs": [],
   "source": [
    "file= open (name,\"r\",encoding=\"UTF-8\") #r代表閱讀模式\n",
    "content=file.read()                    #IDLE 會跑出test\n",
    "print(content)                         #把內容print出來\n",
    "file.close()        "
   ]
  },
  {
   "cell_type": "code",
   "execution_count": null,
   "metadata": {},
   "outputs": [],
   "source": []
  }
 ],
 "metadata": {
  "kernelspec": {
   "display_name": "Python 3",
   "language": "python",
   "name": "python3"
  },
  "language_info": {
   "codemirror_mode": {
    "name": "ipython",
    "version": 3
   },
   "file_extension": ".py",
   "mimetype": "text/x-python",
   "name": "python",
   "nbconvert_exporter": "python",
   "pygments_lexer": "ipython3",
   "version": "3.7.3"
  }
 },
 "nbformat": 4,
 "nbformat_minor": 2
}
