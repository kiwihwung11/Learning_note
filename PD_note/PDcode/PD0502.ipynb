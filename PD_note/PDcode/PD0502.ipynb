{
 "cells": [
  {
   "cell_type": "code",
   "execution_count": null,
   "metadata": {},
   "outputs": [],
   "source": [
    "#爬蟲找大範圍資料 抓回來再整理"
   ]
  },
  {
   "cell_type": "code",
   "execution_count": null,
   "metadata": {},
   "outputs": [],
   "source": [
    "payload={'classid':'1', 'ProductCode':'115407', 'EndDate':'2019/05/02', 'StartDate':'2019/04/18'}\n",
    "\t     \n",
    ">>> import requests\n",
    "\t     \n",
    ">>> from bs4 import BeautifulSoup\n",
    "\t     \n",
    ">>> res= requests.post(\"https://taft.coa.gov.tw/Resume/rl.aspx?&classid=1&ProductCode=115407&xCity=&xTown=&EndDate=2019%2f05%2f02&StartDate=2019%2f04%2f18&\", data= payload)\n",
    "\t     \n",
    ">>> soup=BeautifulSoup(res.text, \"html.parser\")\n",
    "clean= soup.select('.lpTb')\n",
    "\t     \n",
    ">>> clean"
   ]
  },
  {
   "cell_type": "code",
   "execution_count": null,
   "metadata": {},
   "outputs": [],
   "source": [
    "#今天爬的網站:https://taft.coa.gov.tw/Resume/rl.aspx?&classid=1&ProductCode=115407&xCity=&xTown=&EndDate=2019%2f05%2f02&StartDate=2019%2f04%2f18&\n",
    "for item in clean:\n",
    "\tproduct = item.select('a')\n",
    "\tprint(len(product))\n",
    "#這可以知道你抓回來的資料長度 資料顯示20"
   ]
  },
  {
   "cell_type": "code",
   "execution_count": null,
   "metadata": {},
   "outputs": [],
   "source": [
    "for item in clean:\n",
    "\tproduct = item.select('a')[0] #可print出第一筆資料(0號位置)\n",
    "\tprint(product)"
   ]
  },
  {
   "cell_type": "code",
   "execution_count": null,
   "metadata": {},
   "outputs": [],
   "source": [
    "for item in clean:\n",
    "\tproduct = item.select('a')[0].text #text 代表的是網路程式碼 <a>xxxx</a> 中間的xxx就是text的內容\n",
    "\tprint(product)"
   ]
  },
  {
   "cell_type": "code",
   "execution_count": null,
   "metadata": {},
   "outputs": [],
   "source": [
    "#題目 假設我要追蹤所有編號\n",
    "for item in clean:\n",
    "\tfor i in range(0,19):\n",
    "\t\tproduct=item.select('a')[i].text\n",
    "\t\tprint(product)\n",
    "        #跑出結果後我發現編號會混雜公司名稱 並且規律是偶數 所以我只要偶數的output"
   ]
  },
  {
   "cell_type": "code",
   "execution_count": null,
   "metadata": {},
   "outputs": [],
   "source": [
    "for item in clean:\n",
    "\tfor i in range(0,10): #因為我print 2*i的結果 也就是說跑完後會超過範圍 所以我調整範圍到10剛好能顯示全部的編號\n",
    "\t\tproduct=item.select('a')[2*i].text #我只要偶數\n",
    "\t\tprint(product)\n",
    "        #結果完成"
   ]
  }
 ],
 "metadata": {
  "kernelspec": {
   "display_name": "Python 3",
   "language": "python",
   "name": "python3"
  },
  "language_info": {
   "codemirror_mode": {
    "name": "ipython",
    "version": 3
   },
   "file_extension": ".py",
   "mimetype": "text/x-python",
   "name": "python",
   "nbconvert_exporter": "python",
   "pygments_lexer": "ipython3",
   "version": "3.7.0"
  }
 },
 "nbformat": 4,
 "nbformat_minor": 2
}
