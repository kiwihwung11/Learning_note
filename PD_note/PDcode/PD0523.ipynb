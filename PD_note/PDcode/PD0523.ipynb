{
 "cells": [
  {
   "cell_type": "code",
   "execution_count": null,
   "metadata": {},
   "outputs": [],
   "source": [
    "for p in range(1,5):\n",
    "\turl=\"https://www.books.com.tw/web/books_bmidm_1601/?o=1&v=1&page=x\" #把網頁設x變成變數就會自己換頁\n",
    "\turl=url.replace(\"x\",str(p))\n",
    "\tres=requests.get(url)\n",
    "\tsoup=BeautifulSoup(res.text)\n",
    "\tfor img in soup.select(\".cover\"):\n",
    "\t\tfname=img[\"src\"].split(\"/\")[-1].split(\"&\")[0]\n",
    "\t\tres2=requests.get(img[\"src\"].split(\"i=\")[1].split(\"&\")[0],stream=True)\n",
    "\t\tf=open(fname,\"wb\")\n",
    "\t\tshutil.copyfileobj(res2.raw,f) #raw會直接輸出網站結果--才會是圖片不是網址\n",
    "\t\tf.close()"
   ]
  },
  {
   "cell_type": "code",
   "execution_count": null,
   "metadata": {},
   "outputs": [],
   "source": [
    "#api 應用服務業面 串接api可以把不同平台的到處應用--就可以不用再suop"
   ]
  },
  {
   "cell_type": "code",
   "execution_count": null,
   "metadata": {},
   "outputs": [],
   "source": [
    "import matplotlib.pyplot as plt\n",
    ">>> import requests,json #json檔要用 dictionary格式\n",
    ">>> url=\"https://www.dcard.tw/_api/forums/dressup/posts?popular=false\" "
   ]
  },
  {
   "cell_type": "code",
   "execution_count": null,
   "metadata": {},
   "outputs": [],
   "source": [
    "import matplotlib.pyplot as plt\n",
    ">>> import requests,json\n",
    ">>> url=\"https://www.dcard.tw/_api/forums/dressup/posts?popular=false\"\n",
    ">>> res=requests.get(url)\n",
    ">>> resjson=json.loads(res.text)\n",
    ">>> resjson\n",
    "\n",
    ">>> gender={\"F\":0,\"M\":0} #為了讓男女可以計算  {}是dictionary型別\n",
    ">>> for outcome in resjson:\n",
    "\tgender[outcome[\"gender\"]]=gender[outcome[\"gender\"]]+1\n",
    "\n",
    "\t\n",
    ">>> sex=[\"女性\",\"男性\"]\n",
    ">>> count=[gender[\"F\"],gender[\"M\"]]\n",
    ">>> \n",
    ">>> plt.bar(sex,count)\n",
    "#<BarContainer object of 2 artists>\n",
    ">>> plt.show()"
   ]
  }
 ],
 "metadata": {
  "kernelspec": {
   "display_name": "Python 3",
   "language": "python",
   "name": "python3"
  },
  "language_info": {
   "codemirror_mode": {
    "name": "ipython",
    "version": 3
   },
   "file_extension": ".py",
   "mimetype": "text/x-python",
   "name": "python",
   "nbconvert_exporter": "python",
   "pygments_lexer": "ipython3",
   "version": "3.7.0"
  }
 },
 "nbformat": 4,
 "nbformat_minor": 2
}
