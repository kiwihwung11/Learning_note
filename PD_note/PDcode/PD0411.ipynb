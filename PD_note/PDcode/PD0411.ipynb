{
 "cells": [
  {
   "cell_type": "code",
   "execution_count": 1,
   "metadata": {},
   "outputs": [
    {
     "ename": "FileNotFoundError",
     "evalue": "[Errno 2] No such file or directory: 'sketch.txt'",
     "output_type": "error",
     "traceback": [
      "\u001b[1;31m---------------------------------------------------------------------------\u001b[0m",
      "\u001b[1;31mFileNotFoundError\u001b[0m                         Traceback (most recent call last)",
      "\u001b[1;32m<ipython-input-1-7d2fe77666ea>\u001b[0m in \u001b[0;36m<module>\u001b[1;34m()\u001b[0m\n\u001b[0;32m      1\u001b[0m \u001b[1;31m#抓下來的東西盡量放python的工作臺，可以點file--save as 複製路徑再去搜尋就可以拉進去\u001b[0m\u001b[1;33m\u001b[0m\u001b[1;33m\u001b[0m\u001b[0m\n\u001b[1;32m----> 2\u001b[1;33m \u001b[0mthe_file\u001b[0m\u001b[1;33m=\u001b[0m \u001b[0mopen\u001b[0m\u001b[1;33m(\u001b[0m\u001b[1;34m\"sketch.txt\"\u001b[0m\u001b[1;33m)\u001b[0m\u001b[1;33m\u001b[0m\u001b[0m\n\u001b[0m\u001b[0;32m      3\u001b[0m \u001b[0mthe_file\u001b[0m\u001b[1;33m.\u001b[0m\u001b[0mclose\u001b[0m\u001b[1;33m(\u001b[0m\u001b[1;33m)\u001b[0m\u001b[1;33m\u001b[0m\u001b[0m\n",
      "\u001b[1;31mFileNotFoundError\u001b[0m: [Errno 2] No such file or directory: 'sketch.txt'"
     ]
    }
   ],
   "source": [
    "#抓下來的東西盡量放python的工作臺，可以點file--save as 複製路徑再去搜尋就可以拉進去\n",
    "#今天要開檔案所以jupyter不能用\n",
    "the_file= open(\"sketch.txt\")\n",
    "the_file.close()"
   ]
  },
  {
   "cell_type": "code",
   "execution_count": null,
   "metadata": {},
   "outputs": [],
   "source": [
    "print(data.readline(),end=\" \")\n",
    "# Man: Is this the right room for an argument?   "
   ]
  },
  {
   "cell_type": "code",
   "execution_count": null,
   "metadata": {},
   "outputs": [],
   "source": [
    "print(data.readline(),end=\" \")\n",
    "# Other Man: I've told you once.  會自己往下跑 "
   ]
  },
  {
   "cell_type": "code",
   "execution_count": null,
   "metadata": {},
   "outputs": [],
   "source": [
    "data.seek(0)\n",
    "# 0 用這個之後會回到第一行      readline()會暫存位置然後一直往下跑，若要條位置要用seek\n",
    "print(data.readline(),end=\" \")\n",
    "# Man: Is this the right room for an argument?"
   ]
  },
  {
   "cell_type": "code",
   "execution_count": null,
   "metadata": {},
   "outputs": [],
   "source": [
    "for each_line in data:\n",
    "    print(each_line,end=\" \")\n"
   ]
  },
  {
   "cell_type": "code",
   "execution_count": null,
   "metadata": {},
   "outputs": [],
   "source": [
    "#規律性--整理資料時所有資料都有的 EX 冒號\n",
    "each_line.split(\":\")\n",
    "# ['Man', ' Yes it is!\\n']\n",
    "(role,line_spoken)=each_line.split(\":\") #分開的工具，(role,line_spoken)是對應的變數\n",
    "print(role)\n",
    "# Man\n",
    "print(line_spoken)\n",
    "# Yes it is!  分開來了"
   ]
  },
  {
   "cell_type": "code",
   "execution_count": null,
   "metadata": {},
   "outputs": [],
   "source": [
    "data=open(\"sketch.txt\")\n",
    "for each_line in data:\n",
    "    (role,line_spoken)=each_line.split(\":\")\n",
    "    print(role,end=\" \")\n",
    "    print(\"said:\",end=\" \")\n",
    "    print(line_spoken,end=\" \")\n",
    "# Man said:  Is this the right room for an argument?\n",
    " Other Man said:  I've told you once.\n",
    " Man said:  No you haven't!\n",
    " Other Man said:  Yes I have.\n",
    " Man said:  When?\n",
    " Other Man said:  Just now.\n",
    " Man said:  No you didn't!\n",
    " Other Man said:  Yes I did!\n",
    " Man said:  You didn't!\n",
    " Other Man said:  I'm telling you, I did!\n",
    " Man said:  You did not!\n",
    " Other Man said:  Oh I'm sorry, is this a five minute argument, or the full half hour?\n",
    " Man said:  Ah! (taking out his wallet and paying) Just the five minutes.\n",
    " Other Man said:  Just the five minutes. Thank you.\n",
    " Other Man said:  Anyway, I did.\n",
    " Man said:  You most certainly did not!\n",
    "# 因為下一行原始資料出現兩個冒號\n",
    "# Traceback (most recent call last): 這是error\n",
    "  File \"<pyshell#33>\", line 2, in <module>\n",
    "    (role,line_spoken)=each_line.split(\":\")\n",
    "# ValueError: [too many values]這是原因  to unpack (expected 2)"
   ]
  },
  {
   "cell_type": "code",
   "execution_count": 2,
   "metadata": {},
   "outputs": [
    {
     "name": "stdout",
     "output_type": "stream",
     "text": [
      "['free', 'your', 'mind']\n"
     ]
    }
   ],
   "source": [
    "a= \"free your mind\"\n",
    "print(a.split()) #自己找東西折 結果變成三串字"
   ]
  },
  {
   "cell_type": "code",
   "execution_count": 3,
   "metadata": {},
   "outputs": [
    {
     "name": "stdout",
     "output_type": "stream",
     "text": [
      "['welc', 'me t', ' the desert...', 'f real']\n"
     ]
    }
   ],
   "source": [
    "b=\"welcome to the desert...of real\"\n",
    "print(b.split(\"o\"))"
   ]
  },
  {
   "cell_type": "code",
   "execution_count": 13,
   "metadata": {},
   "outputs": [
    {
     "name": "stdout",
     "output_type": "stream",
     "text": [
      "['what', 'is', 'real? how do you define real?']\n"
     ]
    }
   ],
   "source": [
    "c=\"what is real? how do you define real?\"\n",
    "print(c.split(\" \",2)) #只分割到第二個\" \" 執行兩次 產生三個字串"
   ]
  },
  {
   "cell_type": "code",
   "execution_count": 5,
   "metadata": {},
   "outputs": [
    {
     "name": "stdout",
     "output_type": "stream",
     "text": [
      "['there is no spoon']\n"
     ]
    }
   ],
   "source": [
    "d=\"there is no spoon\"\n",
    "print(d.split(\"a\"))"
   ]
  },
  {
   "cell_type": "code",
   "execution_count": null,
   "metadata": {},
   "outputs": [],
   "source": [
    "for each_line in data:\n",
    "\t(role,line_spoken)=each_line.split(\":\",1) #每個字串只折一次\n",
    "\tprint(role,end=\" \")\n",
    "\tprint(\"said:\",end=\" \")\n",
    "\tprint(line_spoken,end=\" \")\n",
    "#但還是卡住"
   ]
  },
  {
   "cell_type": "code",
   "execution_count": 15,
   "metadata": {},
   "outputs": [
    {
     "data": {
      "text/plain": [
       "-1"
      ]
     },
     "execution_count": 15,
     "metadata": {},
     "output_type": "execute_result"
    }
   ],
   "source": [
    "each_line=\"i tell you theres no such thing as flying circus\"\n",
    "each_line.find(\":\")\n",
    "# -1 代表沒有:"
   ]
  },
  {
   "cell_type": "code",
   "execution_count": 14,
   "metadata": {},
   "outputs": [
    {
     "data": {
      "text/plain": [
       "10"
      ]
     },
     "execution_count": 14,
     "metadata": {},
     "output_type": "execute_result"
    }
   ],
   "source": [
    "each_line=\"i tell you: theres no such thing as flying circus\"\n",
    "each_line.find(\":\") #每一個字母站一個位子"
   ]
  },
  {
   "cell_type": "code",
   "execution_count": null,
   "metadata": {},
   "outputs": [],
   "source": [
    "data=open(\"sketch.txt\")\n",
    "for each_line in data:\n",
    "    if not each_line.find(\":\")==-1:\n",
    "        (role,line_spoken)=each_line.split(\":\",1)\n",
    "        print(role,end=\" \")\n",
    "        print(\"said:\",end=\" \")\n",
    "        print(line_spoken,end=\" \")\n",
    "#可跑出全部，但(pause)不會被印出來因為不符合"
   ]
  },
  {
   "cell_type": "code",
   "execution_count": null,
   "metadata": {},
   "outputs": [],
   "source": [
    "for each_line in data:\n",
    "    try:\n",
    "        (role,line_spoken)=each_line.split(\":\",1)\n",
    "        print(role,end=\" \")\n",
    "        print(\"said:\",end=\" \")\n",
    "        print(line_spoken,end=\" \")\n",
    "    except:\n",
    "        pass\n",
    "#可處理錯誤"
   ]
  },
  {
   "cell_type": "code",
   "execution_count": null,
   "metadata": {},
   "outputs": [],
   "source": [
    "if os.path.exists(\"sketch.txt\"):\n",
    "\tdata=open(\"sketch.txt\")\n",
    "\tfor each_line in data:\n",
    "\t\tif not each_line.find(\":\")==-1:\n",
    "\t\t\t(role,line_spoken)=each_line.split(\":\",1)\n",
    "\t\t\tprint(role,end=\" \")\n",
    "\t\t\tprint(\"said:\",end=\" \")\n",
    "\t\t\tprint(line_spoken,end=\" \")\n",
    "\tdata.close()\n",
    "else:\n",
    "\tprint(\"the data is missing\")\n",
    "\n",
    "#結果也會全跑出來，但若你把txt刪掉就會跑出 missing"
   ]
  },
  {
   "cell_type": "code",
   "execution_count": null,
   "metadata": {},
   "outputs": [],
   "source": [
    "try:\n",
    "\tdata=open(\"sketch.txt\")\n",
    "\tfor each_line in data:\n",
    "\t\ttry:\n",
    "\t\t\t(role,line_spoken)=each_line.split(\":\",1)\n",
    "\t\t\tprint(role,end=\" \")\n",
    "\t\t\tprint(\"said:\",end=\" \")\n",
    "\t\t\tprint(line_spoken,end=\" \")\n",
    "\t\texcept:\n",
    "\t\t\tpass\n",
    "\tdata.close()\n",
    "except:\n",
    "\tprint(\"the data is missing\") "
   ]
  },
  {
   "cell_type": "code",
   "execution_count": null,
   "metadata": {},
   "outputs": [],
   "source": [
    "try:\n",
    "\tdata=open(\"sketch.txt\")\n",
    "\tfor each_line in data:\n",
    "\t\ttry:\n",
    "\t\t\t(role,line_spoken)=each_line.split(\":\",1)\n",
    "\t\t\tprint(role,end=\" \")\n",
    "\t\t\tprint(\"said:\",end=\" \")\n",
    "\t\t\tprint(line_spoken,end=\" \")\n",
    "\t\texcept ValueError: #具體告訴電腦是ValueError\n",
    "\t\t\tpass\n",
    "\tdata.close()\n",
    "except IOError:  #具體告訴電腦是IOError\n",
    "\tprint(\"the data is missing\")"
   ]
  }
 ],
 "metadata": {
  "kernelspec": {
   "display_name": "Python 3",
   "language": "python",
   "name": "python3"
  },
  "language_info": {
   "codemirror_mode": {
    "name": "ipython",
    "version": 3
   },
   "file_extension": ".py",
   "mimetype": "text/x-python",
   "name": "python",
   "nbconvert_exporter": "python",
   "pygments_lexer": "ipython3",
   "version": "3.7.0"
  }
 },
 "nbformat": 4,
 "nbformat_minor": 2
}
