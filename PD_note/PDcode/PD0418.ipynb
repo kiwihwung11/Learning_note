{
 "cells": [
  {
   "cell_type": "code",
   "execution_count": null,
   "metadata": {},
   "outputs": [],
   "source": [
    "with open(\"james.txt\") as jaf:\n",
    "\tdata=jaf.readline()\n",
    "\tjames=data.strip().split(\",\")"
   ]
  },
  {
   "cell_type": "code",
   "execution_count": null,
   "metadata": {},
   "outputs": [],
   "source": [
    "print(james)\n",
    "# ['2-34', '3:21', '2.34', '2.45', '3.01', '2:01', '2:01', '3:10', '2-22']"
   ]
  },
  {
   "cell_type": "code",
   "execution_count": null,
   "metadata": {},
   "outputs": [],
   "source": [
    "def sanitized(time_string):\n",
    "\tif \"-\" in time_string:\n",
    "\t\tsplitter = \"-\"\n",
    "\telif \":\" in time_string:\n",
    "\t\tsplitter= \":\"\n",
    "\telse:\n",
    "\t\treturn(time_string)\n",
    "\t(mins,secs) = time_string.split(splitter)\n",
    "\treturn (mins + \".\" + secs)\n",
    "# 製造分割工具"
   ]
  },
  {
   "cell_type": "code",
   "execution_count": null,
   "metadata": {},
   "outputs": [],
   "source": [
    "clean_mikey=[]\n",
    "for each_t in mikey:\n",
    "\tclean_mikey.append(sanitized(each_t))\n",
    "\tprint(sorted(clean_mikey))"
   ]
  },
  {
   "cell_type": "code",
   "execution_count": null,
   "metadata": {},
   "outputs": [],
   "source": [
    "clean_mikey=[sanitized(each_t) for each_t in mikey] #上面的把它合併\n",
    "print(sorted(clean_mikey))\n",
    "#['2.22', '2.38', '2.49', '3.01', '3.01', '3.02', '3.02', '3.02', '3.22']"
   ]
  },
  {
   "cell_type": "code",
   "execution_count": null,
   "metadata": {},
   "outputs": [],
   "source": [
    "print(set(clean_mikey))  #set 會幫你把同樣的數值去掉"
   ]
  },
  {
   "cell_type": "code",
   "execution_count": null,
   "metadata": {},
   "outputs": [],
   "source": [
    "#以下是開發方式\n",
    "mikey=sorted([sanitized(t) for t in mikey])\n",
    "for each_t in mikey:\n",
    "    if each_t not in unique_mikey:\n",
    "        unique_mikey.append(each_t)\n",
    "    print(unique_mikey[0:3])\n",
    "# ['2.22', '2.38', '2.49', '3.01', '3.02', '3.22'] 一樣的不會重複加進去"
   ]
  },
  {
   "cell_type": "code",
   "execution_count": null,
   "metadata": {},
   "outputs": [],
   "source": [
    "dirty=[\"2-22\",\"2.22\",\"2:22\"]\n",
    "clean=[sanitized(t) for t in dirty]\n",
    "print(clean)\n",
    "# ['2.22', '2.22', '2.22']"
   ]
  },
  {
   "cell_type": "code",
   "execution_count": null,
   "metadata": {},
   "outputs": [],
   "source": [
    "floats=[float(s) for s in clean] #可以把處理過的字串型數字轉成想要型式的數字\n",
    "print(floats)\n",
    "# [2.22, 2.22, 2.22]"
   ]
  }
 ],
 "metadata": {
  "kernelspec": {
   "display_name": "Python 3",
   "language": "python",
   "name": "python3"
  },
  "language_info": {
   "codemirror_mode": {
    "name": "ipython",
    "version": 3
   },
   "file_extension": ".py",
   "mimetype": "text/x-python",
   "name": "python",
   "nbconvert_exporter": "python",
   "pygments_lexer": "ipython3",
   "version": "3.7.0"
  }
 },
 "nbformat": 4,
 "nbformat_minor": 2
}
