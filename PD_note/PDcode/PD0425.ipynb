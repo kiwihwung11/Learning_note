{
 "cells": [
  {
   "cell_type": "code",
   "execution_count": 1,
   "metadata": {},
   "outputs": [
    {
     "ename": "ModuleNotFoundError",
     "evalue": "No module named 'request'",
     "output_type": "error",
     "traceback": [
      "\u001b[1;31m---------------------------------------------------------------------------\u001b[0m",
      "\u001b[1;31mModuleNotFoundError\u001b[0m                       Traceback (most recent call last)",
      "\u001b[1;32m<ipython-input-1-e392607f0c42>\u001b[0m in \u001b[0;36m<module>\u001b[1;34m()\u001b[0m\n\u001b[1;32m----> 1\u001b[1;33m \u001b[1;32mimport\u001b[0m \u001b[0mrequest\u001b[0m\u001b[1;33m\u001b[0m\u001b[0m\n\u001b[0m",
      "\u001b[1;31mModuleNotFoundError\u001b[0m: No module named 'request'"
     ]
    }
   ],
   "source": [
    "# 灌requests 去命令提示字元 用 cd 加 python路徑 再輸入python -m pip install requests 就可以灌了"
   ]
  },
  {
   "cell_type": "code",
   "execution_count": null,
   "metadata": {},
   "outputs": [],
   "source": [
    "import requests\n",
    "res=requests.get(\"https://www.books.com.tw\")\n",
    "print(res.text)\n",
    "#結果會是該網站的原始碼  可去該網站案右鍵檢視網頁原始碼"
   ]
  },
  {
   "cell_type": "code",
   "execution_count": null,
   "metadata": {},
   "outputs": [],
   "source": [
    "from bs4 import BeautifulSoup #這是資料剖析套件\n",
    "soup=BeautifulSoup(res.text,\"html.parser\")\n",
    "count=1\n",
    "for item in soup.select(\".DY5T1d\"): #這的括號要放什麼要自己找規律性決定\n",
    "\tprint(\"====[\",count,\"]====\")\n",
    "\ttitle=(item.text)\n",
    "\turl=item.get(\"href\")\n",
    "\tprint(title)\n",
    "\tprint(url)\n",
    "\tcount+=1"
   ]
  },
  {
   "cell_type": "code",
   "execution_count": null,
   "metadata": {},
   "outputs": [],
   "source": [
    "for item in soup.select(\".DY5T1d\"):\n",
    "\tprint(\"====[\",count,\"]====\")\n",
    "\ttitle=(item.text)\n",
    "\turl=item.get(\"href\")\n",
    "\tprint(title)\n",
    "\tprint(url)\n",
    "\tcount+=1"
   ]
  }
 ],
 "metadata": {
  "kernelspec": {
   "display_name": "Python 3",
   "language": "python",
   "name": "python3"
  },
  "language_info": {
   "codemirror_mode": {
    "name": "ipython",
    "version": 3
   },
   "file_extension": ".py",
   "mimetype": "text/x-python",
   "name": "python",
   "nbconvert_exporter": "python",
   "pygments_lexer": "ipython3",
   "version": "3.7.0"
  }
 },
 "nbformat": 4,
 "nbformat_minor": 2
}
