{
 "cells": [
  {
   "cell_type": "code",
   "execution_count": null,
   "metadata": {},
   "outputs": [],
   "source": [
    "#圖片抓取"
   ]
  },
  {
   "cell_type": "code",
   "execution_count": 1,
   "metadata": {},
   "outputs": [
    {
     "ename": "SyntaxError",
     "evalue": "invalid character in identifier (<ipython-input-1-dd9ee3674b25>, line 1)",
     "output_type": "error",
     "traceback": [
      "\u001b[1;36m  File \u001b[1;32m\"<ipython-input-1-dd9ee3674b25>\"\u001b[1;36m, line \u001b[1;32m1\u001b[0m\n\u001b[1;33m    shutil.copyfile( src, dst)    從源src複製到dst中去。當然前提是目標位址是具備可寫許可權。拋出的異常資訊為IOException. 如果當前的dst已存在的話就會被覆蓋掉\u001b[0m\n\u001b[1;37m                                                                                    ^\u001b[0m\n\u001b[1;31mSyntaxError\u001b[0m\u001b[1;31m:\u001b[0m invalid character in identifier\n"
     ]
    }
   ],
   "source": [
    "shutil.copyfile( src, dst)    從源src複製到dst中去。當然前提是目標位址是具備可寫許可權。拋出的異常資訊為IOException. 如果當前的dst已存在的話就會被覆蓋掉\n",
    "shutil.move( src, dst)        移動檔或重命名\n",
    "shutil.copymode( src, dst)    只是會複製其許可權其他的東西是不會被複製的\n",
    "shutil.copystat( src, dst)    複製許可權、最後存取時間、最後修改時間\n",
    "shutil.copy( src, dst)        複製一個檔到一個檔或一個目錄\n",
    "shutil.copy2( src, dst)        在copy上的基礎上再複製檔最後存取時間與修改時間也複製過來了，類似於cp –p的東西\n",
    "shutil.copy2( src, dst)        如果兩個位置的檔案系統是一樣的話相當於是rename操作，只是改名；如果是不在相同的檔案系統的話就是做move操作#"
   ]
  },
  {
   "cell_type": "code",
   "execution_count": null,
   "metadata": {},
   "outputs": [],
   "source": [
    "from bs4 import BeautifulSoup\n",
    ">>> res=requests.get(\"http://www.gamebase.com.tw/forum/64172/topic/96278769/1\")\n",
    ">>> \n",
    ">>> soup=BeautifulSoup(res.text,\"html.parser\")\n",
    ">>> soup\n",
    "#結果很多行"
   ]
  },
  {
   "cell_type": "code",
   "execution_count": null,
   "metadata": {},
   "outputs": [],
   "source": [
    "for img in soup.select(\".img\"):\n",
    "\tprint(img)\n"
   ]
  },
  {
   "cell_type": "code",
   "execution_count": null,
   "metadata": {},
   "outputs": [],
   "source": [
    "for img in soup.select(\".img\"):\n",
    "\tprint(img[\"src\"],img[\"src\"].split(\"/\")[-1]) #這行是當你把資料拉下來，要先觀察你要的，然後切割才有用 []是位置"
   ]
  },
  {
   "cell_type": "code",
   "execution_count": null,
   "metadata": {},
   "outputs": [],
   "source": [
    "import shutil #工具用法在上面\n",
    ">>> for img in soup.select(\".img\"):\n",
    "\tfname=img[\"src\"].split(\"/\")[-1] #src是網路語言的圖片屬性\n",
    "\tres2= requests.get(img[\"src\"],stream=True) #這邊我知道要的是img[\"src\"]所以要get 後面的stream是網路狀態要有的時候才能載\n",
    "\tf = open(fname,\"wb\") #wb是寫入模式\n",
    "\tshutil.copyfileobj(res2.raw, f) #raw代表全部的資料\n",
    "\tf.close()"
   ]
  },
  {
   "cell_type": "code",
   "execution_count": null,
   "metadata": {},
   "outputs": [],
   "source": [
    "#href 是電腦看的網址 所以不能直接搜尋"
   ]
  },
  {
   "cell_type": "code",
   "execution_count": null,
   "metadata": {},
   "outputs": [],
   "source": [
    "res=requests.get(\"https://www.ptt.cc/bbs/movie/index.html\")\n",
    ">>> soup=BeautifulSoup(res.text,\"html.parser\")\n",
    ">>> soup"
   ]
  },
  {
   "cell_type": "code",
   "execution_count": null,
   "metadata": {},
   "outputs": [],
   "source": [
    "for item in soup.select(\"a\"):\n",
    "\tprint(item)\n"
   ]
  },
  {
   "cell_type": "code",
   "execution_count": null,
   "metadata": {},
   "outputs": [],
   "source": [
    "for item in soup.select(\"a\"):\n",
    "\tprint(item.text)\n",
    "    \n",
    "    #或是\n",
    "for item in soup.select(\".title\"):\n",
    "\tprint(item.text)"
   ]
  },
  {
   "cell_type": "code",
   "execution_count": null,
   "metadata": {},
   "outputs": [],
   "source": [
    "#換頁\n",
    "paging=soup.select(\"div.btn-group.btn-group-paging a\")#btn-group btn-group-paging 空白建要用.代替"
   ]
  },
  {
   "cell_type": "code",
   "execution_count": null,
   "metadata": {},
   "outputs": [],
   "source": [
    "url2=\"https://www.ptt.cc/bbs/movie/index.html\"\n",
    "for rounds in range (4):\n",
    "\tres= requests.get(url2)\n",
    "\tsoup=BeautifulSoup(res.text,\"html.parser\")\n",
    "\titem = soup.select(\"div.title a\") #完整的寫法\n",
    "\tpaging= soup.select(\"div.btn-group.btn-group-paging a\")\n",
    "\turl=\"https://www.ptt.cc/\"+paging[1][\"href\"]\n",
    "\turl2=url #讓新的可以變成迴圈的條件 右邊assign到左邊\n",
    "\tfor outcome in item:\n",
    "\t\tprint(outcome.text,outcome[\"href\"]) #成果"
   ]
  },
  {
   "cell_type": "code",
   "execution_count": null,
   "metadata": {},
   "outputs": [],
   "source": [
    "url=\"https://www.books.com.tw/\"\n",
    "for rounds in range (4):\n",
    "\tres= requests.get(url2)\n",
    "\tsoup=BeautifulSoup(res.text,\"html.parser\")\n",
    "\titem = soup.select(\"div.title a\") #完整的寫法\n",
    "\tpaging= soup.select(\"div.btn-group.btn-group-paging a\")\n",
    "\turl2=\"https://www.ptt.cc/\"+paging[1][\"href\"]\n",
    "\turl=url2 #讓新的可以變成迴圈的條件 左邊assign到右邊\n",
    "\tfor outcome in item:\n",
    "\t\tprint(outcome.text,outcome[\"href\"]) #成果"
   ]
  }
 ],
 "metadata": {
  "kernelspec": {
   "display_name": "Python 3",
   "language": "python",
   "name": "python3"
  },
  "language_info": {
   "codemirror_mode": {
    "name": "ipython",
    "version": 3
   },
   "file_extension": ".py",
   "mimetype": "text/x-python",
   "name": "python",
   "nbconvert_exporter": "python",
   "pygments_lexer": "ipython3",
   "version": "3.7.0"
  }
 },
 "nbformat": 4,
 "nbformat_minor": 2
}
