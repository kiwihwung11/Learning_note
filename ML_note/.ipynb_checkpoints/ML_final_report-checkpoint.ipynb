{
 "cells": [
  {
   "cell_type": "code",
   "execution_count": null,
   "metadata": {},
   "outputs": [],
   "source": [
    "#導入資料+資料預處理\n",
    "from sklearn import preprocessing\n",
    "import numpy as np\n",
    "import matplotlib.pyplot as plt\n",
    "import seaborn as sns\n",
    "import pandas as pd\n",
    "x=pd.read_csv(\"test_users.csv\")\n",
    "y=pd.read_csv(\"train_users_2.csv\")\n",
    "submit = pd.read_csv(\"sample_submission_NDF.csv\")\n",
    "x.info() \n",
    "y.info()\n",
    "x.isnull().sum()\n",
    "y.isnull().sum()"
   ]
  },
  {
   "cell_type": "code",
   "execution_count": null,
   "metadata": {},
   "outputs": [],
   "source": [
    "#補值+合併資料表\n",
    "data = y.append(x)\n",
    "data\n",
    "data.reset_index(inplace=True, drop=True)\n",
    "data['age'] = data['age']. fillna(data['age'].mean( ))"
   ]
  },
  {
   "cell_type": "code",
   "execution_count": null,
   "metadata": {},
   "outputs": [],
   "source": [
    "#探索資料\n",
    "sns.countplot(data['country_destination'])\n",
    "sns.countplot(data['language'],hue=data ['country_destination'])\n",
    "plt.show()"
   ]
  },
  {
   "cell_type": "code",
   "execution_count": null,
   "metadata": {},
   "outputs": [],
   "source": [
    "sns.countplot(data['country_destination'])\n",
    "sns.countplot(data['gender'],hue=data ['country_destination'])\n",
    "plt.show()"
   ]
  },
  {
   "cell_type": "code",
   "execution_count": null,
   "metadata": {},
   "outputs": [],
   "source": [
    "g = sns.FacetGrid(data,col='country_destination') \n",
    "g.map(sns.distplot,'age',kde=False)\n",
    "plt.show()"
   ]
  },
  {
   "cell_type": "code",
   "execution_count": null,
   "metadata": {},
   "outputs": [],
   "source": [
    "sns.countplot(data['country_destination'])\n",
    "sns.countplot(data['affiliate_provider'],hue=data ['country_destination'])\n",
    "plt.show()"
   ]
  },
  {
   "cell_type": "code",
   "execution_count": null,
   "metadata": {},
   "outputs": [],
   "source": [
    "sns.countplot(data['country_destination'])\n",
    "sns.countplot(data['signup_app'],hue=data ['country_destination'])\n",
    "plt.show()"
   ]
  },
  {
   "cell_type": "code",
   "execution_count": null,
   "metadata": {},
   "outputs": [],
   "source": [
    "#將類別資料轉成整數\n",
    "data['signup_app'] = data['signup_app'].astype('category').cat.codes\n",
    "data ['affiliate_provider'] = data['affiliate_provider'].astype('category').cat.codes\n",
    "data['language'] = data['language'].astype('category').cat.codes\n",
    "data['gender'] = data['gender'].astype('category').cat.codes\n",
    "data['country_destination'] = data['country_destination'].astype('category').cat.codes"
   ]
  },
  {
   "cell_type": "code",
   "execution_count": null,
   "metadata": {},
   "outputs": [],
   "source": [
    "#留下需要的特徵\n",
    "dataTrain = data[pd.notnull(data['country_destination'])].sort_values(by=[\"id\"])\n",
    "dataTest = data[~pd.notnull(data['country_destination'])].sort_values(by=[\"id\"])\n",
    "dataTrain.columns\n",
    "dataTrain = dataTrain[['country_destination', 'language',\"gender\", 'age','affiliate_provider','signup_app']]\n",
    "dataTest = dataTest[['language',\"gender\", 'age','affiliate_provider','signup_app']]\n",
    "dataTrain"
   ]
  },
  {
   "cell_type": "code",
   "execution_count": null,
   "metadata": {},
   "outputs": [],
   "source": [
    "#利⽤隨機森林來預測去的國家\n",
    "from sklearn.ensemble import RandomForestRegressor\n",
    "from sklearn.ensemble import RandomForestClassifier\n",
    "rf = RandomForestClassifier(criterion='gini'\n",
    "                            ,n_estimators=1000\n",
    "                            ,min_samples_split=12\n",
    "                            ,min_samples_leaf=1\n",
    "                            ,oob_score=True\n",
    "                            ,random_state=1\n",
    "                            ,n_jobs=-1)\n",
    "rf.fit(dataTrain.iloc[:,1:],dataTrain.iloc [:,0])\n",
    "print(\"%.4f\" & rf.oob_score_)"
   ]
  },
  {
   "cell_type": "code",
   "execution_count": null,
   "metadata": {},
   "outputs": [],
   "source": [
    "#產⽣ Submit 檔\n",
    "pd.concat((pd.DataFrame(dataTrain.iloc[:,1:].columns,columns = ['variable']),\n",
    "           pd.DataFrame(rf.feature_importances_,columns = ['importance'])),\n",
    "          axis = 1).sort_values (by='importance', ascending = False) [:20]\n",
    "rf_res = rf.predict(dataTest)\n",
    "submit['country_destination'] = rf_res\n",
    "submit['country_destination'] = submit['country_destination'].astype(str)\n",
    "submit.to_csv('submit_NDF.csv',index=False)"
   ]
  }
 ],
 "metadata": {
  "kernelspec": {
   "display_name": "Python 3",
   "language": "python",
   "name": "python3"
  },
  "language_info": {
   "codemirror_mode": {
    "name": "ipython",
    "version": 3
   },
   "file_extension": ".py",
   "mimetype": "text/x-python",
   "name": "python",
   "nbconvert_exporter": "python",
   "pygments_lexer": "ipython3",
   "version": "3.7.0"
  }
 },
 "nbformat": 4,
 "nbformat_minor": 2
}
