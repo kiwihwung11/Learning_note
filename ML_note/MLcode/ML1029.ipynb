{
 "cells": [
  {
   "cell_type": "markdown",
   "metadata": {},
   "source": [
    "決策樹是分類問題的樹狀結構，每個內部結點都是一個評估欄位\n",
    "每一條路徑都是一種分類規則\n",
    "決策樹的模型解釋力是最好的"
   ]
  },
  {
   "cell_type": "markdown",
   "metadata": {},
   "source": [
    "log2 5=>log10 5/ log10 2 換頂公式"
   ]
  },
  {
   "cell_type": "markdown",
   "metadata": {},
   "source": [
    "算資料的凌亂度 用outlook\n",
    "sunny 5 yes 2 no 3  \n",
    "rain 5 yes 3 no 2\n",
    "overcast 4 yes 4 no 0\n",
    "\n",
    "E原=0.94(target)\n",
    "E子= [-2/5 log2 2/5 - 3/5 log2 3/5] - [(-3/5 log2 3/5)-(-2/5 log2 2/5)] - [(-4/4 log2 4/4)] => a-(-b)-(-c)\n",
    "\n",
    "a\n",
    "-0.4*(-0.398/0.301) =>0.529\n",
    "-0.6*(-0.222/0.301) =>0.443  \n",
    "0.529+0.443= 0.972\n",
    "0.086*(5/14) #權重 => 0.972* 0.357=> 0.347\n",
    "\n",
    "b\n",
    "-0.086\n",
    "-0.031\n",
    "\n",
    "c\n",
    "0\n",
    "\n",
    "a-(-b)-(-c)\n",
    "0.347+0.347+0 = 0.694  \n",
    "\n",
    "E原-E子= 0.94-0.694 => 0.246  A: 0.246   減少的差值要越大越好"
   ]
  },
  {
   "cell_type": "code",
   "execution_count": 28,
   "metadata": {},
   "outputs": [
    {
     "data": {
      "text/plain": [
       "0.246"
      ]
     },
     "execution_count": 28,
     "metadata": {},
     "output_type": "execute_result"
    }
   ],
   "source": [
    "0.94-0.694"
   ]
  },
  {
   "cell_type": "markdown",
   "metadata": {},
   "source": [
    "算濕度的吉尼係數\n",
    "high 7 yes 2 no 5\n",
    "normal 7 yes 6 no 1\n",
    "\n",
    "high\n",
    "1-[(2/7)^2+(5/7)^2] =>1-[0.082+0.510] => 1-0.592 =>0.408\n",
    "\n",
    "normal\n",
    "1-[(6/7)^2+(1/7)^2] => 0.245\n",
    "\n",
    "Gini子=>7/14 * 0.408 + 7/14 * 0.245 => 0.327"
   ]
  },
  {
   "cell_type": "code",
   "execution_count": 19,
   "metadata": {},
   "outputs": [
    {
     "data": {
      "text/plain": [
       "0.3265"
      ]
     },
     "execution_count": 19,
     "metadata": {},
     "output_type": "execute_result"
    }
   ],
   "source": [
    "7/14 * 0.408 + 7/14 * 0.245"
   ]
  },
  {
   "cell_type": "code",
   "execution_count": null,
   "metadata": {},
   "outputs": [],
   "source": [
    "import numpy as np\n",
    "import pandas as pd\n",
    "import matplotlib.pyplot as plt\n",
    "names = ['age', 'workclass', 'fnlwgt', 'education', 'education-num',\n",
    "         'marital-status', 'occupation', 'relationship','race','sex',\n",
    "         'capital-gain', 'capital-loss', 'hours-per-week', 'native-country',\n",
    "         'income']\n",
    "data = pd.read_csv(\"adult.csv\", header = None, names=names)\n",
    "df = data[['age', 'sex', 'hours-per-week', 'education', 'income']]\n",
    "df.info()\n",
    "df.describe()\n",
    "df.head() #可以看有沒有對其欄位"
   ]
  },
  {
   "cell_type": "code",
   "execution_count": null,
   "metadata": {},
   "outputs": [],
   "source": [
    "from sklearn.tree import DecisionTreeClassifier\n",
    "X = df.iloc[:,:-1].values\n",
    "y = df.iloc[:,-1].values\n",
    "tree = DecisionTreeClassifier(criterion='gini',\n",
    "                                random_state=1, max_depth = 5) #這個很常用=>控制要長多高\n",
    "tree.fit(X, y) #發現字串不能轉"
   ]
  },
  {
   "cell_type": "code",
   "execution_count": null,
   "metadata": {},
   "outputs": [],
   "source": [
    "data_dummies = pd.get_dummies(df, drop_first = True)\n",
    "data_dummies.info()\n",
    "X = data_dummies.iloc [:,:-1].values\n",
    "y = data_dummies.iloc [:,-1].values\n",
    "tree = DecisionTreeClassifier(criterion='gini',\n",
    "                               random_state=1, max_depth = 5)\n",
    "tree.fit(X, y)\n",
    "print('score:', tree.score(X,y))"
   ]
  },
  {
   "cell_type": "code",
   "execution_count": null,
   "metadata": {},
   "outputs": [],
   "source": [
    "import graphviz\n",
    "from sklearn.tree import export_graphviz\n",
    "from pydotplus import graph_from_dot_data\n",
    "dot_data = export_graphviz(tree, filled = True,\n",
    "                           rounded = True,\n",
    "                           class_names = data_dummies.iloc [:,-1].name,\n",
    "                           out_file= None)\n",
    "graph = graph_from_dot_data(dot_data)\n",
    "graph.write_png('tree.png')"
   ]
  }
 ],
 "metadata": {
  "kernelspec": {
   "display_name": "Python 3",
   "language": "python",
   "name": "python3"
  },
  "language_info": {
   "codemirror_mode": {
    "name": "ipython",
    "version": 3
   },
   "file_extension": ".py",
   "mimetype": "text/x-python",
   "name": "python",
   "nbconvert_exporter": "python",
   "pygments_lexer": "ipython3",
   "version": "3.7.0"
  }
 },
 "nbformat": 4,
 "nbformat_minor": 2
}
