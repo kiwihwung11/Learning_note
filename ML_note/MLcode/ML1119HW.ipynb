{
 "cells": [
  {
   "cell_type": "code",
   "execution_count": null,
   "metadata": {},
   "outputs": [],
   "source": [
    "#Titanic Kaggle competition\n",
    "from sklearn import preprocessing\n",
    "import pandas as pd\n",
    "import numpy as np\n",
    "import matplotlib.pyplot as plt\n",
    "import seaborn as sns\n",
    "# Loading the data\n",
    "train = pd.read_csv(\"train.csv\")\n",
    "test = pd.read_csv(\"test.csv\")\n",
    "submit = pd.read_csv(\"gender_submission.csv\")\n",
    "# Observing the data \n",
    "train.info() \n",
    "test.info()"
   ]
  },
  {
   "cell_type": "code",
   "execution_count": null,
   "metadata": {},
   "outputs": [],
   "source": [
    "#由於要對整體資料做⼀些觀察，所以先合併資料。因為合併後index重複，因此將index重新設定\n",
    "data = train.append(test)\n",
    "data\n",
    "data.reset_index(inplace=True, drop=True)"
   ]
  },
  {
   "cell_type": "code",
   "execution_count": null,
   "metadata": {},
   "outputs": [],
   "source": [
    "# %matplotlib inline\n",
    "sns.countplot(data['Survived']) #觀察兩類別的比例是否差別很⼤\n",
    "sns.countplot(data['Pclass'],hue=data ['Survived']) #觀察船票等級和⽣存的關係\n",
    "plt.show()"
   ]
  },
  {
   "cell_type": "code",
   "execution_count": null,
   "metadata": {},
   "outputs": [],
   "source": [
    "#觀察年齡和⽣存的關係\n",
    "g = sns.FacetGrid(data,col='Survived') \n",
    "g.map(sns.distplot,'Age',kde=False)\n",
    "plt.show()"
   ]
  },
  {
   "cell_type": "code",
   "execution_count": null,
   "metadata": {},
   "outputs": [],
   "source": [
    "#定義新的 feature: Family_Size = Parch + SibSp\n",
    "data['Family_Size']=data['Parch']+data['SibSp']\n",
    "g = sns.FacetGrid(data,col='Survived')\n",
    "g.map(sns.distplot,'Family_Size',kde=False)\n",
    "plt.show()"
   ]
  },
  {
   "cell_type": "code",
   "execution_count": null,
   "metadata": {},
   "outputs": [],
   "source": [
    "#特徵工程「 姓名 」不能直接拿來預測，但其中的「 稱謂 」可能會跟是否⽣存有關\n",
    "data['Title1'] = data['Name'].str.split(\", \", expand=True) [1]\n",
    "data['Title1'].head(3)\n",
    "\n",
    "data['Title1'] = data ['Title1'].str.split(\".\",expand=True)[0]\n",
    "data['Title1'].head(3)\n",
    "\n",
    "data['Title1'].unique()"
   ]
  },
  {
   "cell_type": "code",
   "execution_count": null,
   "metadata": {},
   "outputs": [],
   "source": [
    "#特徵⼯程 將稱謂與其他特徵作分析\n",
    "pd.crosstab(data['Title1'],data['Sex']).T.style.background_gradient(cmap='summer_r')"
   ]
  },
  {
   "cell_type": "code",
   "execution_count": null,
   "metadata": {},
   "outputs": [],
   "source": [
    "#某些稱謂的乘客很少，所以合併其中的某些稱謂\n",
    "data['Title2'] = data ['Title1']. replace( ['Mlle', 'Mme','Ms','Dr', 'Major','Lady','the Countess', 'Jonkheer', 'Col', 'Rev', 'Capt', 'Sir', 'Don', 'Dona'],\n",
    "['Miss', 'Mrs', 'Miss', 'Mr', 'Mr', 'Mrs', 'Mrs','Mr','Mr', 'Mr', 'Mr', 'Mr','Mr', 'Mrs'])\n",
    "data['Title2'].unique()"
   ]
  },
  {
   "cell_type": "code",
   "execution_count": null,
   "metadata": {},
   "outputs": [],
   "source": [
    "#將票號資訊取出英⽂代碼(房間位置)的部分，省略後⾯的號碼，如果只有號碼的票號⽤Ｘ表⽰\n",
    "data['Ticket_info'] = data['Ticket'].apply(lambda x :\n",
    "                                           x.replace(\".\",\"\").replace(\"/\",\"\").strip().split(' ')[0] if not x.isdigit() else 'X')\n",
    "data['Ticket_info'].unique()\n",
    "sns.countplot(data['Ticket_info'], hue=data['Survived'])"
   ]
  },
  {
   "cell_type": "code",
   "execution_count": null,
   "metadata": {},
   "outputs": [],
   "source": [
    "#處理遺失值\n",
    "#登船港⼝（Embarked）只遺漏少數，補次數最多的“Ｓ”\n",
    "#費⽤（Fare) 也只少⼀筆，直接補上平均值\n",
    "#觀察艙等（Cabin) 的資料後，只取出最前⾯的英⽂字⺟，剩下的⽤NoCabin來表⽰\n",
    "data ['Embarked'] = data['Embarked'].fillna('S')\n",
    "data['Fare'] = data['Fare']. fillna(data['Fare'].mean( ))\n",
    "data['Cabin'].head(10)\n",
    "data [\"Cabin\"] = data['Cabin'].apply(lambda x: str(x)[0] if not pd.isnull(x) else 'NoCabin')\n",
    "data[\"Cabin\"].unique()\n",
    "sns.countplot(data['Cabin'], hue=data['Survived'] )\n",
    "data.info()"
   ]
  },
  {
   "cell_type": "code",
   "execution_count": null,
   "metadata": {},
   "outputs": [],
   "source": [
    "#將類別資料轉成整數\n",
    "data['Sex'] = data['Sex'].astype('category').cat.codes\n",
    "data ['Embarked'] = data['Embarked'].astype('category').cat.codes\n",
    "data['Pclass'] = data['Pclass'].astype('category').cat.codes\n",
    "data['Title1'] = data['Title1'] .astype('category').cat.codes\n",
    "data['Title2'] = data['Title2' ].astype('category').cat.codes\n",
    "data['Cabin'] = data['Cabin'].astype('category') .cat.codes\n",
    "data['Ticket_info'] = data['Ticket_info'].astype('category').cat.codes"
   ]
  },
  {
   "cell_type": "code",
   "execution_count": null,
   "metadata": {},
   "outputs": [],
   "source": [
    "#利⽤隨機森林來推測年齡\n",
    "from sklearn.ensemble import RandomForestClassifier\n",
    "from sklearn.ensemble import RandomForestRegressor\n",
    "dataAgeNull = data[data['Age'].isnull()]\n",
    "dataAgeNotNull = data[data[\"Age\"].notnull()]\n",
    "remove_outlier = dataAgeNotNull[(np.abs(dataAgeNotNull[\"Fare\"]-\n",
    "                                        dataAgeNotNull[\"Fare\"].mean())>(4*dataAgeNotNull[\"Fare\"].std()))|\n",
    "                                (np.abs(dataAgeNotNull[\"Family_Size\"]-\n",
    "                                         dataAgeNotNull[\"Family_Size\"].mean())>(4*dataAgeNotNull[\"Family_Size\"].std()))\n",
    "                               ]\n",
    "rfModel_age = RandomForestRegressor(n_estimators=2000, random_state=42)\n",
    "ageColumns = ['Embarked', 'Fare', 'Pclass', 'Sex', 'Family_Size', 'Title1','Title2', 'Cabin', 'Ticket_info']\n",
    "rfModel_age.fit(remove_outlier[ageColumns], remove_outlier[\"Age\"])\n",
    "\n",
    "ageNullValues = rfModel_age.predict(X=dataAgeNull[ageColumns])\n",
    "dataAgeNull.loc[:,\"Age\"] = ageNullValues\n",
    "data = dataAgeNull.append(dataAgeNotNull)\n",
    "data.reset_index(inplace=True, drop=True)"
   ]
  },
  {
   "cell_type": "code",
   "execution_count": null,
   "metadata": {},
   "outputs": [],
   "source": [
    "#留下需要的特徵\n",
    "dataTrain = data[pd.notnull(data['Survived'])].sort_values(by=[\"PassengerId\"])\n",
    "dataTest = data[~pd.notnull(data['Survived'])].sort_values(by=[\"PassengerId\"])\n",
    "dataTrain.columns\n",
    "dataTrain = dataTrain[['Survived', 'Age', 'Embarked', 'Fare', 'Pclass', 'Sex','Family_Size', 'Title2', 'Ticket_info','Cabin']]\n",
    "dataTest = dataTest[['Age', 'Embarked', 'Fare', 'Pclass', 'Sex', 'Family_Size','Title2', 'Ticket_info', 'Cabin']]\n",
    "dataTrain"
   ]
  },
  {
   "cell_type": "code",
   "execution_count": null,
   "metadata": {},
   "outputs": [],
   "source": [
    "#利⽤隨機森林來預測存活率\n",
    "from sklearn.ensemble import RandomForestClassifier\n",
    "rf = RandomForestClassifier(criterion='gini'\n",
    "                            ,n_estimators=1000\n",
    "                            ,min_samples_split=12\n",
    "                            ,min_samples_leaf=1\n",
    "                            ,oob_score=True\n",
    "                            ,random_state=1\n",
    "                            ,n_jobs=-1)\n",
    "rf.fit(dataTrain.iloc[:,1:],dataTrain.iloc [:,0])\n",
    "print(\"%.4f\"&rf.oob_score_)"
   ]
  },
  {
   "cell_type": "code",
   "execution_count": null,
   "metadata": {},
   "outputs": [],
   "source": [
    "#產⽣ Submit 檔\n",
    "pd.concat((pd.DataFrame(dataTrain.iloc[:,1:].columns,columns = ['variable']),\n",
    "           pd.DataFrame(rf.feature_importances_,columns = ['importance'])),\n",
    "          axis = 1).sort_values (by='importance', ascending = False) [:20]\n",
    "rf_res = rf.predict(dataTest)\n",
    "submit ['Survived'] = rf_res\n",
    "submit ['Survived'] = submit['Survived'].astype(int)\n",
    "submit.to_csv('submit.csv',index=False)"
   ]
  }
 ],
 "metadata": {
  "kernelspec": {
   "display_name": "Python 3",
   "language": "python",
   "name": "python3"
  },
  "language_info": {
   "codemirror_mode": {
    "name": "ipython",
    "version": 3
   },
   "file_extension": ".py",
   "mimetype": "text/x-python",
   "name": "python",
   "nbconvert_exporter": "python",
   "pygments_lexer": "ipython3",
   "version": "3.7.0"
  }
 },
 "nbformat": 4,
 "nbformat_minor": 2
}
