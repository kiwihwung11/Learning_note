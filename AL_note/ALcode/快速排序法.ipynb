{
 "cells": [
  {
   "cell_type": "code",
   "execution_count": 5,
   "metadata": {},
   "outputs": [
    {
     "name": "stdout",
     "output_type": "stream",
     "text": [
      "[2, 3, 4, 5, 7, 8]\n"
     ]
    }
   ],
   "source": [
    "data = [8,2,5,7,4,3]\n",
    "def quicksort(data, left, right):\n",
    "    if left >= right :\n",
    "        return\n",
    "    x = left #設 x=0\n",
    "    y = right #設 y=5\n",
    "    key=data[left] #基準點(可根據需求調整) data[0]=8 --> key=8\n",
    "    \n",
    "    while x != y:\n",
    "        while data[y] > key and x < y: #當右邊的數值大於基準點 並且 索引值x<y時 y退一格   data[y]=3 !> key=8  x=0 < y=5 不符合執行\n",
    "            y-=1 \n",
    "        while data[x] <= key and x < y: #當左邊的數值小於等於基準點 並且 索引值x<y時 x前進一格 data[x]=8 <= key=8 x=0 < y=5 符合執行\n",
    "            x+=1 #0+1=1 --> x=1\n",
    "        if x < y: #若索引值x<y時 x和y對應數值的位置調換 x=1 < y=5 符合執行\n",
    "            data[x], data[y] = data[y], data[x] #data[1] 和 data[5] 換位\n",
    "            \n",
    "    data[left] = data[x] # data[0] = data[1]\n",
    "    data[x] = key #data[1]變成新的key\n",
    "\n",
    "    quicksort(data, left, x-1)\n",
    "    quicksort(data, x+1, right)\n",
    "\n",
    "quicksort(data,0,len(data)-1)\n",
    "print(data)"
   ]
  },
  {
   "cell_type": "code",
   "execution_count": 11,
   "metadata": {},
   "outputs": [
    {
     "name": "stdout",
     "output_type": "stream",
     "text": [
      "[14, 16, 18, 23, 35]\n"
     ]
    }
   ],
   "source": [
    "data = [18,23,16,35,14]\n",
    "quicksort(data,0,len(data)-1)\n",
    "print(data)"
   ]
  },
  {
   "cell_type": "code",
   "execution_count": 18,
   "metadata": {},
   "outputs": [
    {
     "name": "stdout",
     "output_type": "stream",
     "text": [
      "[18, 23, 14, 16, 35]\n"
     ]
    }
   ],
   "source": [
    "data = [18,23,16,35,14]\n",
    "quicksort(data,2,4)\n",
    "print(data)"
   ]
  },
  {
   "cell_type": "code",
   "execution_count": null,
   "metadata": {},
   "outputs": [],
   "source": []
  }
 ],
 "metadata": {
  "kernelspec": {
   "display_name": "Python 3",
   "language": "python",
   "name": "python3"
  },
  "language_info": {
   "codemirror_mode": {
    "name": "ipython",
    "version": 3
   },
   "file_extension": ".py",
   "mimetype": "text/x-python",
   "name": "python",
   "nbconvert_exporter": "python",
   "pygments_lexer": "ipython3",
   "version": "3.7.0"
  }
 },
 "nbformat": 4,
 "nbformat_minor": 2
}
