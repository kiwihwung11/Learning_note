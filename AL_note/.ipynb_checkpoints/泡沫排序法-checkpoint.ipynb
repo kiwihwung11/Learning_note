{
 "cells": [
  {
   "cell_type": "code",
   "execution_count": 1,
   "metadata": {},
   "outputs": [
    {
     "name": "stdout",
     "output_type": "stream",
     "text": [
      "[22, 56, 69, 78, 87]\n"
     ]
    }
   ],
   "source": [
    "data=[87,22,56,78,69] #從第一個數字開始比較，如果左邊的比右邊的大就交換位子，跑完一輪最大的會到右邊，以此類推最後會排列整齊。\n",
    "\n",
    "def b_sort(data):\n",
    "    n=len(data)\n",
    "    for x in range(n):\n",
    "        for y in range(n-1):  #裡面的迴圈會先跑完，上層迴圈才會更新數值\n",
    "            if data[y]>data[y+1]:\n",
    "                data[y],data[y+1]=data[y+1],data[y]\n",
    "                \n",
    "b_sort(data)\n",
    "print(data)"
   ]
  },
  {
   "cell_type": "code",
   "execution_count": null,
   "metadata": {},
   "outputs": [],
   "source": []
  }
 ],
 "metadata": {
  "kernelspec": {
   "display_name": "Python 3",
   "language": "python",
   "name": "python3"
  },
  "language_info": {
   "codemirror_mode": {
    "name": "ipython",
    "version": 3
   },
   "file_extension": ".py",
   "mimetype": "text/x-python",
   "name": "python",
   "nbconvert_exporter": "python",
   "pygments_lexer": "ipython3",
   "version": "3.7.0"
  }
 },
 "nbformat": 4,
 "nbformat_minor": 2
}
