{
 "cells": [
  {
   "cell_type": "markdown",
   "metadata": {
    "id": "78j8onrOu_Mt"
   },
   "source": [
    "Linked List | Set 1 (Introduction)"
   ]
  },
  {
   "cell_type": "code",
   "execution_count": 1,
   "metadata": {
    "executionInfo": {
     "elapsed": 2219,
     "status": "ok",
     "timestamp": 1603030331337,
     "user": {
      "displayName": "Yeh Hsiang-Yuan",
      "photoUrl": "",
      "userId": "13595099456339688272"
     },
     "user_tz": -480
    },
    "id": "DRdpXj-zvA_8"
   },
   "outputs": [],
   "source": [
    "# Node class \n",
    "class Node: \n",
    "    # Function to initialize the node object \n",
    "    def __init__(self, data): \n",
    "        self.data = data # Assign data \n",
    "        self.next = None # Initialize # next as null \n",
    "\n",
    "# Linked List class \n",
    "class LinkedList: \t\n",
    "    # Function to initialize the Linked \n",
    "    # List object \n",
    "    def __init__(self): \n",
    "        self.head = None"
   ]
  },
  {
   "cell_type": "code",
   "execution_count": 2,
   "metadata": {
    "executionInfo": {
     "elapsed": 3035,
     "status": "ok",
     "timestamp": 1603030332175,
     "user": {
      "displayName": "Yeh Hsiang-Yuan",
      "photoUrl": "",
      "userId": "13595099456339688272"
     },
     "user_tz": -480
    },
    "id": "wBM-bEkvvHus"
   },
   "outputs": [],
   "source": [
    "if __name__=='__main__': \n",
    "\n",
    "    # Start with the empty list \n",
    "    llist = LinkedList() \n",
    "\n",
    "    llist.head = Node(1) #產生一個1的linklist的node\n",
    "    second = Node(2) \n",
    "    third = Node(3) \n",
    "\n",
    "    ''' \n",
    "    Three nodes have been created. \n",
    "    We have references to these three blocks as head, \n",
    "    second and third \n",
    "\n",
    "\tllist.head\t second\t\t\t third \n",
    "\t\t|\t\t\t |\t\t\t\t | \n",
    "\t\t|\t\t\t |\t\t\t\t | \n",
    "\t+----+------+\t +----+------+\t +----+------+ \n",
    "\t| 1 | None |\t | 2 | None |\t | 3 | None | \n",
    "\t+----+------+\t +----+------+\t +----+------+ \n",
    "\t'''\n",
    "\n",
    "\tllist.head.next = second; # Link first node with second  本來是各自接地，變成讓1接到2\n",
    "\n",
    "\t''' \n",
    "\tNow next of first Node refers to second. So they \n",
    "\tboth are linked. \n",
    "\n",
    "\tllist.head\t second\t\t\t third \n",
    "\t\t|\t\t\t |\t\t\t\t | \n",
    "\t\t|\t\t\t |\t\t\t\t | \n",
    "\t+----+------+\t +----+------+\t +----+------+ \n",
    "\t| 1 | o-------->| 2 | null |\t | 3 | null | \n",
    "\t+----+------+\t +----+------+\t +----+------+ \n",
    "\t'''\n",
    "\n",
    "\tsecond.next = third; # Link second node with the third node \n",
    "\n",
    "\t''' \n",
    "\tNow next of second Node refers to third. So all three \n",
    "\tnodes are linked. \n",
    "\n",
    "\tllist.head\t second\t\t\t third \n",
    "\t\t|\t\t\t |\t\t\t\t | \n",
    "\t\t|\t\t\t |\t\t\t\t | \n",
    "\t+----+------+\t +----+------+\t +----+------+ \n",
    "\t| 1 | o-------->| 2 | o-------->| 3 | null | \n",
    "\t+----+------+\t +----+------+\t +----+------+ \n",
    "\t'''\n"
   ]
  },
  {
   "cell_type": "markdown",
   "metadata": {
    "id": "CIZO4kh7voIx"
   },
   "source": [
    "Linked List | Set 2 (Inserting a node)"
   ]
  },
  {
   "cell_type": "code",
   "execution_count": 4,
   "metadata": {
    "colab": {
     "base_uri": "https://localhost:8080/",
     "height": 118
    },
    "executionInfo": {
     "elapsed": 1711,
     "status": "ok",
     "timestamp": 1603030359417,
     "user": {
      "displayName": "Yeh Hsiang-Yuan",
      "photoUrl": "",
      "userId": "13595099456339688272"
     },
     "user_tz": -480
    },
    "id": "PuC003RawlKt",
    "outputId": "8ffbd560-cb04-4009-98e2-c50435ebc162"
   },
   "outputs": [
    {
     "name": "stdout",
     "output_type": "stream",
     "text": [
      "Created linked list is:\n",
      "1\n",
      "7\n",
      "8\n",
      "6\n",
      "4\n"
     ]
    }
   ],
   "source": [
    "# A complete working Python program to demonstrate all \n",
    "# insertion methods of linked list \n",
    "\n",
    "# Node class \n",
    "class Node: \n",
    "\n",
    "\t# Function to initialise the node object \n",
    "\tdef __init__(self, data): \n",
    "\t\tself.data = data # Assign data \n",
    "\t\tself.next = None # Initialize next as null \n",
    "\n",
    "\n",
    "# Linked List class contains a Node object \n",
    "class LinkedList: \n",
    "\n",
    "\t# Function to initialize head \n",
    "\tdef __init__(self): \n",
    "\t\tself.head = None\n",
    "\n",
    "\n",
    "\t# Function to insert a new node at the beginning \n",
    "\tdef push(self, new_data): \n",
    "\n",
    "\t\t# 1 & 2: Allocate the Node & \n",
    "\t\t#\t Put in the data \n",
    "\t\tnew_node = Node(new_data) \n",
    "\n",
    "\t\t# 3. Make next of new Node as head \n",
    "\t\tnew_node.next = self.head \n",
    "\n",
    "\t\t# 4. Move the head to point to new Node \n",
    "\t\tself.head = new_node \n",
    "\n",
    "\n",
    "\t# Inserts a new node after the given prev_node.  \n",
    "\tdef insertAfter(self, prev_node, new_data): \n",
    "\n",
    "\t\t# 1. check if the given prev_node exists \n",
    "\t\tif prev_node is None: \n",
    "\t\t\tprint(\"The given previous node must inLinkedList.\")\n",
    "\t\t\treturn\n",
    "\n",
    "\t\t# 2. create new node & \n",
    "\t\t#\t Put in the data \n",
    "\t\tnew_node = Node(new_data) \n",
    "\n",
    "\t\t# 4. Make next of new Node as next of prev_node \n",
    "\t\tnew_node.next = prev_node.next\n",
    "\n",
    "\t\t# 5. make next of prev_node as new_node \n",
    "\t\tprev_node.next = new_node \n",
    "\n",
    "\n",
    "\t# Appends a new node at the end. \n",
    "\tdef append(self, new_data): \n",
    "\n",
    "\t\t# 1. Create a new node \n",
    "\t\t# 2. Put in the data \n",
    "\t\t# 3. Set next as None \n",
    "\t\tnew_node = Node(new_data) \n",
    "\n",
    "\t\t# 4. If the Linked List is empty, then make the \n",
    "\t\t# new node as head \n",
    "\t\tif self.head is None: \n",
    "\t\t\tself.head = new_node \n",
    "\t\t\treturn\n",
    "\n",
    "\t\t# 5. Else traverse till the last node \n",
    "\t\tlast = self.head \n",
    "\t\twhile (last.next): \n",
    "\t\t\tlast = last.next\n",
    "\n",
    "\t\t# 6. Change the next of last node \n",
    "\t\tlast.next = new_node \n",
    "\n",
    "\n",
    "\t# Utility function to print the linked list \n",
    "\tdef printList(self): \n",
    "\t\ttemp = self.head \n",
    "\t\twhile (temp): \n",
    "\t\t\tprint(temp.data) \n",
    "\t\t\ttemp = temp.next\n",
    "\n",
    "\n",
    "\n",
    "# Code execution starts here \n",
    "if __name__=='__main__': \n",
    "\n",
    "\t# Start with the empty list \n",
    "\tllist = LinkedList() \n",
    "\n",
    "\t# Insert 6. So linked list becomes 6->None \n",
    "\tllist.append(6) \n",
    "\n",
    "\t# Insert 7 at the beginning. So linked list becomes 7->6->None \n",
    "\tllist.push(7); \n",
    "\n",
    "\t# Insert 1 at the beginning. So linked list becomes 1->7->6->None \n",
    "\tllist.push(1); \n",
    "\n",
    "\t# Insert 4 at the end. So linked list becomes 1->7->6->4->None \n",
    "\tllist.append(4) \n",
    "\n",
    "\t# Insert 8, after 7. So linked list becomes 1 -> 7-> 8-> 6-> 4-> None \n",
    "\tllist.insertAfter(llist.head.next, 8) \n",
    "\n",
    "\tprint('Created linked list is:') \n",
    "\tllist.printList() \n"
   ]
  },
  {
   "cell_type": "markdown",
   "metadata": {
    "id": "2SqfUbAhyUG5"
   },
   "source": [
    "Linked List | Set 3 (Deleting a node)"
   ]
  },
  {
   "cell_type": "code",
   "execution_count": 5,
   "metadata": {
    "colab": {
     "base_uri": "https://localhost:8080/",
     "height": 185
    },
    "executionInfo": {
     "elapsed": 1005,
     "status": "ok",
     "timestamp": 1603030366562,
     "user": {
      "displayName": "Yeh Hsiang-Yuan",
      "photoUrl": "",
      "userId": "13595099456339688272"
     },
     "user_tz": -480
    },
    "id": "u2DWJmGNyVqs",
    "outputId": "4e7730ad-ffbd-474b-c235-ef8e21c7855f"
   },
   "outputs": [
    {
     "name": "stdout",
     "output_type": "stream",
     "text": [
      "Created Linked List: \n",
      " 2\n",
      " 3\n",
      " 1\n",
      " 7\n",
      "\n",
      "Linked List after Deletion of 1:\n",
      " 2\n",
      " 3\n",
      " 7\n"
     ]
    }
   ],
   "source": [
    "# Python program to delete a node from linked list \n",
    "\n",
    "# Node class \n",
    "class Node: \n",
    "\n",
    "\t# Constructor to initialize the node object \n",
    "\tdef __init__(self, data): \n",
    "\t\tself.data = data \n",
    "\t\tself.next = None\n",
    "\n",
    "class LinkedList: \n",
    "\n",
    "\t# Function to initialize head \n",
    "\tdef __init__(self): \n",
    "\t\tself.head = None\n",
    "\n",
    "\t# Function to insert a new node at the beginning \n",
    "\tdef push(self, new_data): \n",
    "\t\tnew_node = Node(new_data) \n",
    "\t\tnew_node.next = self.head \n",
    "\t\tself.head = new_node \n",
    "\n",
    "\t# Given a reference to the head of a list and a key, \n",
    "\t# delete the first occurence of key in linked list \n",
    "\tdef deleteNode(self, key): \n",
    "\t\t\n",
    "\t\t# Store head node \n",
    "\t\ttemp = self.head \n",
    "\n",
    "\t\t# If head node itself holds the key to be deleted \n",
    "\t\tif (temp is not None): \n",
    "\t\t\tif (temp.data == key): \n",
    "\t\t\t\tself.head = temp.next\n",
    "\t\t\t\ttemp = None\n",
    "\t\t\t\treturn\n",
    "\n",
    "\t\t# Search for the key to be deleted, keep track of the \n",
    "\t\t# previous node as we need to change 'prev.next' \n",
    "\t\twhile(temp is not None): \n",
    "\t\t\tif temp.data == key: \n",
    "\t\t\t\tbreak\n",
    "\t\t\tprev = temp \n",
    "\t\t\ttemp = temp.next\n",
    "\n",
    "\t\t# if key was not present in linked list \n",
    "\t\tif(temp == None): \n",
    "\t\t\treturn\n",
    "\n",
    "\t\t# Unlink the node from linked list \n",
    "\t\tprev.next = temp.next\n",
    "\n",
    "\t\ttemp = None\n",
    "\n",
    "\n",
    "\t# Utility function to print the linked LinkedList \n",
    "\tdef printList(self): \n",
    "\t\ttemp = self.head \n",
    "\t\twhile(temp): \n",
    "\t\t\tprint(\" %d\" %(temp.data)), \n",
    "\t\t\ttemp = temp.next\n",
    "\n",
    "\n",
    "# Driver program \n",
    "llist = LinkedList() \n",
    "llist.push(7) \n",
    "llist.push(1) \n",
    "llist.push(3) \n",
    "llist.push(2) \n",
    "\n",
    "print(\"Created Linked List: \")\n",
    "llist.printList() \n",
    "llist.deleteNode(1) \n",
    "print(\"\\nLinked List after Deletion of 1:\")\n",
    "llist.printList() \n"
   ]
  },
  {
   "cell_type": "markdown",
   "metadata": {
    "id": "Q5rjtuIuyn_t"
   },
   "source": [
    "Delete a Linked List node at a given position"
   ]
  },
  {
   "cell_type": "code",
   "execution_count": 7,
   "metadata": {
    "colab": {
     "base_uri": "https://localhost:8080/",
     "height": 218
    },
    "executionInfo": {
     "elapsed": 1066,
     "status": "ok",
     "timestamp": 1603030398318,
     "user": {
      "displayName": "Yeh Hsiang-Yuan",
      "photoUrl": "",
      "userId": "13595099456339688272"
     },
     "user_tz": -480
    },
    "id": "1Qn8c2auyqMG",
    "outputId": "78ef835c-ec7c-4594-92c1-6e37121ecbed"
   },
   "outputs": [
    {
     "name": "stdout",
     "output_type": "stream",
     "text": [
      "Created Linked List: \n",
      " 8 \n",
      " 2 \n",
      " 3 \n",
      " 1 \n",
      " 7 \n",
      "\n",
      "Linked List after Deletion at position 4: \n",
      " 8 \n",
      " 2 \n",
      " 3 \n",
      " 1 \n"
     ]
    }
   ],
   "source": [
    "# Python program to delete a node in a linked list \n",
    "# at a given position \n",
    "\n",
    "# Node class \n",
    "class Node: \n",
    "\n",
    "\t# Constructor to initialize the node object \n",
    "\tdef __init__(self, data): \n",
    "\t\tself.data = data \n",
    "\t\tself.next = None\n",
    "\n",
    "class LinkedList: \n",
    "\n",
    "\t# Constructor to initialize head \n",
    "\tdef __init__(self): \n",
    "\t\tself.head = None\n",
    "\n",
    "\t# Function to insert a new node at the beginning \n",
    "\tdef push(self, new_data): \n",
    "\t\tnew_node = Node(new_data) \n",
    "\t\tnew_node.next = self.head \n",
    "\t\tself.head = new_node \n",
    "\n",
    "\t# Given a reference to the head of a list \n",
    "\t# and a position, delete the node at a given position \n",
    "\tdef deleteNode(self, position): \n",
    "\n",
    "\t\t# If linked list is empty \n",
    "\t\tif self.head == None: \n",
    "\t\t\treturn\n",
    "\n",
    "\t\t# Store head node \n",
    "\t\ttemp = self.head \n",
    "\n",
    "\t\t# If head needs to be removed \n",
    "\t\tif position == 0: \n",
    "\t\t\tself.head = temp.next\n",
    "\t\t\ttemp = None\n",
    "\t\t\treturn\n",
    "\n",
    "\t\t# Find previous node of the node to be deleted \n",
    "\t\tfor i in range(position-1): \n",
    "\t\t\ttemp = temp.next\n",
    "\t\t\tif temp is None: \n",
    "\t\t\t\tbreak\n",
    "\n",
    "\t\t# If position is more than number of nodes \n",
    "\t\tif temp is None: \n",
    "\t\t\treturn\n",
    "\t\tif temp.next is None: \n",
    "\t\t\treturn\n",
    "\n",
    "\t\t# Node temp.next is the node to be deleted \n",
    "\t\t# store pointer to the next of node to be deleted \n",
    "\t\tnext = temp.next.next\n",
    "\n",
    "\t\t# Unlink the node from linked list \n",
    "\t\ttemp.next = None\n",
    "\n",
    "\t\ttemp.next = next\n",
    "\n",
    "\n",
    "\t# Utility function to print the linked LinkedList \n",
    "\tdef printList(self): \n",
    "\t\ttemp = self.head \n",
    "\t\twhile(temp): \n",
    "\t\t\tprint(\" %d \" %(temp.data)) \n",
    "\t\t\ttemp = temp.next\n",
    "\n",
    "\n",
    "# Driver program to test above function \n",
    "llist = LinkedList() \n",
    "llist.push(7) \n",
    "llist.push(1) \n",
    "llist.push(3) \n",
    "llist.push(2) \n",
    "llist.push(8) \n",
    "\n",
    "print(\"Created Linked List: \")\n",
    "llist.printList() \n",
    "llist.deleteNode(4) \n",
    "print(\"\\nLinked List after Deletion at position 4: \")\n",
    "llist.printList() "
   ]
  },
  {
   "cell_type": "markdown",
   "metadata": {
    "id": "U3s-WktrziTx"
   },
   "source": [
    "Find Length of a Linked List (Iterative and Recursive)"
   ]
  },
  {
   "cell_type": "code",
   "execution_count": 8,
   "metadata": {
    "colab": {
     "base_uri": "https://localhost:8080/",
     "height": 34
    },
    "executionInfo": {
     "elapsed": 945,
     "status": "ok",
     "timestamp": 1603030403895,
     "user": {
      "displayName": "Yeh Hsiang-Yuan",
      "photoUrl": "",
      "userId": "13595099456339688272"
     },
     "user_tz": -480
    },
    "id": "5aTJyk05z52f",
    "outputId": "6fd3aa99-3816-4bb5-c659-a194c9a0e026"
   },
   "outputs": [
    {
     "name": "stdout",
     "output_type": "stream",
     "text": [
      "Count of nodes is : 5\n"
     ]
    }
   ],
   "source": [
    "# Node class \n",
    "class Node: \n",
    "\t# Function to initialise the node object \n",
    "\tdef __init__(self, data): \n",
    "\t\tself.data = data # Assign data \n",
    "\t\tself.next = None # Initialize next as null \n",
    "\n",
    "# Linked List class contains a Node object \n",
    "class LinkedList: \n",
    "\n",
    "\t# Function to initialize head \n",
    "\tdef __init__(self): \n",
    "\t\tself.head = None\n",
    "\n",
    "\t# This function is in LinkedList class. It inserts \n",
    "\t# a new node at the beginning of Linked List. \n",
    "\tdef push(self, new_data): \n",
    "\n",
    "\t\t# 1 & 2: Allocate the Node & \n",
    "\t\t#\t Put in the data \n",
    "\t\tnew_node = Node(new_data) \n",
    "\n",
    "\t\t# 3. Make next of new Node as head \n",
    "\t\tnew_node.next = self.head \n",
    "\n",
    "\t\t# 4. Move the head to point to new Node \n",
    "\t\tself.head = new_node \n",
    "\n",
    "\t# This function counts number of nodes in Linked List \n",
    "\t# iteratively, given 'node' as starting node. \n",
    "\tdef getCount(self): \n",
    "\t\ttemp = self.head # Initialise temp \n",
    "\t\tcount = 0 # Initialise count \n",
    "\n",
    "\t\t# Loop while end of linked list is not reached \n",
    "\t\twhile (temp): \n",
    "\t\t\tcount += 1\n",
    "\t\t\ttemp = temp.next\n",
    "\t\treturn count \n",
    "\n",
    "\n",
    "# Code execution starts here \n",
    "if __name__=='__main__': \n",
    "\tllist = LinkedList() \n",
    "\tllist.push(1) \n",
    "\tllist.push(3) \n",
    "\tllist.push(1) \n",
    "\tllist.push(2) \n",
    "\tllist.push(1) \n",
    "\tprint(\"Count of nodes is :\",llist.getCount()) \n"
   ]
  },
  {
   "cell_type": "markdown",
   "metadata": {
    "id": "Iorfy8et1HS3"
   },
   "source": [
    "Search an element in a Linked List (Iterative and Recursive)"
   ]
  },
  {
   "cell_type": "code",
   "execution_count": 9,
   "metadata": {
    "colab": {
     "base_uri": "https://localhost:8080/",
     "height": 34
    },
    "executionInfo": {
     "elapsed": 990,
     "status": "ok",
     "timestamp": 1603030408630,
     "user": {
      "displayName": "Yeh Hsiang-Yuan",
      "photoUrl": "",
      "userId": "13595099456339688272"
     },
     "user_tz": -480
    },
    "id": "6BB39bvE1Jzn",
    "outputId": "e2570fd8-e2b4-400a-ad68-85ad81493221"
   },
   "outputs": [
    {
     "name": "stdout",
     "output_type": "stream",
     "text": [
      "Yes\n"
     ]
    }
   ],
   "source": [
    "# Iterative Python program to search an element \n",
    "# in linked list \n",
    "\n",
    "# Node class \n",
    "class Node: \n",
    "\t\n",
    "\t# Function to initialise the node object \n",
    "\tdef __init__(self, data): \n",
    "\t\tself.data = data # Assign data \n",
    "\t\tself.next = None # Initialize next as null \n",
    "\n",
    "# Linked List class \n",
    "class LinkedList: \n",
    "\tdef __init__(self): \n",
    "\t\tself.head = None # Initialize head as None \n",
    "\n",
    "\t# This function insert a new node at the \n",
    "\t# beginning of the linked list \n",
    "\tdef push(self, new_data): \n",
    "\t\n",
    "\t\t# Create a new Node \n",
    "\t\tnew_node = Node(new_data) \n",
    "\n",
    "\t\t# 3. Make next of new Node as head \n",
    "\t\tnew_node.next = self.head \n",
    "\n",
    "\t\t# 4. Move the head to point to new Node \n",
    "\t\tself.head = new_node \n",
    "\n",
    "\t# This Function checks whether the value \n",
    "\t# x present in the linked list \n",
    "\tdef search(self, x): \n",
    "\n",
    "\t\t# Initialize current to head \n",
    "\t\tcurrent = self.head \n",
    "\n",
    "\t\t# loop till current not equal to None \n",
    "\t\twhile current != None: \n",
    "\t\t\tif current.data == x: \n",
    "\t\t\t\treturn True # data found \n",
    "\t\t\t\n",
    "\t\t\tcurrent = current.next\n",
    "\t\t\n",
    "\t\treturn False # Data Not found \n",
    "\n",
    "\n",
    "# Code execution starts here \n",
    "if __name__ == '__main__': \n",
    "\n",
    "\t# Start with the empty list \n",
    "\tllist = LinkedList() \n",
    "\n",
    "\t''' Use push() to construct below list \n",
    "\t\t14->21->11->30->10 '''\n",
    "\tllist.push(10); \n",
    "\tllist.push(30); \n",
    "\tllist.push(11); \n",
    "\tllist.push(21); \n",
    "\tllist.push(14); \n",
    "\n",
    "\tif llist.search(21): \n",
    "\t\tprint(\"Yes\") \n",
    "\telse: \n",
    "\t\tprint(\"No\") "
   ]
  },
  {
   "cell_type": "code",
   "execution_count": 10,
   "metadata": {
    "colab": {
     "base_uri": "https://localhost:8080/",
     "height": 34
    },
    "executionInfo": {
     "elapsed": 960,
     "status": "ok",
     "timestamp": 1603030412527,
     "user": {
      "displayName": "Yeh Hsiang-Yuan",
      "photoUrl": "",
      "userId": "13595099456339688272"
     },
     "user_tz": -480
    },
    "id": "Lv9-R8rE1M_f",
    "outputId": "81eee1b0-e950-46c5-e2db-47fb5f7562fd"
   },
   "outputs": [
    {
     "name": "stdout",
     "output_type": "stream",
     "text": [
      "Yes\n"
     ]
    }
   ],
   "source": [
    "# Recursive Python program to search an element in linked list \n",
    "\n",
    "# Node class \n",
    "class Node: \n",
    "\t\n",
    "\t# Function to initialise \n",
    "\t# the node object \n",
    "\tdef __init__(self, data): \n",
    "\t\tself.data = data # Assign data \n",
    "\t\tself.next = None # Initialize next as null \n",
    "\n",
    "class LinkedList: \n",
    "\t\n",
    "\tdef __init__(self): \n",
    "\t\tself.head = None # Initialize head as None \n",
    "\n",
    "\t# This function insert a new node at \n",
    "\t# the beginning of the linked list \n",
    "\tdef push(self, new_data): \n",
    "\t\n",
    "\t\t# Create a new Node \n",
    "\t\tnew_node = Node(new_data) \n",
    "\n",
    "\t\t# Make next of new Node as head \n",
    "\t\tnew_node.next = self.head \n",
    "\n",
    "\t\t# Move the head to \n",
    "\t\t# point to new Node \n",
    "\t\tself.head = new_node \n",
    "\t\n",
    "\t\n",
    "\t# Checks whether the value key \n",
    "\t# is present in linked list \n",
    "\tdef search(self, li, key): \n",
    "\t\t\n",
    "\t\t# Base case \n",
    "\t\tif(not li): \n",
    "\t\t\treturn False\n",
    "\t\t\n",
    "\t\t# If key is present in \n",
    "\t\t# current node, return true \n",
    "\t\tif(li.data == key): \n",
    "\t\t\treturn True\n",
    "\t\t\n",
    "\t\t# Recur for remaining list \n",
    "\t\treturn self.search(li.next, key) \n",
    "\t\n",
    "# Driver Code\t\t\t \n",
    "if __name__=='__main__': \n",
    "\n",
    "\tli = LinkedList() \n",
    "\t\n",
    "\tli.push(1) \n",
    "\tli.push(2) \n",
    "\tli.push(3) \n",
    "\tli.push(4) \n",
    "\t\n",
    "\tkey = 4\n",
    "\t\n",
    "\tif li.search(li.head,key): \n",
    "\t\tprint(\"Yes\") \n",
    "\telse: \n",
    "\t\tprint(\"No\") "
   ]
  },
  {
   "cell_type": "markdown",
   "metadata": {
    "id": "uLgWvhsR1SyI"
   },
   "source": [
    "Write a function to get Nth node in a Linked List"
   ]
  },
  {
   "cell_type": "code",
   "execution_count": 11,
   "metadata": {
    "colab": {
     "base_uri": "https://localhost:8080/",
     "height": 34
    },
    "executionInfo": {
     "elapsed": 984,
     "status": "ok",
     "timestamp": 1603030416592,
     "user": {
      "displayName": "Yeh Hsiang-Yuan",
      "photoUrl": "",
      "userId": "13595099456339688272"
     },
     "user_tz": -480
    },
    "id": "IlWymZFB1vOM",
    "outputId": "ba77ff4c-e169-48db-b8c2-0e50cc4e660a"
   },
   "outputs": [
    {
     "name": "stdout",
     "output_type": "stream",
     "text": [
      "Element at index 3 is : 4\n"
     ]
    }
   ],
   "source": [
    "# A complete working Python program to find n'th node \n",
    "# in a linked list \n",
    "\n",
    "# Node class \n",
    "class Node: \n",
    "\t# Function to initialise the node object \n",
    "\tdef __init__(self, data): \n",
    "\t\tself.data = data # Assign data \n",
    "\t\tself.next = None # Initialize next as null \n",
    "\n",
    "\n",
    "# Linked List class contains a Node object \n",
    "class LinkedList: \n",
    "\n",
    "\t# Function to initialize head \n",
    "\tdef __init__(self): \n",
    "\t\tself.head = None\n",
    "\n",
    "\n",
    "\t# This function is in LinkedList class. It inserts \n",
    "\t# a new node at the beginning of Linked List. \n",
    "\tdef push(self, new_data): \n",
    "\n",
    "\t\t# 1 & 2: Allocate the Node & \n",
    "\t\t#\t Put in the data \n",
    "\t\tnew_node = Node(new_data) \n",
    "\n",
    "\t\t# 3. Make next of new Node as head \n",
    "\t\tnew_node.next = self.head \n",
    "\n",
    "\t\t# 4. Move the head to point to new Node \n",
    "\t\tself.head = new_node \n",
    "\n",
    "\t# Returns data at given index in linked list \n",
    "\tdef getNth(self, index): \n",
    "\t\tcurrent = self.head # Initialise temp \n",
    "\t\tcount = 0 # Index of current node \n",
    "\n",
    "\t\t# Loop while end of linked list is not reached \n",
    "\t\twhile (current): \n",
    "\t\t\tif (count == index): \n",
    "\t\t\t\treturn current.data \n",
    "\t\t\tcount += 1\n",
    "\t\t\tcurrent = current.next\n",
    "\n",
    "\t\t# if we get to this line, the caller was asking \n",
    "\t\t# for a non-existent element so we assert fail \n",
    "\t\tassert(false) \n",
    "\t\treturn 0; \n",
    "\n",
    "# Code execution starts here \n",
    "if __name__=='__main__': \n",
    "\n",
    "\tllist = LinkedList() \n",
    "\n",
    "\t# Use push() to construct below list \n",
    "\t# 1->12->1->4->1 \n",
    "\tllist.push(1); \n",
    "\tllist.push(4); \n",
    "\tllist.push(1); \n",
    "\tllist.push(12); \n",
    "\tllist.push(1); \n",
    "\n",
    "\tn = 3\n",
    "\tprint(\"Element at index 3 is :\", llist.getNth(n)) \n"
   ]
  },
  {
   "cell_type": "code",
   "execution_count": 12,
   "metadata": {
    "colab": {
     "base_uri": "https://localhost:8080/",
     "height": 34
    },
    "executionInfo": {
     "elapsed": 957,
     "status": "ok",
     "timestamp": 1603030420868,
     "user": {
      "displayName": "Yeh Hsiang-Yuan",
      "photoUrl": "",
      "userId": "13595099456339688272"
     },
     "user_tz": -480
    },
    "id": "nV_2pBDS1yQI",
    "outputId": "2b4c5de4-9579-4924-a6fb-85cbd09cc901"
   },
   "outputs": [
    {
     "name": "stdout",
     "output_type": "stream",
     "text": [
      "Element at Index 3 is 1\n"
     ]
    }
   ],
   "source": [
    "# Python3 program to find n'th node in \n",
    "# linked list using recursion \n",
    "class Node: \n",
    "\tdef __init__(self, data): \n",
    "\t\tself.data = data \n",
    "\t\tself.next = None\n",
    "\n",
    "class LinkedList: \n",
    "\tdef __init__(self): \n",
    "\t\tself.head = None\n",
    "\n",
    "\t''' Given a reference (pointer to pointer) to the \n",
    "\t\thead of a list and an int, push a new node on \n",
    "\t\tthe front of the list. '''\n",
    "\tdef push(self, new_data): # make new node and add \n",
    "\t\t\t\t\t\t\t# into LinkedList \n",
    "\t\tnew_node = Node(new_data) \n",
    "\t\tnew_node.next = self.head \n",
    "\t\tself.head = new_node \n",
    "\t\n",
    "\tdef getNth(self, llist, position): \n",
    "\n",
    "\t\t# call recursive method \n",
    "\t\tllist.getNthNode(self.head, position, llist) \n",
    "\n",
    "\t# recursive method to find Nth Node \n",
    "\tdef getNthNode(self, head, position, llist): \n",
    "\t\tcount = 1 # initialize count \n",
    "\t\tif(head): \n",
    "\t\t\tif count == position: # if count is equal to position, \n",
    "\t\t\t\t\t\t\t\t# it means we have found the position \n",
    "\t\t\t\tprint(head.data) \n",
    "\t\t\telse: \n",
    "\t\t\t\tllist.getNthNode(head.next, position - 1, llist) \n",
    "\t\telse: # if head doesn't exist we have \n",
    "\t\t\t# traversed the LinkedList \n",
    "\t\t\tprint('Index Doesn\\'t exist') \n",
    "\n",
    "# Driver Code\t\t\t \n",
    "if __name__==\"__main__\": \n",
    "\tllist = LinkedList() \n",
    "\tllist.push(1) \n",
    "\tllist.push(4) \n",
    "\tllist.push(1) \n",
    "\tllist.push(12) \n",
    "\tllist.push(1) \n",
    "\t# llist.getNth(llist,int(input())) \n",
    "\t# Enter the node position here \n",
    "\t# first argument is instance of LinkedList \n",
    "\t\n",
    "\tprint(\"Element at Index 3 is\", end = \" \") \n",
    "\tllist.getNth(llist, 3) "
   ]
  },
  {
   "cell_type": "markdown",
   "metadata": {
    "id": "ds_TdQbk2Y1Y"
   },
   "source": [
    "Write a function that counts the number of times a given int occurs in a Linked List"
   ]
  },
  {
   "cell_type": "code",
   "execution_count": 15,
   "metadata": {
    "colab": {
     "base_uri": "https://localhost:8080/",
     "height": 34
    },
    "executionInfo": {
     "elapsed": 1074,
     "status": "ok",
     "timestamp": 1603030440425,
     "user": {
      "displayName": "Yeh Hsiang-Yuan",
      "photoUrl": "",
      "userId": "13595099456339688272"
     },
     "user_tz": -480
    },
    "id": "C6n3vTmY2bYo",
    "outputId": "4d9ed0eb-3abe-45b1-cb05-8c186be49077"
   },
   "outputs": [
    {
     "name": "stdout",
     "output_type": "stream",
     "text": [
      "count of 1 is  3\n"
     ]
    }
   ],
   "source": [
    "# Python program to count the number of time a given int occurs in a linked list \n",
    "\n",
    "# Node class \n",
    "class Node: \n",
    "\n",
    "\t# Constructor to initialize the node object \n",
    "\tdef __init__(self, data): \n",
    "\t\tself.data = data \n",
    "\t\tself.next = None\n",
    "\n",
    "class LinkedList: \n",
    "\n",
    "\t# Function to initialize head \n",
    "\tdef __init__(self): \n",
    "\t\tself.head = None\n",
    "\n",
    "\t# Counts the no . of occurrences of a node (search_for) in a linked list (head) \n",
    "\tdef count(self, search_for): \n",
    "\t\tcurrent = self.head \n",
    "\t\tcount = 0\n",
    "\t\twhile(current is not None): \n",
    "\t\t\tif current.data == search_for: \n",
    "\t\t\t\tcount += 1\n",
    "\t\t\tcurrent = current.next\n",
    "\t\treturn count \n",
    "\n",
    "\t# Function to insert a new node at the beginning \n",
    "\tdef push(self, new_data): \n",
    "\t\tnew_node = Node(new_data) \n",
    "\t\tnew_node.next = self.head \n",
    "\t\tself.head = new_node \n",
    "\n",
    "\t# Utility function to print the linked LinkedList \n",
    "\tdef printList(self): \n",
    "\t\ttemp = self.head \n",
    "\t\twhile(temp): \n",
    "\t\t\tprint(temp.data)\n",
    "\t\t\ttemp = temp.next\n",
    "\n",
    "\n",
    "# Driver program \n",
    "llist = LinkedList() \n",
    "llist.push(1) \n",
    "llist.push(3) \n",
    "llist.push(1) \n",
    "llist.push(2) \n",
    "llist.push(1) \n",
    "\n",
    "# Check for the count function \n",
    "print(\"count of 1 is % d\" %(llist.count(1)))"
   ]
  },
  {
   "cell_type": "code",
   "execution_count": 16,
   "metadata": {
    "colab": {
     "base_uri": "https://localhost:8080/",
     "height": 34
    },
    "executionInfo": {
     "elapsed": 945,
     "status": "ok",
     "timestamp": 1603030446257,
     "user": {
      "displayName": "Yeh Hsiang-Yuan",
      "photoUrl": "",
      "userId": "13595099456339688272"
     },
     "user_tz": -480
    },
    "id": "4AhKALBT2gpo",
    "outputId": "4093265c-c907-4ea5-c015-c64bb9946aae"
   },
   "outputs": [
    {
     "name": "stdout",
     "output_type": "stream",
     "text": [
      "count of 1 is 3\n"
     ]
    }
   ],
   "source": [
    "# Python program to count the number of \n",
    "# time a given int occurs in a linked list \n",
    "# Node class \n",
    "class Node: \n",
    "\t\n",
    "\t# Constructor to initialize the node object \n",
    "\tdef __init__(self, data): \n",
    "\t\tself.data = data \n",
    "\t\tself.next = None\n",
    "\n",
    "class LinkedList: \n",
    "\t\n",
    "\t# Function to initialize head \n",
    "\tdef __init__(self): \n",
    "\t\tself.head = None\n",
    "\t\tself.counter = 0\n",
    "\t\t\n",
    "\t# Counts the no . of occurances of a node \n",
    "\t# (seach_for) in a linkded list (head) \n",
    "\tdef count(self, li, key):\t \n",
    "\t\t\n",
    "\t\t# Base case \n",
    "\t\tif(not li): \n",
    "\t\t\treturn self.counter \n",
    "\t\t\n",
    "\t\t# If key is present in \n",
    "\t\t# current node, return true \n",
    "\t\tif(li.data == key): \n",
    "\t\t\tself.counter = self.counter + 1\n",
    "\t\t\n",
    "\t\t# Recur for remaining list \n",
    "\t\treturn self.count(li.next, key) \n",
    "\n",
    "\t# Function to insert a new node \n",
    "\t# at the beginning \n",
    "\tdef push(self, new_data): \n",
    "\t\tnew_node = Node(new_data) \n",
    "\t\tnew_node.next = self.head \n",
    "\t\tself.head = new_node \n",
    "\n",
    "\t# Utility function to print the \n",
    "\t# linked LinkedList \n",
    "\tdef printList(self): \n",
    "\t\ttemp = self.head \n",
    "\t\twhile(temp): \n",
    "\t\t\tprint (temp.data) \n",
    "\t\t\ttemp = temp.next\n",
    "\n",
    "# Driver Code \n",
    "llist = LinkedList() \n",
    "llist.push(1) \n",
    "llist.push(3) \n",
    "llist.push(1) \n",
    "llist.push(2) \n",
    "llist.push(1) \n",
    "\n",
    "# Check for the count function \n",
    "print(\"count of 1 is\", llist.count(llist.head, 1)) \n"
   ]
  },
  {
   "cell_type": "markdown",
   "metadata": {
    "id": "7U7W3Ui-7ea0"
   },
   "source": [
    "Reverse a linked list"
   ]
  },
  {
   "cell_type": "code",
   "execution_count": 18,
   "metadata": {
    "colab": {
     "base_uri": "https://localhost:8080/",
     "height": 202
    },
    "executionInfo": {
     "elapsed": 947,
     "status": "ok",
     "timestamp": 1603030462705,
     "user": {
      "displayName": "Yeh Hsiang-Yuan",
      "photoUrl": "",
      "userId": "13595099456339688272"
     },
     "user_tz": -480
    },
    "id": "zW89k-gA7gI1",
    "outputId": "b978aad6-affe-4583-91df-6d30faa0a105"
   },
   "outputs": [
    {
     "name": "stdout",
     "output_type": "stream",
     "text": [
      "Given Linked List\n",
      "85\n",
      "15\n",
      "4\n",
      "20\n",
      "\n",
      "Reversed Linked List\n",
      "20\n",
      "4\n",
      "15\n",
      "85\n"
     ]
    }
   ],
   "source": [
    "# Python program to reverse a linked list \n",
    "# Time Complexity : O(n) \n",
    "# Space Complexity : O(1) \n",
    "\n",
    "# Node class \n",
    "class Node: \n",
    "\n",
    "\t# Constructor to initialize the node object \n",
    "\tdef __init__(self, data): \n",
    "\t\tself.data = data \n",
    "\t\tself.next = None\n",
    "\n",
    "class LinkedList: \n",
    "\n",
    "\t# Function to initialize head \n",
    "\tdef __init__(self): \n",
    "\t\tself.head = None\n",
    "\n",
    "\t# Function to reverse the linked list \n",
    "\tdef reverse(self): \n",
    "\t\tprev = None\n",
    "\t\tcurrent = self.head \n",
    "\t\twhile(current is not None): \n",
    "\t\t\tnext = current.next\n",
    "\t\t\tcurrent.next = prev \n",
    "\t\t\tprev = current \n",
    "\t\t\tcurrent = next\n",
    "\t\tself.head = prev \n",
    "\t\t\n",
    "\t# Function to insert a new node at the beginning \n",
    "\tdef push(self, new_data): \n",
    "\t\tnew_node = Node(new_data) \n",
    "\t\tnew_node.next = self.head \n",
    "\t\tself.head = new_node \n",
    "\n",
    "\t# Utility function to print the linked LinkedList \n",
    "\tdef printList(self): \n",
    "\t\ttemp = self.head \n",
    "\t\twhile(temp): \n",
    "\t\t\tprint(temp.data) \n",
    "\t\t\ttemp = temp.next\n",
    "\n",
    "\n",
    "# Driver program to test above functions \n",
    "llist = LinkedList() \n",
    "llist.push(20) \n",
    "llist.push(4) \n",
    "llist.push(15) \n",
    "llist.push(85) \n",
    "\n",
    "print(\"Given Linked List\")\n",
    "llist.printList() \n",
    "llist.reverse() \n",
    "print(\"\\nReversed Linked List\")\n",
    "llist.printList()  "
   ]
  },
  {
   "cell_type": "code",
   "execution_count": 19,
   "metadata": {
    "colab": {
     "base_uri": "https://localhost:8080/",
     "height": 84
    },
    "executionInfo": {
     "elapsed": 1022,
     "status": "ok",
     "timestamp": 1603030470152,
     "user": {
      "displayName": "Yeh Hsiang-Yuan",
      "photoUrl": "",
      "userId": "13595099456339688272"
     },
     "user_tz": -480
    },
    "id": "7Pz1kFDm7iDb",
    "outputId": "1e84d2d7-016d-4ee5-d8f6-7fdf84782aa9"
   },
   "outputs": [
    {
     "name": "stdout",
     "output_type": "stream",
     "text": [
      "Given linked list\n",
      "85 15 4 20 \n",
      "Reversed linked list\n",
      "20 4 15 85 \n"
     ]
    }
   ],
   "source": [
    "\"\"\"Python3 program to reverse linked list using recursive method\"\"\"\n",
    "\n",
    "# Linked List Node \n",
    "class Node: \n",
    "\tdef __init__(self, data): \n",
    "\t\tself.data = data \n",
    "\t\tself.next = None\n",
    "\n",
    "# Create and Handle list operations \n",
    "class LinkedList: \n",
    "\tdef __init__(self): \n",
    "\t\tself.head = None # Head of list \n",
    "\n",
    "\t# Method to reverse the list \n",
    "\tdef reverse(self, head): \n",
    "\n",
    "\t\t# If head is empty or has reached the list end \n",
    "\t\tif head is None or head.next is None: \n",
    "\t\t\treturn head \n",
    "\n",
    "\t\t# Reverse the rest list \n",
    "\t\trest = self.reverse(head.next) \n",
    "\n",
    "\t\t# Put first element at the end \n",
    "\t\thead.next.next = head \n",
    "\t\thead.next = None\n",
    "\n",
    "\t\t# Fix the header pointer \n",
    "\t\treturn rest \n",
    "\n",
    "\t# Returns the linked list in display format \n",
    "\tdef __str__(self): \n",
    "\t\tlinkedListStr = \"\" \n",
    "\t\ttemp = self.head \n",
    "\t\twhile temp: \n",
    "\t\t\tlinkedListStr = (linkedListStr +\n",
    "\t\t\t\t\t\t\tstr(temp.data) + \" \") \n",
    "\t\t\ttemp = temp.next\n",
    "\t\treturn linkedListStr \n",
    "\n",
    "\t# Pushes new data to the head of the list \n",
    "\tdef push(self, data): \n",
    "\t\ttemp = Node(data) \n",
    "\t\ttemp.next = self.head \n",
    "\t\tself.head = temp \n",
    "\n",
    "# Driver code \n",
    "linkedList = LinkedList() \n",
    "linkedList.push(20) \n",
    "linkedList.push(4) \n",
    "linkedList.push(15) \n",
    "linkedList.push(85) \n",
    "\n",
    "print(\"Given linked list\") \n",
    "print(linkedList) \n",
    "\n",
    "linkedList.head = linkedList.reverse(linkedList.head) \n",
    "\n",
    "print(\"Reversed linked list\") \n",
    "print(linkedList) "
   ]
  },
  {
   "cell_type": "code",
   "execution_count": 21,
   "metadata": {
    "colab": {
     "base_uri": "https://localhost:8080/",
     "height": 336
    },
    "executionInfo": {
     "elapsed": 1175,
     "status": "ok",
     "timestamp": 1603030482445,
     "user": {
      "displayName": "Yeh Hsiang-Yuan",
      "photoUrl": "",
      "userId": "13595099456339688272"
     },
     "user_tz": -480
    },
    "id": "xBW3eHLz7jqU",
    "outputId": "f6f3b521-99ac-4a15-8984-007d3f65da85"
   },
   "outputs": [
    {
     "name": "stdout",
     "output_type": "stream",
     "text": [
      "Given linked list\n",
      "1\n",
      "2\n",
      "3\n",
      "4\n",
      "5\n",
      "6\n",
      "7\n",
      "8\n",
      "\n",
      "Reverse linked list\n",
      "8\n",
      "7\n",
      "6\n",
      "5\n",
      "4\n",
      "3\n",
      "2\n",
      "1\n"
     ]
    }
   ],
   "source": [
    "# Simple and tail recursive Python program to reverse a linked list \n",
    "\n",
    "# Node class \n",
    "class Node: \n",
    "\n",
    "\t# Constructor to initialize the node object \n",
    "\tdef __init__(self, data): \n",
    "\t\tself.data = data \n",
    "\t\tself.next = None\n",
    "\n",
    "class LinkedList: \n",
    "\n",
    "\t# Function to initialize head \n",
    "\tdef __init__(self): \n",
    "\t\tself.head = None\n",
    "\n",
    "\n",
    "\tdef reverseUtil(self, curr, prev): \n",
    "\t\t\n",
    "\t\t# If last node mark it head \n",
    "\t\tif curr.next is None : \n",
    "\t\t\tself.head = curr \n",
    "\t\t\t\n",
    "\t\t\t# Update next to prev node \n",
    "\t\t\tcurr.next = prev \n",
    "\t\t\treturn\n",
    "\t\t\n",
    "\t\t# Save curr.next node for recursive call \n",
    "\t\tnext = curr.next\n",
    "\n",
    "\t\t# And update next \n",
    "\t\tcurr.next = prev \n",
    "\t\n",
    "\t\tself.reverseUtil(next, curr) \n",
    "\n",
    "\n",
    "\t# This function mainly calls reverseUtil() \n",
    "\t# with previous as None \n",
    "\tdef reverse(self): \n",
    "\t\tif self.head is None: \n",
    "\t\t\treturn\n",
    "\t\tself.reverseUtil(self.head, None) \n",
    "\n",
    "\n",
    "\t# Function to insert a new node at the beginning \n",
    "\tdef push(self, new_data): \n",
    "\t\tnew_node = Node(new_data) \n",
    "\t\tnew_node.next = self.head \n",
    "\t\tself.head = new_node \n",
    "\n",
    "\t# Utility function to print the linked LinkedList \n",
    "\tdef printList(self): \n",
    "\t\ttemp = self.head \n",
    "\t\twhile(temp): \n",
    "\t\t\tprint(temp.data)\n",
    "\t\t\ttemp = temp.next\n",
    "\n",
    "\n",
    "# Driver program \n",
    "llist = LinkedList() \n",
    "llist.push(8) \n",
    "llist.push(7) \n",
    "llist.push(6) \n",
    "llist.push(5) \n",
    "llist.push(4) \n",
    "llist.push(3) \n",
    "llist.push(2) \n",
    "llist.push(1) \n",
    "\n",
    "print(\"Given linked list\")\n",
    "llist.printList() \n",
    "\n",
    "llist.reverse() \n",
    "\n",
    "print(\"\\nReverse linked list\")\n",
    "llist.printList() "
   ]
  },
  {
   "cell_type": "markdown",
   "metadata": {
    "id": "hibwicErYU6W"
   },
   "source": [
    "Stack Data Structure (Introduction and Program)"
   ]
  },
  {
   "cell_type": "code",
   "execution_count": 22,
   "metadata": {
    "colab": {
     "base_uri": "https://localhost:8080/",
     "height": 101
    },
    "executionInfo": {
     "elapsed": 995,
     "status": "ok",
     "timestamp": 1603030487850,
     "user": {
      "displayName": "Yeh Hsiang-Yuan",
      "photoUrl": "",
      "userId": "13595099456339688272"
     },
     "user_tz": -480
    },
    "id": "XULCt5buYZkx",
    "outputId": "e3dff1ce-f436-4e10-e576-951fe74818f5"
   },
   "outputs": [
    {
     "name": "stdout",
     "output_type": "stream",
     "text": [
      " 10 pushed to stack\n",
      " 20 pushed to stack\n",
      " 30 pushed to stack\n",
      " 30 popped from stack\n",
      "Top element is  20 \n"
     ]
    }
   ],
   "source": [
    "# Python program for linked list implementation of stack \n",
    "\n",
    "# Class to represent a node \n",
    "class StackNode: \n",
    "\n",
    "\t# Constructor to initialize a node \n",
    "\tdef __init__(self, data): \n",
    "\t\tself.data = data \n",
    "\t\tself.next = None\n",
    "\n",
    "class Stack: \n",
    "\t\n",
    "\t# Constructor to initialize the root of linked list \n",
    "\tdef __init__(self): \n",
    "\t\tself.root = None\n",
    "\n",
    "\tdef isEmpty(self): \n",
    "\t\treturn True if self.root is None else False\n",
    "\n",
    "\tdef push(self, data): \n",
    "\t\tnewNode = StackNode(data) \n",
    "\t\tnewNode.next = self.root \n",
    "\t\tself.root = newNode \n",
    "\t\tprint(\"% d pushed to stack\" %(data))\n",
    "\t\n",
    "\tdef pop(self): \n",
    "\t\tif (self.isEmpty()): \n",
    "\t\t\treturn float(\"-inf\") \n",
    "\t\ttemp = self.root \n",
    "\t\tself.root = self.root.next\n",
    "\t\tpopped = temp.data \n",
    "\t\treturn popped \n",
    "\t\n",
    "\tdef peek(self): \n",
    "\t\tif self.isEmpty(): \n",
    "\t\t\treturn float(\"-inf\") \n",
    "\t\treturn self.root.data \n",
    "\n",
    "# Driver program to test above class \n",
    "stack = Stack() \n",
    "stack.push(10)\t\t \n",
    "stack.push(20) \n",
    "stack.push(30) \n",
    "\n",
    "print(\"% d popped from stack\" %(stack.pop()))\n",
    "print(\"Top element is % d \" %(stack.peek())) "
   ]
  },
  {
   "cell_type": "markdown",
   "metadata": {
    "id": "6Lm-RlcJY4t-"
   },
   "source": [
    "Binary Tree | Set 1 (Introduction)"
   ]
  },
  {
   "cell_type": "code",
   "execution_count": 24,
   "metadata": {
    "colab": {
     "base_uri": "https://localhost:8080/",
     "height": 35
    },
    "executionInfo": {
     "elapsed": 996,
     "status": "ok",
     "timestamp": 1603030495799,
     "user": {
      "displayName": "Yeh Hsiang-Yuan",
      "photoUrl": "",
      "userId": "13595099456339688272"
     },
     "user_tz": -480
    },
    "id": "ax3_wLi1Y73G",
    "outputId": "d974625f-2da2-4f09-85ec-23f16b96b2e0"
   },
   "outputs": [
    {
     "data": {
      "application/vnd.google.colaboratory.intrinsic+json": {
       "type": "string"
      },
      "text/plain": [
       "'4 becomes left child of 2 \\n\\t\\t1 \\n\\t/\\t \\\\ \\n\\t2\\t\\t 3 \\n\\t/ \\\\\\t / \\\\ \\n4 None None None \\n/ \\\\ \\nNone None'"
      ]
     },
     "execution_count": 24,
     "metadata": {
      "tags": []
     },
     "output_type": "execute_result"
    }
   ],
   "source": [
    "class Node: \n",
    "\tdef __init__(self,key): \n",
    "\t\tself.left = None\n",
    "\t\tself.right = None\n",
    "\t\tself.val = key \n",
    "\n",
    "\n",
    "# create root \n",
    "root = Node(1) \n",
    "''' following is the tree after above statement \n",
    "\t\t1 \n",
    "\t/ \\ \n",
    "\tNone None'''\n",
    "\n",
    "root.left\t = Node(2); \n",
    "root.right\t = Node(3); \n",
    "\t\n",
    "''' 2 and 3 become left and right children of 1 \n",
    "\t\t1 \n",
    "\t\t/ \\ \n",
    "\t\t2\t 3 \n",
    "\t/ \\ / \\ \n",
    "None None None None'''\n",
    "\n",
    "\n",
    "root.left.left = Node(4); \n",
    "'''4 becomes left child of 2 \n",
    "\t\t1 \n",
    "\t/\t \\ \n",
    "\t2\t\t 3 \n",
    "\t/ \\\t / \\ \n",
    "4 None None None \n",
    "/ \\ \n",
    "None None'''\n"
   ]
  },
  {
   "cell_type": "markdown",
   "metadata": {
    "id": "c39lyIJPZXBj"
   },
   "source": [
    "Graph and its representations"
   ]
  },
  {
   "cell_type": "code",
   "execution_count": 25,
   "metadata": {
    "colab": {
     "base_uri": "https://localhost:8080/",
     "height": 269
    },
    "executionInfo": {
     "elapsed": 1000,
     "status": "ok",
     "timestamp": 1603030507225,
     "user": {
      "displayName": "Yeh Hsiang-Yuan",
      "photoUrl": "",
      "userId": "13595099456339688272"
     },
     "user_tz": -480
    },
    "id": "aOwRSgaTZZQz",
    "outputId": "a23bdd1e-6fc2-4d01-9627-18e40d6e318b"
   },
   "outputs": [
    {
     "name": "stdout",
     "output_type": "stream",
     "text": [
      "Adjacency list of vertex 0\n",
      " head -> 4 -> 1 \n",
      "\n",
      "Adjacency list of vertex 1\n",
      " head -> 4 -> 3 -> 2 -> 0 \n",
      "\n",
      "Adjacency list of vertex 2\n",
      " head -> 3 -> 1 \n",
      "\n",
      "Adjacency list of vertex 3\n",
      " head -> 4 -> 2 -> 1 \n",
      "\n",
      "Adjacency list of vertex 4\n",
      " head -> 3 -> 1 -> 0 \n",
      "\n"
     ]
    }
   ],
   "source": [
    "\"\"\" \n",
    "A Python program to demonstrate the adjacency \n",
    "list representation of the graph \n",
    "\"\"\"\n",
    "\n",
    "# A class to represent the adjacency list of the node \n",
    "class AdjNode: \n",
    "\tdef __init__(self, data): \n",
    "\t\tself.vertex = data \n",
    "\t\tself.next = None\n",
    "\n",
    "\n",
    "# A class to represent a graph. A graph \n",
    "# is the list of the adjacency lists. \n",
    "# Size of the array will be the no. of the \n",
    "# vertices \"V\" \n",
    "class Graph: \n",
    "\tdef __init__(self, vertices): \n",
    "\t\tself.V = vertices \n",
    "\t\tself.graph = [None] * self.V \n",
    "\n",
    "\t# Function to add an edge in an undirected graph \n",
    "\tdef add_edge(self, src, dest): \n",
    "\t\t# Adding the node to the source node \n",
    "\t\tnode = AdjNode(dest) \n",
    "\t\tnode.next = self.graph[src] \n",
    "\t\tself.graph[src] = node \n",
    "\n",
    "\t\t# Adding the source node to the destination as \n",
    "\t\t# it is the undirected graph \n",
    "\t\tnode = AdjNode(src) \n",
    "\t\tnode.next = self.graph[dest] \n",
    "\t\tself.graph[dest] = node \n",
    "\n",
    "\t# Function to print the graph \n",
    "\tdef print_graph(self): \n",
    "\t\tfor i in range(self.V): \n",
    "\t\t\tprint(\"Adjacency list of vertex {}\\n head\".format(i), end=\"\") \n",
    "\t\t\ttemp = self.graph[i] \n",
    "\t\t\twhile temp: \n",
    "\t\t\t\tprint(\" -> {}\".format(temp.vertex), end=\"\") \n",
    "\t\t\t\ttemp = temp.next\n",
    "\t\t\tprint(\" \\n\") \n",
    "\n",
    "\n",
    "# Driver program to the above graph class \n",
    "if __name__ == \"__main__\": \n",
    "\tV = 5\n",
    "\tgraph = Graph(V) \n",
    "\tgraph.add_edge(0, 1) \n",
    "\tgraph.add_edge(0, 4) \n",
    "\tgraph.add_edge(1, 2) \n",
    "\tgraph.add_edge(1, 3) \n",
    "\tgraph.add_edge(1, 4) \n",
    "\tgraph.add_edge(2, 3) \n",
    "\tgraph.add_edge(3, 4) \n",
    "\n",
    "\tgraph.print_graph() "
   ]
  }
 ],
 "metadata": {
  "colab": {
   "collapsed_sections": [],
   "name": "OOP3.ipynb",
   "provenance": []
  },
  "kernelspec": {
   "display_name": "Python 3",
   "language": "python",
   "name": "python3"
  },
  "language_info": {
   "codemirror_mode": {
    "name": "ipython",
    "version": 3
   },
   "file_extension": ".py",
   "mimetype": "text/x-python",
   "name": "python",
   "nbconvert_exporter": "python",
   "pygments_lexer": "ipython3",
   "version": "3.7.3"
  }
 },
 "nbformat": 4,
 "nbformat_minor": 1
}
