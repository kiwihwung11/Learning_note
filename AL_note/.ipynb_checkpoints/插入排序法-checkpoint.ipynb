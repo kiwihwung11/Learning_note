{
 "cells": [
  {
   "cell_type": "code",
   "execution_count": 1,
   "metadata": {},
   "outputs": [
    {
     "name": "stdout",
     "output_type": "stream",
     "text": [
      "[14, 17, 28, 32, 52]\n"
     ]
    }
   ],
   "source": [
    "#升覓排序\n",
    "data=[52,14,28,32,17]\n",
    "d_length=len(data)\n",
    "y=0\n",
    "\n",
    "while y < d_length:\n",
    "    d_num=data[y]\n",
    "    z=y-1\n",
    "    while z>=0 and d_num<data[z]: #兩個條件都符合才會執行，才不會亂跑\n",
    "        data[z+1]=data[z]    #換位子(比較大的往右放)\n",
    "        z=z-1           #控制數值，控制data[]的比較位置\n",
    "    data[z+1]=d_num #換位子(比較小的往左放)\n",
    "    y=y+1 #最外層迴圈前進\n",
    "    \n",
    "print(data)"
   ]
  },
  {
   "cell_type": "code",
   "execution_count": 2,
   "metadata": {},
   "outputs": [
    {
     "name": "stdout",
     "output_type": "stream",
     "text": [
      "[52, 32, 28, 17, 14]\n"
     ]
    }
   ],
   "source": [
    "#降覓排序\n",
    "data=[52,14,28,32,17]\n",
    "d_length=len(data)\n",
    "y=0\n",
    "\n",
    "while y < d_length: #設Y=2 執行\n",
    "    d_num=data[y] #d_num=28\n",
    "    z=y-1 # z=1\n",
    "    while z>=0 and d_num>data[z]: #條件改成大於才執行 在y=2條件下 z>=0成立--(z=1) d_num--(28)>data[1]--(14)\n",
    "        data[z+1]=data[z]    #data[2]=data[1] 換位子(比較小的往右放) --> 14換到28的位置\n",
    "        z=z-1           #控制位子 變成z=0\n",
    "    data[z+1]=d_num  #data[1]--(14)=d_num--(28) 換位子(比較大的往左放)-->28換到14的位置\n",
    "    y=y+1 #外層迴圈前進\n",
    "    \n",
    "print(data)"
   ]
  },
  {
   "cell_type": "code",
   "execution_count": 3,
   "metadata": {},
   "outputs": [
    {
     "name": "stdout",
     "output_type": "stream",
     "text": [
      "[82, 38, 11, 7, 2]\n"
     ]
    }
   ],
   "source": [
    "data=[82,11,7,2,38]\n",
    "d_length=len(data)\n",
    "y=0\n",
    "\n",
    "while y < d_length:\n",
    "    d_num=data[y] \n",
    "    z=y-1 \n",
    "    while z>=0 and d_num>data[z]:\n",
    "        data[z+1]=data[z]   \n",
    "        z=z-1           \n",
    "    data[z+1]=d_num  \n",
    "    y=y+1 \n",
    "    \n",
    "print(data)"
   ]
  },
  {
   "cell_type": "code",
   "execution_count": null,
   "metadata": {},
   "outputs": [],
   "source": []
  }
 ],
 "metadata": {
  "kernelspec": {
   "display_name": "Python 3",
   "language": "python",
   "name": "python3"
  },
  "language_info": {
   "codemirror_mode": {
    "name": "ipython",
    "version": 3
   },
   "file_extension": ".py",
   "mimetype": "text/x-python",
   "name": "python",
   "nbconvert_exporter": "python",
   "pygments_lexer": "ipython3",
   "version": "3.7.0"
  }
 },
 "nbformat": 4,
 "nbformat_minor": 2
}
