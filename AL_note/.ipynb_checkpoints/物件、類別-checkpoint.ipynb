{
 "cells": [
  {
   "cell_type": "code",
   "execution_count": null,
   "metadata": {
    "colab": {},
    "colab_type": "code",
    "id": "3piV5QWMUiOp"
   },
   "outputs": [],
   "source": [
    "def testyield():\n",
    "  yield \"Welcome to Guru99 Python Tutorials\"\n",
    "output = testyield()\n",
    "print(output)  "
   ]
  },
  {
   "cell_type": "markdown",
   "metadata": {
    "colab_type": "text",
    "id": "WFpCgm5-Abj9"
   },
   "source": [
    "CLASS"
   ]
  },
  {
   "cell_type": "code",
   "execution_count": 1,
   "metadata": {
    "colab": {
     "base_uri": "https://localhost:8080/",
     "height": 50
    },
    "colab_type": "code",
    "id": "GCZS-rdDAfdr",
    "outputId": "adc4ec6c-678d-4e30-d7c5-b901a9b8f9bf"
   },
   "outputs": [
    {
     "name": "stdout",
     "output_type": "stream",
     "text": [
      "Apple\n",
      "Hello world.\n"
     ]
    }
   ],
   "source": [
    "class FirstClass:\n",
    "  str = \"Apple\"\n",
    "  def fun(self):     # 在類別內的函數都至少要傳入參數self\n",
    "    return \"Hello world.\"\n",
    "\n",
    "my_obj = FirstClass()  # 宣告一個類別為FirstClass的物件\n",
    "print(my_obj.str)     # 使用物件的公開變數\n",
    "print(my_obj.fun())    # 使用物件的公開函數"
   ]
  },
  {
   "cell_type": "code",
   "execution_count": 7,
   "metadata": {
    "colab": {
     "base_uri": "https://localhost:8080/",
     "height": 50
    },
    "colab_type": "code",
    "id": "PakJB-BUCSmj",
    "outputId": "ffe3c19b-fdda-4455-fce3-a1f6990255f1"
   },
   "outputs": [
    {
     "name": "stdout",
     "output_type": "stream",
     "text": [
      "Robert\n",
      "40\n"
     ]
    }
   ],
   "source": [
    "class Student:\n",
    "  name = None\n",
    "  age = None\n",
    "  \n",
    "  def setData(self, name, age):\n",
    "    self.name=name\n",
    "    self.age=age\n",
    "\n",
    "robert = Student()\n",
    "robert.setData(\"Robert\",40)\n",
    "print(robert.name)\n",
    "print(robert.age)"
   ]
  },
  {
   "cell_type": "code",
   "execution_count": 12,
   "metadata": {
    "colab": {
     "base_uri": "https://localhost:8080/",
     "height": 34
    },
    "colab_type": "code",
    "id": "-326ipuIBuRs",
    "outputId": "8daa540b-acfe-4b8b-dd7f-98d9db7fbe67"
   },
   "outputs": [
    {
     "data": {
      "text/plain": [
       "21.604938271604937"
      ]
     },
     "execution_count": 12,
     "metadata": {
      "tags": []
     },
     "output_type": "execute_result"
    }
   ],
   "source": [
    "class Person:\n",
    "  def __init__(self, name, gender, height, weight, birthday):\n",
    "    self.name = name\n",
    "    self.gender = gender\n",
    "    self.height = height\n",
    "    self.weight = weight\n",
    "    self.birthday = birthday\n",
    "  \n",
    "  def get_BMI(self):\n",
    "      return (self.weight/ ((self.height/100)**2))\n",
    "\n",
    "p1 = Person(\"Peter\", \"male\", 180.0, 70.0, \"1987/8/7\")\n",
    "p1.get_BMI()"
   ]
  },
  {
   "cell_type": "code",
   "execution_count": 20,
   "metadata": {
    "colab": {
     "base_uri": "https://localhost:8080/",
     "height": 214
    },
    "colab_type": "code",
    "id": "a3RDCuJYDopi",
    "outputId": "aaeb787c-3b5d-422f-b46b-12ba6e4690bf"
   },
   "outputs": [
    {
     "ename": "AttributeError",
     "evalue": "ignored",
     "output_type": "error",
     "traceback": [
      "\u001b[0;31m---------------------------------------------------------------------------\u001b[0m",
      "\u001b[0;31mAttributeError\u001b[0m                            Traceback (most recent call last)",
      "\u001b[0;32m<ipython-input-20-7502a643023b>\u001b[0m in \u001b[0;36m<module>\u001b[0;34m()\u001b[0m\n\u001b[1;32m      7\u001b[0m \u001b[0;34m\u001b[0m\u001b[0m\n\u001b[1;32m      8\u001b[0m \u001b[0mtest\u001b[0m \u001b[0;34m=\u001b[0m \u001b[0mTest\u001b[0m\u001b[0;34m(\u001b[0m\u001b[0;34m'hello'\u001b[0m\u001b[0;34m)\u001b[0m\u001b[0;34m\u001b[0m\u001b[0;34m\u001b[0m\u001b[0m\n\u001b[0;32m----> 9\u001b[0;31m \u001b[0mprint\u001b[0m\u001b[0;34m(\u001b[0m\u001b[0mtest\u001b[0m\u001b[0;34m.\u001b[0m\u001b[0m__bar\u001b[0m\u001b[0;34m(\u001b[0m\u001b[0;34m)\u001b[0m\u001b[0;34m)\u001b[0m\u001b[0;34m\u001b[0m\u001b[0;34m\u001b[0m\u001b[0m\n\u001b[0m\u001b[1;32m     10\u001b[0m \u001b[0mprint\u001b[0m\u001b[0;34m(\u001b[0m\u001b[0mtest\u001b[0m\u001b[0;34m.\u001b[0m\u001b[0m__foo\u001b[0m\u001b[0;34m)\u001b[0m\u001b[0;34m\u001b[0m\u001b[0;34m\u001b[0m\u001b[0m\n",
      "\u001b[0;31mAttributeError\u001b[0m: 'Test' object has no attribute '__bar'"
     ]
    }
   ],
   "source": [
    "class Test:\n",
    "  def __init__ (self, foo):\n",
    "    self.__foo = foo\n",
    "  \n",
    "  def __bar(self):\n",
    "    print(self.__foo)\n",
    "\n",
    "test = Test('hello')\n",
    "print(test.__bar())\n",
    "print(test.__foo)\n"
   ]
  },
  {
   "cell_type": "code",
   "execution_count": 8,
   "metadata": {
    "colab": {
     "base_uri": "https://localhost:8080/",
     "height": 84
    },
    "colab_type": "code",
    "id": "vNJRMjEfDF6c",
    "outputId": "8c80be0d-dd51-4cde-ed9b-a758bc9e7988"
   },
   "outputs": [
    {
     "name": "stdout",
     "output_type": "stream",
     "text": [
      "Andy 正在學習 Python 程式設計\n",
      "Andy 能觀看所有電影\n",
      "Amy 正在學習 C 語言程式設計\n",
      "Amy 只能觀看普通電影\n"
     ]
    }
   ],
   "source": [
    "class Student:\n",
    "  def __init__ (self, name, age):\n",
    "    self.name = name\n",
    "    self.age = age\n",
    "  def study (self, course_name):\n",
    "    print('%s 正在學習 %s' % (self.name, course_name))\n",
    "  \n",
    "  def watch_movie(self):\n",
    "    if self.age < 18:\n",
    "      print('%s 只能觀看普通電影' % self.name)\n",
    "    else:\n",
    "      print('%s 能觀看所有電影' % self.name)\n",
    "\n",
    "def main():\n",
    "  stu1 = Student('Andy', 38)    \n",
    "  stu1.study('Python 程式設計')  \n",
    "  stu1.watch_movie()            \n",
    "  stu2 = Student('Amy', 15)\n",
    "  stu2.study('C 語言程式設計')\n",
    "  stu2.watch_movie()\n",
    "\n",
    "if __name__ == '__main__':\n",
    "  main()"
   ]
  },
  {
   "cell_type": "code",
   "execution_count": 9,
   "metadata": {
    "colab": {
     "base_uri": "https://localhost:8080/",
     "height": 151
    },
    "colab_type": "code",
    "id": "J48uaTamDYkC",
    "outputId": "d35eeebd-75ca-4a2c-8711-d56ac8404926"
   },
   "outputs": [
    {
     "name": "stdout",
     "output_type": "stream",
     "text": [
      "參數1\n",
      "參數2\n",
      "===分隔線===\n",
      "我是參數1\n",
      "參數2\n",
      "===分隔線===\n",
      "我是參數1\n",
      "我是參數2\n"
     ]
    }
   ],
   "source": [
    "class FirstClass:\n",
    "  str1 = \"Apple\"\n",
    "  str2 = \"IBM\"\n",
    "  def __init__(self, str1=\"參數1\", str2=\"參數2\"):\n",
    "    self.str1 = str1\n",
    "    self.str2 = str2\n",
    "  \n",
    "  def fun(self):\n",
    "    return \"Hello world.\"\n",
    " \n",
    "my_obj = FirstClass()\n",
    "print(my_obj.str1)\n",
    "print(my_obj.str2)\n",
    "print(\"===分隔線===\")\n",
    "my_obj2 = FirstClass(\"我是參數1\")\n",
    "print(my_obj2.str1)\n",
    "print(my_obj2.str2)\n",
    "print(\"===分隔線===\")\n",
    "my_obj3 = FirstClass(\"我是參數1\", \"我是參數2\")\n",
    "print(my_obj3.str1)\n",
    "print(my_obj3.str2)"
   ]
  },
  {
   "cell_type": "code",
   "execution_count": 22,
   "metadata": {
    "colab": {
     "base_uri": "https://localhost:8080/",
     "height": 50
    },
    "colab_type": "code",
    "id": "WVDvicuRU7QU",
    "outputId": "01644198-528f-4869-e872-e41bc7fd9948"
   },
   "outputs": [
    {
     "name": "stdout",
     "output_type": "stream",
     "text": [
      "Hello World\n",
      "<generator object generator_test at 0x7f69d17c7938>\n"
     ]
    }
   ],
   "source": [
    "# Normal function\n",
    "def normal_test():\n",
    "  return \"Hello World\"\n",
    "\t\n",
    "#Generator function\n",
    "def generator_test():\n",
    "\tyield \"Hello World\"\n",
    "print(normal_test()) #call to normal function\n",
    "print(generator_test()) # call to generator function"
   ]
  },
  {
   "cell_type": "code",
   "execution_count": 23,
   "metadata": {
    "colab": {
     "base_uri": "https://localhost:8080/",
     "height": 34
    },
    "colab_type": "code",
    "id": "XwZF1IggU_SM",
    "outputId": "d14f92f1-f3f0-4ed3-d9ae-495d62a03a8f"
   },
   "outputs": [
    {
     "name": "stdout",
     "output_type": "stream",
     "text": [
      "Hello World\n"
     ]
    }
   ],
   "source": [
    "print(next(generator_test()))  # will output Hello World"
   ]
  },
  {
   "cell_type": "code",
   "execution_count": 24,
   "metadata": {
    "colab": {
     "base_uri": "https://localhost:8080/",
     "height": 34
    },
    "colab_type": "code",
    "id": "xJa8haJlVC1L",
    "outputId": "e962e38a-f59c-4317-ee88-66562dc1e9e2"
   },
   "outputs": [
    {
     "name": "stdout",
     "output_type": "stream",
     "text": [
      "[0, 2, 4, 6, 8]\n"
     ]
    }
   ],
   "source": [
    "def even_numbers(n):\n",
    "  for x in range(n):\n",
    "    if (x%2==0): \n",
    "      yield x       \n",
    "num = even_numbers(10)\n",
    "print(list(num))"
   ]
  },
  {
   "cell_type": "code",
   "execution_count": 25,
   "metadata": {
    "colab": {
     "base_uri": "https://localhost:8080/",
     "height": 151
    },
    "colab_type": "code",
    "id": "ismZCoFbVKvM",
    "outputId": "72049031-bb5a-4158-f545-b9fae0dac1c3"
   },
   "outputs": [
    {
     "name": "stdout",
     "output_type": "stream",
     "text": [
      "<generator object getFibonnaciSeries at 0x7f69d18511a8>\n",
      "0\n",
      "1\n",
      "1\n",
      "2\n",
      "3\n",
      "5\n",
      "8\n"
     ]
    }
   ],
   "source": [
    "def getFibonnaciSeries(num):\n",
    "  c1, c2 = 0, 1\n",
    "  count = 0\n",
    "  while count < num:\n",
    "    yield c1\n",
    "    c3 = c1 + c2\n",
    "    c1 = c2\n",
    "    c2 = c3\n",
    "    count += 1\n",
    "fin = getFibonnaciSeries(7)\n",
    "print(fin)\n",
    "for i in fin:\n",
    "  print(i)"
   ]
  },
  {
   "cell_type": "code",
   "execution_count": 26,
   "metadata": {
    "colab": {
     "base_uri": "https://localhost:8080/",
     "height": 252
    },
    "colab_type": "code",
    "id": "JHVTOrdCblk0",
    "outputId": "769a7d3e-2ff7-4713-d591-29200967cf7b"
   },
   "outputs": [
    {
     "name": "stdout",
     "output_type": "stream",
     "text": [
      "==== Details ====\n",
      "Brand: Toyota RAV\n",
      "Wheels number: 4\n",
      "Doors number: 5\n",
      "Air-bags number: 4\n",
      "Sunroof: True\n",
      "=================\n",
      "==== Details ====\n",
      "Brand: BMW X5\n",
      "Wheels number: 4\n",
      "Doors number: 5\n",
      "Air-bags number: 6\n",
      "Sunroof: True\n",
      "=================\n"
     ]
    }
   ],
   "source": [
    "class Car:\n",
    "  wheels_number = 4     \n",
    "  car_doors = 4          \n",
    "  passengers = 4         \n",
    "  def __init__(self, wheels_number=4, car_doors=4, passengers=4):\n",
    "      self.wheels_number = wheels_number\n",
    "      self.car_doors = car_doors\n",
    "      self.passengers = passengers\n",
    " \n",
    "# SUV也是一種車子，所以繼承Car\n",
    "class SUV(Car):\n",
    "  brand_name = \"\"        \n",
    "  air_bag = 2           \n",
    "  sunroof = True         \n",
    "  def __init__(self, wheels_number, car_doors, passengers, brand_name=\"\", air_bag=2, sunroof=False):\n",
    "    super().__init__(wheels_number, car_doors, passengers)\n",
    "    self.brand_name = brand_name\n",
    "    self.air_bag = air_bag\n",
    "    self.sunroof = sunroof\n",
    " \n",
    "  def getDetails(self):\n",
    "    print(\"==== Details ====\")\n",
    "    print(\"Brand:\", self.brand_name)\n",
    "    print(\"Wheels number:\", self.wheels_number)    \n",
    "    print(\"Doors number:\", self.car_doors)        \n",
    "    print(\"Air-bags number:\", self.air_bag)\n",
    "    print(\"Sunroof:\", self.sunroof)\n",
    "    print(\"=================\")\n",
    " \n",
    "# 宣告一台Toyota RAV的休旅車(SUV)\n",
    "toyota_rav = SUV(4, 5, 5, \"Toyota RAV\", 4, True)\n",
    "toyota_rav.getDetails()\n",
    "# 宣告一台BMW X5的休旅車\n",
    "bmw_x5 = SUV(4, 5, 5, \"BMW X5\", 6, True)\n",
    "bmw_x5.getDetails()"
   ]
  },
  {
   "cell_type": "code",
   "execution_count": 28,
   "metadata": {
    "colab": {
     "base_uri": "https://localhost:8080/",
     "height": 67
    },
    "colab_type": "code",
    "id": "FKrwAYMYbpE8",
    "outputId": "773ec94b-57fd-4f73-ed77-3a41a195da44"
   },
   "outputs": [
    {
     "name": "stdout",
     "output_type": "stream",
     "text": [
      "Drive this Toyota RAV to my vacation.\n",
      "Drive this BMW X5 to my vacation.\n",
      "Take this Volvo Bus to my vacation.\n"
     ]
    }
   ],
   "source": [
    "class Car:\n",
    "  def __init__(self, wheels_number=4, car_doors=4, passengers=4):\n",
    "    self.wheels_number = wheels_number\n",
    "    self.car_doors = car_doors\n",
    "    self.passengers = passengers\n",
    "  def drive(self):\n",
    "    print(\"Drive a car.\")\n",
    " \n",
    "# SUV也是一種車子，所以繼承Car\n",
    "class SUV(Car):\n",
    "  def __init__(self, wheels_number, car_doors, passengers, brand_name=\"\", air_bag=2, sunroof=False):\n",
    "    super().__init__(wheels_number, car_doors, passengers)\n",
    "    self.brand_name = brand_name\n",
    "    self.air_bag = air_bag\n",
    "    self.sunroof = sunroof\n",
    "    # 覆寫父類別的drive\n",
    "  def drive(self):\n",
    "    print(\"Drive this {0} to my vacation.\".format(self.brand_name))\n",
    " \n",
    "  def getDetails(self):\n",
    "    print(\"==== Details ====\")\n",
    "    print(\"Brand:\", self.brand_name)\n",
    "    print(\"Wheels number:\", self.wheels_number)    # 可直接呼叫父類別的變數(屬性)\n",
    "    print(\"Doors number:\", self.car_doors)         # 可直接呼叫父類別的變數(屬性)\n",
    "    print(\"Air-bags number:\", self.air_bag)\n",
    "    print(\"Sunroof:\", self.sunroof)\n",
    "    print(\"=================\")\n",
    " \n",
    "# Bus也是一種車子，所以繼承Car\n",
    "class Bus(Car):\n",
    "  def __init__(self, wheels_number, car_doors, passengers, brand_name=\"\", air_bag=0):\n",
    "    super().__init__(wheels_number, car_doors, passengers)\n",
    "    self.brand_name = brand_name\n",
    "    self.air_bag = air_bag\n",
    " \n",
    "  # 覆寫父類別的drive\n",
    "  def drive(self):\n",
    "    print(\"Take this {0} to my vacation.\".format(self.brand_name))\n",
    " \n",
    "  def getDetails(self):\n",
    "    print(\"==== Details ====\")\n",
    "    print(\"Brand:\", self.brand_name)\n",
    "    print(\"Wheels number:\", self.wheels_number)  # 可直接呼叫父類別的變數(屬性)\n",
    "    print(\"Doors number:\", self.car_doors)  # 可直接呼叫父類別的變數(屬性)\n",
    "    print(\"Air-bags number:\", self.air_bag)\n",
    "    print(\"=================\")\n",
    " \n",
    "# 宣告一台Toyota RAV的休旅車(SUV)\n",
    "toyota_rav = SUV(4, 5, 5, \"Toyota RAV\", 4, True)\n",
    "# 宣告一台BMW X5的休旅車\n",
    "bmw_x5 = SUV(4, 5, 5, \"BMW X5\", 6, True)\n",
    "# 宣告一台Volvo Bus的巴士\n",
    "volvo_bus = Bus(4, 3, 50, \"Volvo Bus\", 0)\n",
    "# 分別呼叫各種車輛的drive()方法\n",
    "def letsDrive(cars):\n",
    "  for car in cars:\n",
    "    car.drive()\n",
    " \n",
    "letsDrive([toyota_rav, bmw_x5, volvo_bus])"
   ]
  },
  {
   "cell_type": "code",
   "execution_count": 31,
   "metadata": {
    "colab": {
     "base_uri": "https://localhost:8080/",
     "height": 34
    },
    "colab_type": "code",
    "id": "xoEnvREDc1LO",
    "outputId": "7cf4ccec-8d79-4b31-fa49-2bd8db54a62d"
   },
   "outputs": [
    {
     "name": "stdout",
     "output_type": "stream",
     "text": [
      "我是英勇的阿古斯\n"
     ]
    }
   ],
   "source": [
    "class Charactor():\n",
    "  def __init__(self, name):\n",
    "      self.name = name\n",
    "\n",
    "class Person(Charactor):\n",
    "  def __init__(self, name, personality):\n",
    "    super().__init__(name)\n",
    "    self.personality = personality\n",
    "  def show(self):\n",
    "    print(\"我是\"+self.personality+\"的\"+self.name)\n",
    "\n",
    "p1 = Person(\"阿古斯\", \"英勇\")\n",
    "p1.show()"
   ]
  },
  {
   "cell_type": "code",
   "execution_count": 32,
   "metadata": {
    "colab": {
     "base_uri": "https://localhost:8080/",
     "height": 50
    },
    "colab_type": "code",
    "id": "SqU5ua03dARH",
    "outputId": "f02109fe-763c-40db-f2a1-c03d46a2405d"
   },
   "outputs": [
    {
     "name": "stdout",
     "output_type": "stream",
     "text": [
      "我是英勇的阿古斯\n",
      "龍族: 泡泡龍\n"
     ]
    }
   ],
   "source": [
    "class Charactor():\n",
    "  def __init__(self, name):\n",
    "    self.name = name\n",
    "\n",
    "class Person(Charactor):\n",
    "  def __init__(self, name, personality):\n",
    "    super().__init__(name)\n",
    "    self.personality = personality\n",
    "  def show(self):\n",
    "    print(\"我是\"+self.personality+\"的\"+self.name)\n",
    "\n",
    "class Monster(Charactor):\n",
    "  def __init__(self, name, race):\n",
    "    super().__init__(name)\n",
    "    self.race = race\n",
    "  def show(self):\n",
    "    print(self.race+\": \"+self.name)\n",
    "\n",
    "p1 = Person(\"阿古斯\", \"英勇\")\n",
    "p1.show()\n",
    "m = Monster(\"泡泡龍\", \"龍族\")\n",
    "m.show()"
   ]
  },
  {
   "cell_type": "code",
   "execution_count": 33,
   "metadata": {
    "colab": {
     "base_uri": "https://localhost:8080/",
     "height": 50
    },
    "colab_type": "code",
    "id": "mQ0bFWprdCc1",
    "outputId": "3fe3ab0c-e2a2-4e43-9ea1-57decdb20015"
   },
   "outputs": [
    {
     "name": "stdout",
     "output_type": "stream",
     "text": [
      "我是英勇的阿古斯\n",
      "龍族: 泡泡龍\n"
     ]
    }
   ],
   "source": [
    "from abc import ABCMeta, abstractmethod\n",
    "class Charactor(metaclass=ABCMeta):\n",
    "  def __init__(self, name):\n",
    "    self.name = name\n",
    "  @abstractmethod\n",
    "  def show(self):\n",
    "    pass\n",
    "\n",
    "class Person(Charactor):\n",
    "  def __init__(self, name, personality):\n",
    "    super().__init__(name)\n",
    "    self.personality = personality\n",
    "  def show(self):\n",
    "    print(\"我是\"+self.personality+\"的\"+self.name)\n",
    "\n",
    "class Monster(Charactor):\n",
    "  def __init__(self, name, race):\n",
    "    super().__init__(name)\n",
    "    self.race = race\n",
    "  def show(self):\n",
    "    print(self.race+\": \"+self.name)\n",
    "\n",
    "p1 = Person(\"阿古斯\", \"英勇\")\n",
    "p1.show()\n",
    "m = Monster(\"泡泡龍\", \"龍族\")\n",
    "m.show()"
   ]
  }
 ],
 "metadata": {
  "colab": {
   "collapsed_sections": [],
   "name": "OOP.ipynb",
   "provenance": []
  },
  "kernelspec": {
   "display_name": "Python 3",
   "language": "python",
   "name": "python3"
  },
  "language_info": {
   "codemirror_mode": {
    "name": "ipython",
    "version": 3
   },
   "file_extension": ".py",
   "mimetype": "text/x-python",
   "name": "python",
   "nbconvert_exporter": "python",
   "pygments_lexer": "ipython3",
   "version": "3.7.0"
  }
 },
 "nbformat": 4,
 "nbformat_minor": 1
}
